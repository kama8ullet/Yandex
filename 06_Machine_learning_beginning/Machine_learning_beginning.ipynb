{
 "cells": [
  {
   "cell_type": "markdown",
   "metadata": {},
   "source": [
    "# Рекомендация тарифов для оператора мобильной связи"
   ]
  },
  {
   "cell_type": "markdown",
   "metadata": {},
   "source": [
    "Оператор мобильной связи выяснил: многие клиенты пользуются архивными тарифами. Оператор хочет построить систему, способную проанализировать поведение клиентов и предложить пользователям новый тариф: «Смарт» или «Ультра».\n",
    "\n",
    "В нашем распоряжении данные о поведении клиентов, которые уже перешли на эти тарифы. Цель - построить модель для задачи классификации, которая выберет подходящий тариф."
   ]
  },
  {
   "cell_type": "markdown",
   "metadata": {},
   "source": [
    "## Описание данных"
   ]
  },
  {
   "cell_type": "markdown",
   "metadata": {},
   "source": [
    "Каждый объект в наборе данных — это информация о поведении одного пользователя за месяц. Известно:\n",
    "\n",
    "- `сalls` — количество звонков,\n",
    "- `minutes` — суммарная длительность звонков в минутах,\n",
    "- `messages` — количество sms-сообщений,\n",
    "- `mb_used` — израсходованный интернет-трафик в Мб,\n",
    "- `is_ultra` — каким тарифом пользовался в течение месяца («Ультра» — 1, «Смарт» — 0)."
   ]
  },
  {
   "cell_type": "markdown",
   "metadata": {},
   "source": [
    "## Оглавление"
   ]
  },
  {
   "cell_type": "markdown",
   "metadata": {},
   "source": [
    "1. Первичный анализ данных\n",
    "2. Подготовка данных для работы с моделями. Выборки, разбиение\n",
    "3. Исследование моделей машинного обучения\n",
    "4. Проверка лучшей модели на тестовой выборке\n",
    "5. Проверка лучшей модели на адекватность"
   ]
  },
  {
   "cell_type": "code",
   "execution_count": 2,
   "metadata": {},
   "outputs": [],
   "source": [
    "# Библиотеки которые будут использованы в данном проекте.\n",
    "import pandas as pd\n",
    "import math\n",
    "import random\n",
    "\n",
    "from sklearn.tree import DecisionTreeClassifier\n",
    "from sklearn.linear_model import LogisticRegression\n",
    "from sklearn.ensemble import RandomForestClassifier\n",
    "from sklearn.linear_model import LinearRegression\n",
    "from sklearn.model_selection import train_test_split\n",
    "from sklearn.metrics import mean_squared_error\n",
    "from sklearn.metrics import accuracy_score"
   ]
  },
  {
   "cell_type": "markdown",
   "metadata": {},
   "source": [
    "# Первичный анализ данных"
   ]
  },
  {
   "cell_type": "code",
   "execution_count": 2,
   "metadata": {},
   "outputs": [],
   "source": [
    "try:\n",
    "    df = pd.read_csv('users_behavior.csv')\n",
    "except FileNotFoundError: \n",
    "    df = pd.read_csv('https://code.s3.yandex.net/datasets/users_behavior.csv')"
   ]
  },
  {
   "cell_type": "code",
   "execution_count": 3,
   "metadata": {},
   "outputs": [
    {
     "name": "stdout",
     "output_type": "stream",
     "text": [
      "<class 'pandas.core.frame.DataFrame'>\n",
      "RangeIndex: 3214 entries, 0 to 3213\n",
      "Data columns (total 5 columns):\n",
      " #   Column    Non-Null Count  Dtype  \n",
      "---  ------    --------------  -----  \n",
      " 0   calls     3214 non-null   float64\n",
      " 1   minutes   3214 non-null   float64\n",
      " 2   messages  3214 non-null   float64\n",
      " 3   mb_used   3214 non-null   float64\n",
      " 4   is_ultra  3214 non-null   int64  \n",
      "dtypes: float64(4), int64(1)\n",
      "memory usage: 125.7 KB\n"
     ]
    }
   ],
   "source": [
    "df.info()"
   ]
  },
  {
   "cell_type": "code",
   "execution_count": 4,
   "metadata": {},
   "outputs": [
    {
     "data": {
      "text/html": [
       "<div>\n",
       "<style scoped>\n",
       "    .dataframe tbody tr th:only-of-type {\n",
       "        vertical-align: middle;\n",
       "    }\n",
       "\n",
       "    .dataframe tbody tr th {\n",
       "        vertical-align: top;\n",
       "    }\n",
       "\n",
       "    .dataframe thead th {\n",
       "        text-align: right;\n",
       "    }\n",
       "</style>\n",
       "<table border=\"1\" class=\"dataframe\">\n",
       "  <thead>\n",
       "    <tr style=\"text-align: right;\">\n",
       "      <th></th>\n",
       "      <th>calls</th>\n",
       "      <th>minutes</th>\n",
       "      <th>messages</th>\n",
       "      <th>mb_used</th>\n",
       "      <th>is_ultra</th>\n",
       "    </tr>\n",
       "  </thead>\n",
       "  <tbody>\n",
       "    <tr>\n",
       "      <th>0</th>\n",
       "      <td>40.0</td>\n",
       "      <td>311.90</td>\n",
       "      <td>83.0</td>\n",
       "      <td>19915.42</td>\n",
       "      <td>0</td>\n",
       "    </tr>\n",
       "    <tr>\n",
       "      <th>1</th>\n",
       "      <td>85.0</td>\n",
       "      <td>516.75</td>\n",
       "      <td>56.0</td>\n",
       "      <td>22696.96</td>\n",
       "      <td>0</td>\n",
       "    </tr>\n",
       "    <tr>\n",
       "      <th>2</th>\n",
       "      <td>77.0</td>\n",
       "      <td>467.66</td>\n",
       "      <td>86.0</td>\n",
       "      <td>21060.45</td>\n",
       "      <td>0</td>\n",
       "    </tr>\n",
       "    <tr>\n",
       "      <th>3</th>\n",
       "      <td>106.0</td>\n",
       "      <td>745.53</td>\n",
       "      <td>81.0</td>\n",
       "      <td>8437.39</td>\n",
       "      <td>1</td>\n",
       "    </tr>\n",
       "    <tr>\n",
       "      <th>4</th>\n",
       "      <td>66.0</td>\n",
       "      <td>418.74</td>\n",
       "      <td>1.0</td>\n",
       "      <td>14502.75</td>\n",
       "      <td>0</td>\n",
       "    </tr>\n",
       "    <tr>\n",
       "      <th>5</th>\n",
       "      <td>58.0</td>\n",
       "      <td>344.56</td>\n",
       "      <td>21.0</td>\n",
       "      <td>15823.37</td>\n",
       "      <td>0</td>\n",
       "    </tr>\n",
       "    <tr>\n",
       "      <th>6</th>\n",
       "      <td>57.0</td>\n",
       "      <td>431.64</td>\n",
       "      <td>20.0</td>\n",
       "      <td>3738.90</td>\n",
       "      <td>1</td>\n",
       "    </tr>\n",
       "    <tr>\n",
       "      <th>7</th>\n",
       "      <td>15.0</td>\n",
       "      <td>132.40</td>\n",
       "      <td>6.0</td>\n",
       "      <td>21911.60</td>\n",
       "      <td>0</td>\n",
       "    </tr>\n",
       "    <tr>\n",
       "      <th>8</th>\n",
       "      <td>7.0</td>\n",
       "      <td>43.39</td>\n",
       "      <td>3.0</td>\n",
       "      <td>2538.67</td>\n",
       "      <td>1</td>\n",
       "    </tr>\n",
       "    <tr>\n",
       "      <th>9</th>\n",
       "      <td>90.0</td>\n",
       "      <td>665.41</td>\n",
       "      <td>38.0</td>\n",
       "      <td>17358.61</td>\n",
       "      <td>0</td>\n",
       "    </tr>\n",
       "  </tbody>\n",
       "</table>\n",
       "</div>"
      ],
      "text/plain": [
       "   calls  minutes  messages   mb_used  is_ultra\n",
       "0   40.0   311.90      83.0  19915.42         0\n",
       "1   85.0   516.75      56.0  22696.96         0\n",
       "2   77.0   467.66      86.0  21060.45         0\n",
       "3  106.0   745.53      81.0   8437.39         1\n",
       "4   66.0   418.74       1.0  14502.75         0\n",
       "5   58.0   344.56      21.0  15823.37         0\n",
       "6   57.0   431.64      20.0   3738.90         1\n",
       "7   15.0   132.40       6.0  21911.60         0\n",
       "8    7.0    43.39       3.0   2538.67         1\n",
       "9   90.0   665.41      38.0  17358.61         0"
      ]
     },
     "execution_count": 4,
     "metadata": {},
     "output_type": "execute_result"
    }
   ],
   "source": [
    "df.head(10)"
   ]
  },
  {
   "cell_type": "code",
   "execution_count": 5,
   "metadata": {},
   "outputs": [],
   "source": [
    "df['calls'] = df['calls'].astype('int64')\n",
    "df['messages'] = df['messages'].astype('int64')"
   ]
  },
  {
   "cell_type": "code",
   "execution_count": 6,
   "metadata": {},
   "outputs": [
    {
     "data": {
      "text/plain": [
       "0    2229\n",
       "1     985\n",
       "Name: is_ultra, dtype: int64"
      ]
     },
     "execution_count": 6,
     "metadata": {},
     "output_type": "execute_result"
    }
   ],
   "source": [
    "df.is_ultra.value_counts()"
   ]
  },
  {
   "cell_type": "markdown",
   "metadata": {},
   "source": [
    "## Вывод первичного анализа поступивших данных\n",
    "Согласно первичному анализу данные не нуждаются в преобразованиях. Данные изначально валидны и не содержат пропусков.\n",
    "- Были изменены типы данных в столбцах `calls`, `messages` с float64 -> int64\n",
    "- Первичное исследование показало, что в целевом признаке есть явный дисбаланс в сторону класса - 0. Учтем данный факт при разбиении датасета на выборки."
   ]
  },
  {
   "cell_type": "markdown",
   "metadata": {},
   "source": [
    "# Подготовка данных для работы с моделями. Выборки, разбиение"
   ]
  },
  {
   "cell_type": "code",
   "execution_count": 7,
   "metadata": {},
   "outputs": [],
   "source": [
    "# Разделим датасет на две части. Первая содержит все признаки. Вторая - целевой признак.\n",
    "X = df.drop('is_ultra', axis=1)\n",
    "y = df['is_ultra']"
   ]
  },
  {
   "cell_type": "code",
   "execution_count": 8,
   "metadata": {},
   "outputs": [],
   "source": [
    "random_state = 12345"
   ]
  },
  {
   "cell_type": "code",
   "execution_count": 9,
   "metadata": {},
   "outputs": [],
   "source": [
    "#Сначала отделим от датасета 60% наблюдений - это будет обучающая выборка. \n",
    "#Оставщиеся данные поделим пополам - на тестовую и валидационную выборки.\n",
    "#Таким образом мы разобьем данные в соотношении 60/20/20.\n",
    "train_features, valid_features, train_target, valid_target = train_test_split(X, y, test_size=0.4, random_state=random_state, stratify=y)\n",
    "valid_features, test_features, valid_target, test_target = train_test_split(valid_features, valid_target, test_size=0.5, random_state=random_state, stratify=valid_target)\n"
   ]
  },
  {
   "cell_type": "markdown",
   "metadata": {},
   "source": [
    "## Вывод по разбиению данных\n",
    "Данные были разделены на три выборки в соотношении 60\\20\\20 соответсвенно:\n",
    "\n",
    "- `train_features` -  тренировочный набор данных без целевого признака\n",
    "- `train_target` - тренировочный набор данных с целевым признаком\n",
    "\n",
    "\n",
    "- `valid_features` - валидационный набор данных без целевого признака\n",
    "- `valid_target` - валидационный набор данных с целевым признаком\n",
    "\n",
    "\n",
    "- `test_features` - тестовый набор данных без целевого признака\n",
    "- `test_target` - тестовый набор данных с целевым признаком"
   ]
  },
  {
   "cell_type": "markdown",
   "metadata": {},
   "source": [
    "# Исследование моделей машинного обучения"
   ]
  },
  {
   "cell_type": "code",
   "execution_count": 10,
   "metadata": {},
   "outputs": [],
   "source": [
    "# Нам предстоит проделать большое количество операций по оценке эффективности моделей при разных значениях гиперпареметров\n",
    "# Создадим функцию благодаря которой сможем наглядно увидеть какая модель и при каких параметрах окажется лучшей\n",
    "best_accuracy = dict()\n",
    "\n",
    "def best_accuracy_func(model, model_info, accuracy):\n",
    "    best_accuracy['model'] = model\n",
    "    best_accuracy['model_info'] = model_info\n",
    "    best_accuracy['accuracy'] = accuracy\n",
    "    return best_accuracy\n",
    "\n",
    "# Значения по умолчанию\n",
    "best_accuracy = best_accuracy_func('Undefined', 'Undefined', 0)"
   ]
  },
  {
   "cell_type": "code",
   "execution_count": 11,
   "metadata": {},
   "outputs": [
    {
     "name": "stdout",
     "output_type": "stream",
     "text": [
      "Descision Tree; max_depth= 1 ; accuracy = 0.7402799377916018\n",
      "Descision Tree; max_depth= 2 ; accuracy = 0.7729393468118196\n",
      "Descision Tree; max_depth= 3 ; accuracy = 0.7776049766718507\n",
      "Descision Tree; max_depth= 4 ; accuracy = 0.7542768273716952\n",
      "Descision Tree; max_depth= 5 ; accuracy = 0.7853810264385692\n",
      "Descision Tree; max_depth= 6 ; accuracy = 0.7744945567651633\n",
      "Descision Tree; max_depth= 7 ; accuracy = 0.7869362363919129\n",
      "Descision Tree; max_depth= 8 ; accuracy = 0.80248833592535\n",
      "Descision Tree; max_depth= 9 ; accuracy = 0.7822706065318819\n",
      "Descision Tree; max_depth= 10 ; accuracy = 0.7729393468118196\n"
     ]
    }
   ],
   "source": [
    "# Посмотрим на Дерево решений\n",
    "for depth in range(1, 11):\n",
    "    modelDecisionTree = DecisionTreeClassifier(random_state=random_state, max_depth=depth) \n",
    "    modelDecisionTree.fit(train_features,train_target)\n",
    "    predictions_valid = modelDecisionTree.predict(valid_features)\n",
    "    \n",
    "    accuracy = accuracy_score(valid_target, predictions_valid)\n",
    "    \n",
    "    model_info = 'Descision Tree; max_depth= ' + str(depth)\n",
    "    \n",
    "    if (accuracy > best_accuracy['accuracy']):\n",
    "        best_accuracy_dict = best_accuracy_func(modelDecisionTree, model_info, accuracy)\n",
    "    print(model_info,'; accuracy =', accuracy)"
   ]
  },
  {
   "cell_type": "code",
   "execution_count": 12,
   "metadata": {
    "scrolled": true
   },
   "outputs": [
    {
     "name": "stdout",
     "output_type": "stream",
     "text": [
      "Random Forest; n_estimators = 10 ; max_depth= 1 ; accuracy = 0.7573872472783826\n",
      "Random Forest; n_estimators = 10 ; max_depth= 2 ; accuracy = 0.776049766718507\n",
      "Random Forest; n_estimators = 10 ; max_depth= 3 ; accuracy = 0.7947122861586314\n",
      "Random Forest; n_estimators = 10 ; max_depth= 4 ; accuracy = 0.7916018662519441\n",
      "Random Forest; n_estimators = 10 ; max_depth= 5 ; accuracy = 0.7884914463452566\n",
      "Random Forest; n_estimators = 10 ; max_depth= 6 ; accuracy = 0.8040435458786936\n",
      "Random Forest; n_estimators = 10 ; max_depth= 7 ; accuracy = 0.7931570762052877\n",
      "Random Forest; n_estimators = 10 ; max_depth= 8 ; accuracy = 0.7978227060653188\n",
      "Random Forest; n_estimators = 10 ; max_depth= 9 ; accuracy = 0.8040435458786936\n",
      "Random Forest; n_estimators = 10 ; max_depth= 10 ; accuracy = 0.7993779160186625\n",
      "\n",
      "Random Forest; n_estimators = 15 ; max_depth= 1 ; accuracy = 0.7558320373250389\n",
      "Random Forest; n_estimators = 15 ; max_depth= 2 ; accuracy = 0.7869362363919129\n",
      "Random Forest; n_estimators = 15 ; max_depth= 3 ; accuracy = 0.7978227060653188\n",
      "Random Forest; n_estimators = 15 ; max_depth= 4 ; accuracy = 0.7931570762052877\n",
      "Random Forest; n_estimators = 15 ; max_depth= 5 ; accuracy = 0.7962674961119751\n",
      "Random Forest; n_estimators = 15 ; max_depth= 6 ; accuracy = 0.7947122861586314\n",
      "Random Forest; n_estimators = 15 ; max_depth= 7 ; accuracy = 0.7916018662519441\n",
      "Random Forest; n_estimators = 15 ; max_depth= 8 ; accuracy = 0.8040435458786936\n",
      "Random Forest; n_estimators = 15 ; max_depth= 9 ; accuracy = 0.807153965785381\n",
      "Random Forest; n_estimators = 15 ; max_depth= 10 ; accuracy = 0.8040435458786936\n",
      "\n",
      "Random Forest; n_estimators = 20 ; max_depth= 1 ; accuracy = 0.7309486780715396\n",
      "Random Forest; n_estimators = 20 ; max_depth= 2 ; accuracy = 0.7853810264385692\n",
      "Random Forest; n_estimators = 20 ; max_depth= 3 ; accuracy = 0.7978227060653188\n",
      "Random Forest; n_estimators = 20 ; max_depth= 4 ; accuracy = 0.7947122861586314\n",
      "Random Forest; n_estimators = 20 ; max_depth= 5 ; accuracy = 0.7978227060653188\n",
      "Random Forest; n_estimators = 20 ; max_depth= 6 ; accuracy = 0.8009331259720062\n",
      "Random Forest; n_estimators = 20 ; max_depth= 7 ; accuracy = 0.7962674961119751\n",
      "Random Forest; n_estimators = 20 ; max_depth= 8 ; accuracy = 0.8118195956454122\n",
      "Random Forest; n_estimators = 20 ; max_depth= 9 ; accuracy = 0.8133748055987559\n",
      "Random Forest; n_estimators = 20 ; max_depth= 10 ; accuracy = 0.8087091757387247\n",
      "\n",
      "Random Forest; n_estimators = 25 ; max_depth= 1 ; accuracy = 0.7309486780715396\n",
      "Random Forest; n_estimators = 25 ; max_depth= 2 ; accuracy = 0.7931570762052877\n",
      "Random Forest; n_estimators = 25 ; max_depth= 3 ; accuracy = 0.7931570762052877\n",
      "Random Forest; n_estimators = 25 ; max_depth= 4 ; accuracy = 0.7916018662519441\n",
      "Random Forest; n_estimators = 25 ; max_depth= 5 ; accuracy = 0.7947122861586314\n",
      "Random Forest; n_estimators = 25 ; max_depth= 6 ; accuracy = 0.7993779160186625\n",
      "Random Forest; n_estimators = 25 ; max_depth= 7 ; accuracy = 0.7978227060653188\n",
      "Random Forest; n_estimators = 25 ; max_depth= 8 ; accuracy = 0.8118195956454122\n",
      "Random Forest; n_estimators = 25 ; max_depth= 9 ; accuracy = 0.8118195956454122\n",
      "Random Forest; n_estimators = 25 ; max_depth= 10 ; accuracy = 0.807153965785381\n",
      "\n",
      "Random Forest; n_estimators = 30 ; max_depth= 1 ; accuracy = 0.7293934681181959\n",
      "Random Forest; n_estimators = 30 ; max_depth= 2 ; accuracy = 0.7931570762052877\n",
      "Random Forest; n_estimators = 30 ; max_depth= 3 ; accuracy = 0.7962674961119751\n",
      "Random Forest; n_estimators = 30 ; max_depth= 4 ; accuracy = 0.7916018662519441\n",
      "Random Forest; n_estimators = 30 ; max_depth= 5 ; accuracy = 0.7962674961119751\n",
      "Random Forest; n_estimators = 30 ; max_depth= 6 ; accuracy = 0.7993779160186625\n",
      "Random Forest; n_estimators = 30 ; max_depth= 7 ; accuracy = 0.8087091757387247\n",
      "Random Forest; n_estimators = 30 ; max_depth= 8 ; accuracy = 0.8195956454121306\n",
      "Random Forest; n_estimators = 30 ; max_depth= 9 ; accuracy = 0.8133748055987559\n",
      "Random Forest; n_estimators = 30 ; max_depth= 10 ; accuracy = 0.8102643856920684\n",
      "\n",
      "Random Forest; n_estimators = 35 ; max_depth= 1 ; accuracy = 0.7293934681181959\n",
      "Random Forest; n_estimators = 35 ; max_depth= 2 ; accuracy = 0.7916018662519441\n",
      "Random Forest; n_estimators = 35 ; max_depth= 3 ; accuracy = 0.7947122861586314\n",
      "Random Forest; n_estimators = 35 ; max_depth= 4 ; accuracy = 0.7931570762052877\n",
      "Random Forest; n_estimators = 35 ; max_depth= 5 ; accuracy = 0.7993779160186625\n",
      "Random Forest; n_estimators = 35 ; max_depth= 6 ; accuracy = 0.7993779160186625\n",
      "Random Forest; n_estimators = 35 ; max_depth= 7 ; accuracy = 0.8087091757387247\n",
      "Random Forest; n_estimators = 35 ; max_depth= 8 ; accuracy = 0.8149300155520995\n",
      "Random Forest; n_estimators = 35 ; max_depth= 9 ; accuracy = 0.8195956454121306\n",
      "Random Forest; n_estimators = 35 ; max_depth= 10 ; accuracy = 0.8087091757387247\n",
      "\n",
      "Random Forest; n_estimators = 40 ; max_depth= 1 ; accuracy = 0.7293934681181959\n",
      "Random Forest; n_estimators = 40 ; max_depth= 2 ; accuracy = 0.7931570762052877\n",
      "Random Forest; n_estimators = 40 ; max_depth= 3 ; accuracy = 0.7947122861586314\n",
      "Random Forest; n_estimators = 40 ; max_depth= 4 ; accuracy = 0.7947122861586314\n",
      "Random Forest; n_estimators = 40 ; max_depth= 5 ; accuracy = 0.7947122861586314\n",
      "Random Forest; n_estimators = 40 ; max_depth= 6 ; accuracy = 0.8009331259720062\n",
      "Random Forest; n_estimators = 40 ; max_depth= 7 ; accuracy = 0.8118195956454122\n",
      "Random Forest; n_estimators = 40 ; max_depth= 8 ; accuracy = 0.8164852255054432\n",
      "Random Forest; n_estimators = 40 ; max_depth= 9 ; accuracy = 0.8211508553654744\n",
      "Random Forest; n_estimators = 40 ; max_depth= 10 ; accuracy = 0.8118195956454122\n",
      "\n",
      "Random Forest; n_estimators = 45 ; max_depth= 1 ; accuracy = 0.7558320373250389\n",
      "Random Forest; n_estimators = 45 ; max_depth= 2 ; accuracy = 0.7916018662519441\n",
      "Random Forest; n_estimators = 45 ; max_depth= 3 ; accuracy = 0.7931570762052877\n",
      "Random Forest; n_estimators = 45 ; max_depth= 4 ; accuracy = 0.7947122861586314\n",
      "Random Forest; n_estimators = 45 ; max_depth= 5 ; accuracy = 0.7962674961119751\n",
      "Random Forest; n_estimators = 45 ; max_depth= 6 ; accuracy = 0.8040435458786936\n",
      "Random Forest; n_estimators = 45 ; max_depth= 7 ; accuracy = 0.8102643856920684\n",
      "Random Forest; n_estimators = 45 ; max_depth= 8 ; accuracy = 0.8133748055987559\n",
      "Random Forest; n_estimators = 45 ; max_depth= 9 ; accuracy = 0.8195956454121306\n",
      "Random Forest; n_estimators = 45 ; max_depth= 10 ; accuracy = 0.8102643856920684\n",
      "\n",
      "Random Forest; n_estimators = 50 ; max_depth= 1 ; accuracy = 0.7542768273716952\n",
      "Random Forest; n_estimators = 50 ; max_depth= 2 ; accuracy = 0.7947122861586314\n",
      "Random Forest; n_estimators = 50 ; max_depth= 3 ; accuracy = 0.7947122861586314\n",
      "Random Forest; n_estimators = 50 ; max_depth= 4 ; accuracy = 0.7978227060653188\n",
      "Random Forest; n_estimators = 50 ; max_depth= 5 ; accuracy = 0.8009331259720062\n",
      "Random Forest; n_estimators = 50 ; max_depth= 6 ; accuracy = 0.7993779160186625\n",
      "Random Forest; n_estimators = 50 ; max_depth= 7 ; accuracy = 0.8118195956454122\n",
      "Random Forest; n_estimators = 50 ; max_depth= 8 ; accuracy = 0.8118195956454122\n",
      "Random Forest; n_estimators = 50 ; max_depth= 9 ; accuracy = 0.8180404354587869\n",
      "Random Forest; n_estimators = 50 ; max_depth= 10 ; accuracy = 0.8133748055987559\n",
      "\n"
     ]
    }
   ],
   "source": [
    "# Посмотрим на Случайный лес\n",
    "for est in range(10, 51, 5):\n",
    "    for depth in range (1, 11):\n",
    "        modelRandomForest = RandomForestClassifier(n_estimators=est, random_state=random_state, max_depth=depth)\n",
    "        modelRandomForest.fit(train_features, train_target)\n",
    "        predictions_valid = modelRandomForest.predict(valid_features)\n",
    "        \n",
    "        accuracy = accuracy_score(valid_target, predictions_valid)\n",
    "        \n",
    "        model_info = \"Random Forest; n_estimators = \" + str(est) + \" ; max_depth= \" + str(depth)\n",
    "        if (accuracy > best_accuracy['accuracy']):\n",
    "            best_accuracy_dict = best_accuracy_func(modelRandomForest, model_info, accuracy)\n",
    "        print(model_info,'; accuracy =', accuracy)\n",
    "    print() "
   ]
  },
  {
   "cell_type": "code",
   "execution_count": 13,
   "metadata": {},
   "outputs": [
    {
     "name": "stdout",
     "output_type": "stream",
     "text": [
      "Logistic Regression ; accuracy = 0.7387247278382582\n"
     ]
    }
   ],
   "source": [
    "# Посмотрим на Логическую регрессию \n",
    "modelLogisticRegression = LogisticRegression(random_state=random_state)\n",
    "modelLogisticRegression.fit(train_features, train_target)\n",
    "predictions_valid = modelLogisticRegression.predict(valid_features)\n",
    "\n",
    "accuracy = accuracy_score(valid_target, predictions_valid)\n",
    "        \n",
    "model_info = 'Logistic Regression'\n",
    "if (accuracy > best_accuracy_dict['accuracy']):\n",
    "    best_accuracy_dict = best_accuracy_func(modelLogisticRegression, model_info, accuracy)\n",
    "print(model_info,'; accuracy =', accuracy)"
   ]
  },
  {
   "cell_type": "code",
   "execution_count": 14,
   "metadata": {},
   "outputs": [
    {
     "name": "stdout",
     "output_type": "stream",
     "text": [
      "Linear Regression ; accuracy = 0.4439015580302285\n"
     ]
    }
   ],
   "source": [
    "# Посмотрим на Линейную регрессию\n",
    "modelLinearRegression = LinearRegression()\n",
    "modelLinearRegression.fit(train_features, train_target)\n",
    "predictions_valid = modelLinearRegression.predict(valid_features)\n",
    "\n",
    "accuracy = math.sqrt(mean_squared_error(valid_target, predictions_valid))\n",
    "        \n",
    "model_info = 'Linear Regression'\n",
    "if (accuracy > best_accuracy_dict['accuracy']):\n",
    "    best_accuracy_dict = best_accuracy_func(modelLinearRegression, model_info, accuracy)\n",
    "print(model_info,'; accuracy =', accuracy)"
   ]
  },
  {
   "cell_type": "code",
   "execution_count": 15,
   "metadata": {},
   "outputs": [
    {
     "data": {
      "text/plain": [
       "{'model': RandomForestClassifier(max_depth=9, n_estimators=40, random_state=12345),\n",
       " 'model_info': 'Random Forest; n_estimators = 40 ; max_depth= 9',\n",
       " 'accuracy': 0.8211508553654744}"
      ]
     },
     "execution_count": 15,
     "metadata": {},
     "output_type": "execute_result"
    }
   ],
   "source": [
    "# Посмотрим, какая модель оказалась лучше всего\n",
    "best_accuracy_dict"
   ]
  },
  {
   "cell_type": "markdown",
   "metadata": {},
   "source": [
    "## Вывод по исследованию моделей машинного обучения\n",
    "- Лучший результат в точности показала модель Случайного леса с параметрами max_depth=9, n_estimators=40 выдав показатель точности в 0.82\n",
    "- Худший результат в точности показала модель Линейной регрессии, выдав показатель точности в 0.44\n",
    "- Решающее дерево показало достойные результаты с точностью в районе 0.77\n"
   ]
  },
  {
   "cell_type": "markdown",
   "metadata": {},
   "source": [
    "## Проверка лучшей модели на тестовой выборке"
   ]
  },
  {
   "cell_type": "code",
   "execution_count": 16,
   "metadata": {},
   "outputs": [
    {
     "name": "stdout",
     "output_type": "stream",
     "text": [
      "Test accuracy = 0.8087091757387247\n"
     ]
    }
   ],
   "source": [
    "# Настало время проверить нашу модель на тестовых выборках\n",
    "model = best_accuracy['model']\n",
    "test_predicted = model.predict(test_features)\n",
    "print('Test accuracy =', accuracy_score(test_target, test_predicted))"
   ]
  },
  {
   "cell_type": "markdown",
   "metadata": {},
   "source": [
    "## Проверка лучшей модели на адекватность"
   ]
  },
  {
   "cell_type": "code",
   "execution_count": 19,
   "metadata": {},
   "outputs": [
    {
     "name": "stdout",
     "output_type": "stream",
     "text": [
      "Random predictions accuracy =  0.52099533437014\n"
     ]
    }
   ],
   "source": [
    "random_predictions = pd.Series(test_target.apply(lambda x: round(random.random())), index=test_target.index)\n",
    "\n",
    "# оценим точность на этих данных\n",
    "print('Random predictions accuracy = ', accuracy_score(test_target, random_predictions))"
   ]
  },
  {
   "cell_type": "markdown",
   "metadata": {},
   "source": [
    "Модель прошла проверку на адекватность"
   ]
  },
  {
   "cell_type": "markdown",
   "metadata": {},
   "source": [
    "# Итоговый вывод\n",
    "\n",
    "- Были изучены предложение данные.\n",
    "- Полученный датасет был разделен на три выборки в пропорции 60\\20\\20.\n",
    "- Исследованы четыре модели машинного обучения с различными гиперпараметрами.\n",
    "- Определена лучшая модель машинного обучения с перечнем параметров для неё. (Случайный лес с параметрами max_depth=8, n_estimators=30 выдал показатель точности в 0.83)\n",
    "- Лучшая модель машинного обучения прошла проверку на адекватность.\n",
    "- Работа лучшей модели на тестовой выборке показало точность в 0.808\n"
   ]
  }
 ],
 "metadata": {
  "kernelspec": {
   "display_name": "Python 3 (ipykernel)",
   "language": "python",
   "name": "python3"
  },
  "language_info": {
   "codemirror_mode": {
    "name": "ipython",
    "version": 3
   },
   "file_extension": ".py",
   "mimetype": "text/x-python",
   "name": "python",
   "nbconvert_exporter": "python",
   "pygments_lexer": "ipython3",
   "version": "3.9.12"
  },
  "toc": {
   "base_numbering": 1,
   "nav_menu": {},
   "number_sections": true,
   "sideBar": true,
   "skip_h1_title": true,
   "title_cell": "Table of Contents",
   "title_sidebar": "Contents",
   "toc_cell": false,
   "toc_position": {},
   "toc_section_display": true,
   "toc_window_display": false
  }
 },
 "nbformat": 4,
 "nbformat_minor": 4
}
