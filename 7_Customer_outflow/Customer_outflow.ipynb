{
 "cells": [
  {
   "cell_type": "markdown",
   "id": "07772645-9aa6-43de-9f0d-8fa5b04733e7",
   "metadata": {},
   "source": [
    "# Отток клиентов"
   ]
  },
  {
   "cell_type": "markdown",
   "id": "1192984a-74fe-4bf7-8cc3-7cca12c1ea92",
   "metadata": {},
   "source": [
    "Из «Бета-Банка» стали уходить клиенты. Каждый месяц. Немного, но заметно. Банковские маркетологи посчитали: сохранять текущих клиентов дешевле, чем привлекать новых.\n",
    "\n",
    "Нужно спрогнозировать, уйдёт клиент из банка в ближайшее время или нет. Нам предоставлены исторические данные о поведении клиентов и расторжении договоров с банком. \n"
   ]
  },
  {
   "cell_type": "markdown",
   "id": "b6b09247-ed73-4674-a4e6-a1ac1d1155c0",
   "metadata": {},
   "source": [
    "## Описание признаков\n",
    "Признаки\n",
    "- RowNumber — индекс строки в данных\n",
    "- CustomerId — уникальный идентификатор клиента\n",
    "- Surname — фамилия\n",
    "- CreditScore — кредитный рейтинг\n",
    "- Geography — страна проживания\n",
    "- Gender — пол\n",
    "- Age — возраст\n",
    "- Tenure — сколько лет человек является клиентом банка\n",
    "- Balance — баланс на счёте\n",
    "- NumOfProducts — количество продуктов банка, используемых клиентом\n",
    "- HasCrCard — наличие кредитной карты\n",
    "- IsActiveMember — активность клиента\n",
    "- EstimatedSalary — предполагаемая зарплата\n",
    "\n",
    "Целевой признак\n",
    "- Exited — факт ухода клиента\n"
   ]
  },
  {
   "cell_type": "markdown",
   "id": "ca6acd8d-c8b2-4891-b69a-4882e496d590",
   "metadata": {
    "tags": []
   },
   "source": [
    "## Оглавление\n",
    "\n",
    "1. Первичный анализ данных\n",
    "2. Предобработка данных\n",
    "3. Исследование данных\n",
    "4. Исследование моделей машинного обучения\n",
    "5. Финальное тестирование"
   ]
  },
  {
   "cell_type": "code",
   "execution_count": 1,
   "id": "ac7a3b66-da2b-4ee5-ae02-762dc16d42b7",
   "metadata": {},
   "outputs": [],
   "source": [
    "# блок импорта\n",
    "import pandas as pd\n",
    "import numpy as np\n",
    "import matplotlib.pyplot as plt\n",
    "import math\n",
    "import missingno as msno\n",
    "import random\n",
    "import seaborn as sns\n",
    "\n",
    "from sklearn.preprocessing import OneHotEncoder\n",
    "\n",
    "# Подготовка моделей\n",
    "from sklearn.preprocessing import StandardScaler\n",
    "from sklearn.model_selection import train_test_split\n",
    "from sklearn.utils import shuffle\n",
    "\n",
    "# Модели\n",
    "from sklearn.tree import DecisionTreeClassifier\n",
    "from sklearn.linear_model import LogisticRegression\n",
    "from sklearn.ensemble import RandomForestClassifier\n",
    "\n",
    "# Метрики\n",
    "from sklearn.metrics import accuracy_score\n",
    "from sklearn.metrics import confusion_matrix\n",
    "from sklearn.metrics import recall_score\n",
    "from sklearn.metrics import precision_score\n",
    "from sklearn.metrics import f1_score\n",
    "from sklearn.metrics import roc_auc_score\n",
    "from sklearn.metrics import roc_curve"
   ]
  },
  {
   "cell_type": "markdown",
   "id": "3e076caf-7dc9-4925-8e67-53febe6313c6",
   "metadata": {},
   "source": [
    "# Первичный анализ данных"
   ]
  },
  {
   "cell_type": "code",
   "execution_count": 2,
   "id": "a95fdcf6-b735-4c67-ba12-ae77b6f84393",
   "metadata": {},
   "outputs": [],
   "source": [
    "try:\n",
    "    df = pd.read_csv('Churn.csv')\n",
    "except FileNotFoundError: \n",
    "    df = pd.read_csv('https://code.s3.yandex.net/datasets/Churn.csv')"
   ]
  },
  {
   "cell_type": "code",
   "execution_count": 3,
   "id": "81fc1dde-79ab-4c85-9c30-5f56f6b24dae",
   "metadata": {},
   "outputs": [
    {
     "name": "stdout",
     "output_type": "stream",
     "text": [
      "<class 'pandas.core.frame.DataFrame'>\n",
      "RangeIndex: 10000 entries, 0 to 9999\n",
      "Data columns (total 14 columns):\n",
      " #   Column           Non-Null Count  Dtype  \n",
      "---  ------           --------------  -----  \n",
      " 0   RowNumber        10000 non-null  int64  \n",
      " 1   CustomerId       10000 non-null  int64  \n",
      " 2   Surname          10000 non-null  object \n",
      " 3   CreditScore      10000 non-null  int64  \n",
      " 4   Geography        10000 non-null  object \n",
      " 5   Gender           10000 non-null  object \n",
      " 6   Age              10000 non-null  int64  \n",
      " 7   Tenure           9091 non-null   float64\n",
      " 8   Balance          10000 non-null  float64\n",
      " 9   NumOfProducts    10000 non-null  int64  \n",
      " 10  HasCrCard        10000 non-null  int64  \n",
      " 11  IsActiveMember   10000 non-null  int64  \n",
      " 12  EstimatedSalary  10000 non-null  float64\n",
      " 13  Exited           10000 non-null  int64  \n",
      "dtypes: float64(3), int64(8), object(3)\n",
      "memory usage: 1.1+ MB\n"
     ]
    }
   ],
   "source": [
    "df.info()"
   ]
  },
  {
   "cell_type": "code",
   "execution_count": 4,
   "id": "f41c812c-018a-421e-bfc6-cc43a43faa0a",
   "metadata": {},
   "outputs": [
    {
     "data": {
      "text/html": [
       "<div>\n",
       "<style scoped>\n",
       "    .dataframe tbody tr th:only-of-type {\n",
       "        vertical-align: middle;\n",
       "    }\n",
       "\n",
       "    .dataframe tbody tr th {\n",
       "        vertical-align: top;\n",
       "    }\n",
       "\n",
       "    .dataframe thead th {\n",
       "        text-align: right;\n",
       "    }\n",
       "</style>\n",
       "<table border=\"1\" class=\"dataframe\">\n",
       "  <thead>\n",
       "    <tr style=\"text-align: right;\">\n",
       "      <th></th>\n",
       "      <th>RowNumber</th>\n",
       "      <th>CustomerId</th>\n",
       "      <th>Surname</th>\n",
       "      <th>CreditScore</th>\n",
       "      <th>Geography</th>\n",
       "      <th>Gender</th>\n",
       "      <th>Age</th>\n",
       "      <th>Tenure</th>\n",
       "      <th>Balance</th>\n",
       "      <th>NumOfProducts</th>\n",
       "      <th>HasCrCard</th>\n",
       "      <th>IsActiveMember</th>\n",
       "      <th>EstimatedSalary</th>\n",
       "      <th>Exited</th>\n",
       "    </tr>\n",
       "  </thead>\n",
       "  <tbody>\n",
       "    <tr>\n",
       "      <th>9990</th>\n",
       "      <td>9991</td>\n",
       "      <td>15798964</td>\n",
       "      <td>Nkemakonam</td>\n",
       "      <td>714</td>\n",
       "      <td>Germany</td>\n",
       "      <td>Male</td>\n",
       "      <td>33</td>\n",
       "      <td>3.0</td>\n",
       "      <td>35016.60</td>\n",
       "      <td>1</td>\n",
       "      <td>1</td>\n",
       "      <td>0</td>\n",
       "      <td>53667.08</td>\n",
       "      <td>0</td>\n",
       "    </tr>\n",
       "    <tr>\n",
       "      <th>9991</th>\n",
       "      <td>9992</td>\n",
       "      <td>15769959</td>\n",
       "      <td>Ajuluchukwu</td>\n",
       "      <td>597</td>\n",
       "      <td>France</td>\n",
       "      <td>Female</td>\n",
       "      <td>53</td>\n",
       "      <td>4.0</td>\n",
       "      <td>88381.21</td>\n",
       "      <td>1</td>\n",
       "      <td>1</td>\n",
       "      <td>0</td>\n",
       "      <td>69384.71</td>\n",
       "      <td>1</td>\n",
       "    </tr>\n",
       "    <tr>\n",
       "      <th>9992</th>\n",
       "      <td>9993</td>\n",
       "      <td>15657105</td>\n",
       "      <td>Chukwualuka</td>\n",
       "      <td>726</td>\n",
       "      <td>Spain</td>\n",
       "      <td>Male</td>\n",
       "      <td>36</td>\n",
       "      <td>2.0</td>\n",
       "      <td>0.00</td>\n",
       "      <td>1</td>\n",
       "      <td>1</td>\n",
       "      <td>0</td>\n",
       "      <td>195192.40</td>\n",
       "      <td>0</td>\n",
       "    </tr>\n",
       "    <tr>\n",
       "      <th>9993</th>\n",
       "      <td>9994</td>\n",
       "      <td>15569266</td>\n",
       "      <td>Rahman</td>\n",
       "      <td>644</td>\n",
       "      <td>France</td>\n",
       "      <td>Male</td>\n",
       "      <td>28</td>\n",
       "      <td>7.0</td>\n",
       "      <td>155060.41</td>\n",
       "      <td>1</td>\n",
       "      <td>1</td>\n",
       "      <td>0</td>\n",
       "      <td>29179.52</td>\n",
       "      <td>0</td>\n",
       "    </tr>\n",
       "    <tr>\n",
       "      <th>9994</th>\n",
       "      <td>9995</td>\n",
       "      <td>15719294</td>\n",
       "      <td>Wood</td>\n",
       "      <td>800</td>\n",
       "      <td>France</td>\n",
       "      <td>Female</td>\n",
       "      <td>29</td>\n",
       "      <td>2.0</td>\n",
       "      <td>0.00</td>\n",
       "      <td>2</td>\n",
       "      <td>0</td>\n",
       "      <td>0</td>\n",
       "      <td>167773.55</td>\n",
       "      <td>0</td>\n",
       "    </tr>\n",
       "    <tr>\n",
       "      <th>9995</th>\n",
       "      <td>9996</td>\n",
       "      <td>15606229</td>\n",
       "      <td>Obijiaku</td>\n",
       "      <td>771</td>\n",
       "      <td>France</td>\n",
       "      <td>Male</td>\n",
       "      <td>39</td>\n",
       "      <td>5.0</td>\n",
       "      <td>0.00</td>\n",
       "      <td>2</td>\n",
       "      <td>1</td>\n",
       "      <td>0</td>\n",
       "      <td>96270.64</td>\n",
       "      <td>0</td>\n",
       "    </tr>\n",
       "    <tr>\n",
       "      <th>9996</th>\n",
       "      <td>9997</td>\n",
       "      <td>15569892</td>\n",
       "      <td>Johnstone</td>\n",
       "      <td>516</td>\n",
       "      <td>France</td>\n",
       "      <td>Male</td>\n",
       "      <td>35</td>\n",
       "      <td>10.0</td>\n",
       "      <td>57369.61</td>\n",
       "      <td>1</td>\n",
       "      <td>1</td>\n",
       "      <td>1</td>\n",
       "      <td>101699.77</td>\n",
       "      <td>0</td>\n",
       "    </tr>\n",
       "    <tr>\n",
       "      <th>9997</th>\n",
       "      <td>9998</td>\n",
       "      <td>15584532</td>\n",
       "      <td>Liu</td>\n",
       "      <td>709</td>\n",
       "      <td>France</td>\n",
       "      <td>Female</td>\n",
       "      <td>36</td>\n",
       "      <td>7.0</td>\n",
       "      <td>0.00</td>\n",
       "      <td>1</td>\n",
       "      <td>0</td>\n",
       "      <td>1</td>\n",
       "      <td>42085.58</td>\n",
       "      <td>1</td>\n",
       "    </tr>\n",
       "    <tr>\n",
       "      <th>9998</th>\n",
       "      <td>9999</td>\n",
       "      <td>15682355</td>\n",
       "      <td>Sabbatini</td>\n",
       "      <td>772</td>\n",
       "      <td>Germany</td>\n",
       "      <td>Male</td>\n",
       "      <td>42</td>\n",
       "      <td>3.0</td>\n",
       "      <td>75075.31</td>\n",
       "      <td>2</td>\n",
       "      <td>1</td>\n",
       "      <td>0</td>\n",
       "      <td>92888.52</td>\n",
       "      <td>1</td>\n",
       "    </tr>\n",
       "    <tr>\n",
       "      <th>9999</th>\n",
       "      <td>10000</td>\n",
       "      <td>15628319</td>\n",
       "      <td>Walker</td>\n",
       "      <td>792</td>\n",
       "      <td>France</td>\n",
       "      <td>Female</td>\n",
       "      <td>28</td>\n",
       "      <td>NaN</td>\n",
       "      <td>130142.79</td>\n",
       "      <td>1</td>\n",
       "      <td>1</td>\n",
       "      <td>0</td>\n",
       "      <td>38190.78</td>\n",
       "      <td>0</td>\n",
       "    </tr>\n",
       "  </tbody>\n",
       "</table>\n",
       "</div>"
      ],
      "text/plain": [
       "      RowNumber  CustomerId      Surname  CreditScore Geography  Gender  Age  \\\n",
       "9990       9991    15798964   Nkemakonam          714   Germany    Male   33   \n",
       "9991       9992    15769959  Ajuluchukwu          597    France  Female   53   \n",
       "9992       9993    15657105  Chukwualuka          726     Spain    Male   36   \n",
       "9993       9994    15569266       Rahman          644    France    Male   28   \n",
       "9994       9995    15719294         Wood          800    France  Female   29   \n",
       "9995       9996    15606229     Obijiaku          771    France    Male   39   \n",
       "9996       9997    15569892    Johnstone          516    France    Male   35   \n",
       "9997       9998    15584532          Liu          709    France  Female   36   \n",
       "9998       9999    15682355    Sabbatini          772   Germany    Male   42   \n",
       "9999      10000    15628319       Walker          792    France  Female   28   \n",
       "\n",
       "      Tenure    Balance  NumOfProducts  HasCrCard  IsActiveMember  \\\n",
       "9990     3.0   35016.60              1          1               0   \n",
       "9991     4.0   88381.21              1          1               0   \n",
       "9992     2.0       0.00              1          1               0   \n",
       "9993     7.0  155060.41              1          1               0   \n",
       "9994     2.0       0.00              2          0               0   \n",
       "9995     5.0       0.00              2          1               0   \n",
       "9996    10.0   57369.61              1          1               1   \n",
       "9997     7.0       0.00              1          0               1   \n",
       "9998     3.0   75075.31              2          1               0   \n",
       "9999     NaN  130142.79              1          1               0   \n",
       "\n",
       "      EstimatedSalary  Exited  \n",
       "9990         53667.08       0  \n",
       "9991         69384.71       1  \n",
       "9992        195192.40       0  \n",
       "9993         29179.52       0  \n",
       "9994        167773.55       0  \n",
       "9995         96270.64       0  \n",
       "9996        101699.77       0  \n",
       "9997         42085.58       1  \n",
       "9998         92888.52       1  \n",
       "9999         38190.78       0  "
      ]
     },
     "execution_count": 4,
     "metadata": {},
     "output_type": "execute_result"
    }
   ],
   "source": [
    "df.tail(10)"
   ]
  },
  {
   "cell_type": "markdown",
   "id": "34541587-3103-4e92-88e9-21d6eb038e37",
   "metadata": {},
   "source": [
    "## Вывод по первичному анализу данных\n",
    "- Пропуски наблюдатся в единственном столбце `Tenure`. Это может означать, что клиент пользуется услугами банка менее года и данные о количестве лет для него не были заполнены.\n",
    "- Также в столбце `Tenure` изменим тип данных с `float64` -> `int64`.\n",
    "- Столбцы `RowNumber` и `CustomerId` не помогут нам при обучении модели машинного обучения, разве что для создания консперологических теорий, построенных на нумерологии. (удалим их)\n",
    "- Столбец `Surname` также наврядли поможет машине определить вероятность расторжения договора с банком, удалим данных столбец.\n",
    "- Количественные признаки `Gender` и `Geography` преобразуем к числовым значениям. (вероятней всего методом Ohe)"
   ]
  },
  {
   "cell_type": "markdown",
   "id": "f52462dc-10e0-4af1-9ad5-1cf93ba8ca13",
   "metadata": {},
   "source": [
    "# Предобработка данных"
   ]
  },
  {
   "cell_type": "code",
   "execution_count": 5,
   "id": "45ce9df4-f3cd-45b2-b47b-a43e2f7ef695",
   "metadata": {},
   "outputs": [],
   "source": [
    "df.drop(['RowNumber', 'CustomerId', 'Surname'], axis='columns', inplace=True)"
   ]
  },
  {
   "cell_type": "code",
   "execution_count": 6,
   "id": "0a11e1d0-a7dd-4c99-9a83-1440ad262c0c",
   "metadata": {},
   "outputs": [
    {
     "data": {
      "text/plain": [
       "Index(['creditscore', 'geography', 'gender', 'age', 'tenure', 'balance',\n",
       "       'numofproducts', 'hascrcard', 'isactivemember', 'estimatedsalary',\n",
       "       'exited'],\n",
       "      dtype='object')"
      ]
     },
     "execution_count": 6,
     "metadata": {},
     "output_type": "execute_result"
    }
   ],
   "source": [
    "# Приведем столбы к нижнему индексу с помощью list comprehension и lower\n",
    "df.columns =[column.lower() for column in df.columns]\n",
    "\n",
    "df.columns"
   ]
  },
  {
   "cell_type": "code",
   "execution_count": 7,
   "id": "c88d7720-2614-4183-8e6e-6ecf5aba9423",
   "metadata": {},
   "outputs": [],
   "source": [
    "(df.set_axis(\n",
    "    ['credit_score', 'geography', 'gender', 'age', 'tenure', 'balance',\n",
    "       'num_of_products', 'has_crcard', 'is_active_member', 'estimated_salary',\n",
    "       'exited'], axis = 'columns', inplace = True)\n",
    ")"
   ]
  },
  {
   "cell_type": "code",
   "execution_count": 8,
   "id": "abda7b55-6d8d-4df4-a6da-27529fb79ad8",
   "metadata": {},
   "outputs": [
    {
     "data": {
      "text/plain": [
       "0"
      ]
     },
     "execution_count": 8,
     "metadata": {},
     "output_type": "execute_result"
    }
   ],
   "source": [
    "df.duplicated().sum() #Дубликатов не обнаружено "
   ]
  },
  {
   "cell_type": "code",
   "execution_count": 9,
   "id": "b08a45c0-fb5a-4900-803f-64917836156e",
   "metadata": {},
   "outputs": [
    {
     "data": {
      "image/png": "[encoded data removed]",
      "text/plain": [
       "<Figure size 1080x1440 with 9 Axes>"
      ]
     },
     "metadata": {
      "needs_background": "light"
     },
     "output_type": "display_data"
    }
   ],
   "source": [
    "df[df['tenure'].isnull()].hist(figsize=(15, 20));"
   ]
  },
  {
   "cell_type": "markdown",
   "id": "06c58016-3693-4c24-b874-2faa7774db33",
   "metadata": {},
   "source": [
    "## Промежуточный вывод\n",
    "Все графики в отфильтрованной выборке являются `нормальными`. \n",
    "\n",
    "Есть лишь одно интересное наблюдение баланса на счетах людей не имеющих данных в столбце `Tenure`. Большая доля таких клиентов имеет нулевой баланс."
   ]
  },
  {
   "cell_type": "code",
   "execution_count": 10,
   "id": "23e0d212-75ce-404a-aa2c-464098f564af",
   "metadata": {},
   "outputs": [
    {
     "data": {
      "text/plain": [
       "<AxesSubplot:>"
      ]
     },
     "execution_count": 10,
     "metadata": {},
     "output_type": "execute_result"
    },
    {
     "data": {
      "image/png": "[encoded data removed]",
      "text/plain": [
       "<Figure size 432x288 with 1 Axes>"
      ]
     },
     "metadata": {
      "needs_background": "light"
     },
     "output_type": "display_data"
    }
   ],
   "source": [
    "# Предположение об уникальности данных на графике Balance среди клиентов с пропусками не оправдались.\n",
    "df[df['tenure'].notnull()]['balance'].hist() "
   ]
  },
  {
   "cell_type": "code",
   "execution_count": 11,
   "id": "1822d204-dc42-443f-8ccd-2fd9e9e3be41",
   "metadata": {},
   "outputs": [],
   "source": [
    "def missing_tenure(row):\n",
    "    if math.isnan(row['tenure']):\n",
    "        return (random.randint(0,10))\n",
    "    \n",
    "    return row['tenure']"
   ]
  },
  {
   "cell_type": "code",
   "execution_count": 12,
   "id": "e431626b-a16e-4640-8226-a409681481dc",
   "metadata": {},
   "outputs": [],
   "source": [
    "df['tenure'] = df.apply(missing_tenure, axis=1)"
   ]
  },
  {
   "cell_type": "code",
   "execution_count": 13,
   "id": "1b925392-dc4f-4415-8754-57ad1972a332",
   "metadata": {},
   "outputs": [
    {
     "data": {
      "text/html": [
       "<div>\n",
       "<style scoped>\n",
       "    .dataframe tbody tr th:only-of-type {\n",
       "        vertical-align: middle;\n",
       "    }\n",
       "\n",
       "    .dataframe tbody tr th {\n",
       "        vertical-align: top;\n",
       "    }\n",
       "\n",
       "    .dataframe thead th {\n",
       "        text-align: right;\n",
       "    }\n",
       "</style>\n",
       "<table border=\"1\" class=\"dataframe\">\n",
       "  <thead>\n",
       "    <tr style=\"text-align: right;\">\n",
       "      <th></th>\n",
       "      <th>credit_score</th>\n",
       "      <th>geography</th>\n",
       "      <th>gender</th>\n",
       "      <th>age</th>\n",
       "      <th>tenure</th>\n",
       "      <th>balance</th>\n",
       "      <th>num_of_products</th>\n",
       "      <th>has_crcard</th>\n",
       "      <th>is_active_member</th>\n",
       "      <th>estimated_salary</th>\n",
       "      <th>exited</th>\n",
       "    </tr>\n",
       "  </thead>\n",
       "  <tbody>\n",
       "    <tr>\n",
       "      <th>0</th>\n",
       "      <td>619</td>\n",
       "      <td>France</td>\n",
       "      <td>Female</td>\n",
       "      <td>42</td>\n",
       "      <td>2</td>\n",
       "      <td>0.00</td>\n",
       "      <td>1</td>\n",
       "      <td>1</td>\n",
       "      <td>1</td>\n",
       "      <td>101348.88</td>\n",
       "      <td>1</td>\n",
       "    </tr>\n",
       "    <tr>\n",
       "      <th>1</th>\n",
       "      <td>608</td>\n",
       "      <td>Spain</td>\n",
       "      <td>Female</td>\n",
       "      <td>41</td>\n",
       "      <td>1</td>\n",
       "      <td>83807.86</td>\n",
       "      <td>1</td>\n",
       "      <td>0</td>\n",
       "      <td>1</td>\n",
       "      <td>112542.58</td>\n",
       "      <td>0</td>\n",
       "    </tr>\n",
       "    <tr>\n",
       "      <th>2</th>\n",
       "      <td>502</td>\n",
       "      <td>France</td>\n",
       "      <td>Female</td>\n",
       "      <td>42</td>\n",
       "      <td>8</td>\n",
       "      <td>159660.80</td>\n",
       "      <td>3</td>\n",
       "      <td>1</td>\n",
       "      <td>0</td>\n",
       "      <td>113931.57</td>\n",
       "      <td>1</td>\n",
       "    </tr>\n",
       "    <tr>\n",
       "      <th>3</th>\n",
       "      <td>699</td>\n",
       "      <td>France</td>\n",
       "      <td>Female</td>\n",
       "      <td>39</td>\n",
       "      <td>1</td>\n",
       "      <td>0.00</td>\n",
       "      <td>2</td>\n",
       "      <td>0</td>\n",
       "      <td>0</td>\n",
       "      <td>93826.63</td>\n",
       "      <td>0</td>\n",
       "    </tr>\n",
       "    <tr>\n",
       "      <th>4</th>\n",
       "      <td>850</td>\n",
       "      <td>Spain</td>\n",
       "      <td>Female</td>\n",
       "      <td>43</td>\n",
       "      <td>2</td>\n",
       "      <td>125510.82</td>\n",
       "      <td>1</td>\n",
       "      <td>1</td>\n",
       "      <td>1</td>\n",
       "      <td>79084.10</td>\n",
       "      <td>0</td>\n",
       "    </tr>\n",
       "  </tbody>\n",
       "</table>\n",
       "</div>"
      ],
      "text/plain": [
       "   credit_score geography  gender  age  tenure    balance  num_of_products  \\\n",
       "0           619    France  Female   42       2       0.00                1   \n",
       "1           608     Spain  Female   41       1   83807.86                1   \n",
       "2           502    France  Female   42       8  159660.80                3   \n",
       "3           699    France  Female   39       1       0.00                2   \n",
       "4           850     Spain  Female   43       2  125510.82                1   \n",
       "\n",
       "   has_crcard  is_active_member  estimated_salary  exited  \n",
       "0           1                 1         101348.88       1  \n",
       "1           0                 1         112542.58       0  \n",
       "2           1                 0         113931.57       1  \n",
       "3           0                 0          93826.63       0  \n",
       "4           1                 1          79084.10       0  "
      ]
     },
     "execution_count": 13,
     "metadata": {},
     "output_type": "execute_result"
    }
   ],
   "source": [
    "df['tenure'] = df['tenure'].astype('int64')\n",
    "\n",
    "df.head()"
   ]
  },
  {
   "cell_type": "markdown",
   "id": "4c847212-b027-460c-b5c0-47efd08635b0",
   "metadata": {},
   "source": [
    "## Категориальные признаки"
   ]
  },
  {
   "cell_type": "code",
   "execution_count": 14,
   "id": "b488c580-45fe-489c-8cd1-41c1e4068aa5",
   "metadata": {},
   "outputs": [
    {
     "data": {
      "text/plain": [
       "Male      5457\n",
       "Female    4543\n",
       "Name: gender, dtype: int64"
      ]
     },
     "execution_count": 14,
     "metadata": {},
     "output_type": "execute_result"
    }
   ],
   "source": [
    "df['gender'].value_counts() # Шесть или пять полов напридумывали, трансформеры, трансгендеры слава богу в этом датасете всё традиционно :)"
   ]
  },
  {
   "cell_type": "code",
   "execution_count": 15,
   "id": "540a362e-899a-46f5-8ccd-e972494b1c62",
   "metadata": {},
   "outputs": [
    {
     "data": {
      "text/plain": [
       "France     5014\n",
       "Germany    2509\n",
       "Spain      2477\n",
       "Name: geography, dtype: int64"
      ]
     },
     "execution_count": 15,
     "metadata": {},
     "output_type": "execute_result"
    }
   ],
   "source": [
    "df['geography'].value_counts() #Три европейские страны - ок "
   ]
  },
  {
   "cell_type": "markdown",
   "id": "552d5752-dc57-4aa2-8698-293607a8a9fe",
   "metadata": {},
   "source": [
    "## Промежуточный вывод\n",
    "Резюмируя проделанные опирации и сделанные ранее выводы приходим к выводу, что для нас идеально подойдет метод OHE для дальнейшей подготовки данных."
   ]
  },
  {
   "cell_type": "code",
   "execution_count": 16,
   "id": "c0f8cd89-51ff-4720-af2b-3e02a9a8717a",
   "metadata": {},
   "outputs": [
    {
     "data": {
      "text/plain": [
       "<AxesSubplot:title={'center':'Распределение целевого признака'}, xlabel='Значение признака', ylabel='Количество записей с соответствующим значением'>"
      ]
     },
     "execution_count": 16,
     "metadata": {},
     "output_type": "execute_result"
    },
    {
     "data": {
      "image/png": "[encoded data removed]",
      "text/plain": [
       "<Figure size 1152x576 with 1 Axes>"
      ]
     },
     "metadata": {
      "needs_background": "light"
     },
     "output_type": "display_data"
    }
   ],
   "source": [
    "# Наблюдается сильнейший перевес в сторону класса 0.\n",
    "fig, ax = plt.subplots(1)\n",
    "ax.set_title('Распределение целевого признака')\n",
    "ax.set_xlabel('Значение признака')\n",
    "ax.set_ylabel('Количество записей с соответствующим значением')\n",
    "df.exited.value_counts().plot(kind='bar', figsize=(16,8), ax=ax, rot=0)"
   ]
  },
  {
   "cell_type": "code",
   "execution_count": 17,
   "id": "e00da29f-6e9c-44fb-8f58-6689462b89fb",
   "metadata": {
    "scrolled": true
   },
   "outputs": [
    {
     "data": {
      "text/html": [
       "<div>\n",
       "<style scoped>\n",
       "    .dataframe tbody tr th:only-of-type {\n",
       "        vertical-align: middle;\n",
       "    }\n",
       "\n",
       "    .dataframe tbody tr th {\n",
       "        vertical-align: top;\n",
       "    }\n",
       "\n",
       "    .dataframe thead th {\n",
       "        text-align: right;\n",
       "    }\n",
       "</style>\n",
       "<table border=\"1\" class=\"dataframe\">\n",
       "  <thead>\n",
       "    <tr style=\"text-align: right;\">\n",
       "      <th></th>\n",
       "      <th>credit_score</th>\n",
       "      <th>age</th>\n",
       "      <th>tenure</th>\n",
       "      <th>balance</th>\n",
       "      <th>num_of_products</th>\n",
       "      <th>has_crcard</th>\n",
       "      <th>is_active_member</th>\n",
       "      <th>estimated_salary</th>\n",
       "      <th>exited</th>\n",
       "      <th>geography_Germany</th>\n",
       "      <th>geography_Spain</th>\n",
       "      <th>gender_Male</th>\n",
       "    </tr>\n",
       "  </thead>\n",
       "  <tbody>\n",
       "    <tr>\n",
       "      <th>0</th>\n",
       "      <td>619</td>\n",
       "      <td>42</td>\n",
       "      <td>2</td>\n",
       "      <td>0.00</td>\n",
       "      <td>1</td>\n",
       "      <td>1</td>\n",
       "      <td>1</td>\n",
       "      <td>101348.88</td>\n",
       "      <td>1</td>\n",
       "      <td>0</td>\n",
       "      <td>0</td>\n",
       "      <td>0</td>\n",
       "    </tr>\n",
       "    <tr>\n",
       "      <th>1</th>\n",
       "      <td>608</td>\n",
       "      <td>41</td>\n",
       "      <td>1</td>\n",
       "      <td>83807.86</td>\n",
       "      <td>1</td>\n",
       "      <td>0</td>\n",
       "      <td>1</td>\n",
       "      <td>112542.58</td>\n",
       "      <td>0</td>\n",
       "      <td>0</td>\n",
       "      <td>1</td>\n",
       "      <td>0</td>\n",
       "    </tr>\n",
       "    <tr>\n",
       "      <th>2</th>\n",
       "      <td>502</td>\n",
       "      <td>42</td>\n",
       "      <td>8</td>\n",
       "      <td>159660.80</td>\n",
       "      <td>3</td>\n",
       "      <td>1</td>\n",
       "      <td>0</td>\n",
       "      <td>113931.57</td>\n",
       "      <td>1</td>\n",
       "      <td>0</td>\n",
       "      <td>0</td>\n",
       "      <td>0</td>\n",
       "    </tr>\n",
       "    <tr>\n",
       "      <th>3</th>\n",
       "      <td>699</td>\n",
       "      <td>39</td>\n",
       "      <td>1</td>\n",
       "      <td>0.00</td>\n",
       "      <td>2</td>\n",
       "      <td>0</td>\n",
       "      <td>0</td>\n",
       "      <td>93826.63</td>\n",
       "      <td>0</td>\n",
       "      <td>0</td>\n",
       "      <td>0</td>\n",
       "      <td>0</td>\n",
       "    </tr>\n",
       "    <tr>\n",
       "      <th>4</th>\n",
       "      <td>850</td>\n",
       "      <td>43</td>\n",
       "      <td>2</td>\n",
       "      <td>125510.82</td>\n",
       "      <td>1</td>\n",
       "      <td>1</td>\n",
       "      <td>1</td>\n",
       "      <td>79084.10</td>\n",
       "      <td>0</td>\n",
       "      <td>0</td>\n",
       "      <td>1</td>\n",
       "      <td>0</td>\n",
       "    </tr>\n",
       "    <tr>\n",
       "      <th>...</th>\n",
       "      <td>...</td>\n",
       "      <td>...</td>\n",
       "      <td>...</td>\n",
       "      <td>...</td>\n",
       "      <td>...</td>\n",
       "      <td>...</td>\n",
       "      <td>...</td>\n",
       "      <td>...</td>\n",
       "      <td>...</td>\n",
       "      <td>...</td>\n",
       "      <td>...</td>\n",
       "      <td>...</td>\n",
       "    </tr>\n",
       "    <tr>\n",
       "      <th>9995</th>\n",
       "      <td>771</td>\n",
       "      <td>39</td>\n",
       "      <td>5</td>\n",
       "      <td>0.00</td>\n",
       "      <td>2</td>\n",
       "      <td>1</td>\n",
       "      <td>0</td>\n",
       "      <td>96270.64</td>\n",
       "      <td>0</td>\n",
       "      <td>0</td>\n",
       "      <td>0</td>\n",
       "      <td>1</td>\n",
       "    </tr>\n",
       "    <tr>\n",
       "      <th>9996</th>\n",
       "      <td>516</td>\n",
       "      <td>35</td>\n",
       "      <td>10</td>\n",
       "      <td>57369.61</td>\n",
       "      <td>1</td>\n",
       "      <td>1</td>\n",
       "      <td>1</td>\n",
       "      <td>101699.77</td>\n",
       "      <td>0</td>\n",
       "      <td>0</td>\n",
       "      <td>0</td>\n",
       "      <td>1</td>\n",
       "    </tr>\n",
       "    <tr>\n",
       "      <th>9997</th>\n",
       "      <td>709</td>\n",
       "      <td>36</td>\n",
       "      <td>7</td>\n",
       "      <td>0.00</td>\n",
       "      <td>1</td>\n",
       "      <td>0</td>\n",
       "      <td>1</td>\n",
       "      <td>42085.58</td>\n",
       "      <td>1</td>\n",
       "      <td>0</td>\n",
       "      <td>0</td>\n",
       "      <td>0</td>\n",
       "    </tr>\n",
       "    <tr>\n",
       "      <th>9998</th>\n",
       "      <td>772</td>\n",
       "      <td>42</td>\n",
       "      <td>3</td>\n",
       "      <td>75075.31</td>\n",
       "      <td>2</td>\n",
       "      <td>1</td>\n",
       "      <td>0</td>\n",
       "      <td>92888.52</td>\n",
       "      <td>1</td>\n",
       "      <td>1</td>\n",
       "      <td>0</td>\n",
       "      <td>1</td>\n",
       "    </tr>\n",
       "    <tr>\n",
       "      <th>9999</th>\n",
       "      <td>792</td>\n",
       "      <td>28</td>\n",
       "      <td>3</td>\n",
       "      <td>130142.79</td>\n",
       "      <td>1</td>\n",
       "      <td>1</td>\n",
       "      <td>0</td>\n",
       "      <td>38190.78</td>\n",
       "      <td>0</td>\n",
       "      <td>0</td>\n",
       "      <td>0</td>\n",
       "      <td>0</td>\n",
       "    </tr>\n",
       "  </tbody>\n",
       "</table>\n",
       "<p>10000 rows × 12 columns</p>\n",
       "</div>"
      ],
      "text/plain": [
       "      credit_score  age  tenure    balance  num_of_products  has_crcard  \\\n",
       "0              619   42       2       0.00                1           1   \n",
       "1              608   41       1   83807.86                1           0   \n",
       "2              502   42       8  159660.80                3           1   \n",
       "3              699   39       1       0.00                2           0   \n",
       "4              850   43       2  125510.82                1           1   \n",
       "...            ...  ...     ...        ...              ...         ...   \n",
       "9995           771   39       5       0.00                2           1   \n",
       "9996           516   35      10   57369.61                1           1   \n",
       "9997           709   36       7       0.00                1           0   \n",
       "9998           772   42       3   75075.31                2           1   \n",
       "9999           792   28       3  130142.79                1           1   \n",
       "\n",
       "      is_active_member  estimated_salary  exited  geography_Germany  \\\n",
       "0                    1         101348.88       1                  0   \n",
       "1                    1         112542.58       0                  0   \n",
       "2                    0         113931.57       1                  0   \n",
       "3                    0          93826.63       0                  0   \n",
       "4                    1          79084.10       0                  0   \n",
       "...                ...               ...     ...                ...   \n",
       "9995                 0          96270.64       0                  0   \n",
       "9996                 1         101699.77       0                  0   \n",
       "9997                 1          42085.58       1                  0   \n",
       "9998                 0          92888.52       1                  1   \n",
       "9999                 0          38190.78       0                  0   \n",
       "\n",
       "      geography_Spain  gender_Male  \n",
       "0                   0            0  \n",
       "1                   1            0  \n",
       "2                   0            0  \n",
       "3                   0            0  \n",
       "4                   1            0  \n",
       "...               ...          ...  \n",
       "9995                0            1  \n",
       "9996                0            1  \n",
       "9997                0            0  \n",
       "9998                0            1  \n",
       "9999                0            0  \n",
       "\n",
       "[10000 rows x 12 columns]"
      ]
     },
     "execution_count": 17,
     "metadata": {},
     "output_type": "execute_result"
    }
   ],
   "source": [
    "df_ohe = pd.get_dummies(df, drop_first=True)\n",
    "df_ohe"
   ]
  },
  {
   "cell_type": "code",
   "execution_count": 18,
   "id": "020793ef-65dd-40a1-86ff-eca02cf25375",
   "metadata": {},
   "outputs": [],
   "source": [
    "random_state = 12345"
   ]
  },
  {
   "cell_type": "code",
   "execution_count": 19,
   "id": "2f653aba-d211-4cdc-8a82-8ecb40e93727",
   "metadata": {},
   "outputs": [],
   "source": [
    "# Разделим датасет на две части. Первая содержит все признаки. Вторая - целевой признак.\n",
    "X = df_ohe.drop('exited', axis=1)\n",
    "y = df_ohe['exited']"
   ]
  },
  {
   "cell_type": "code",
   "execution_count": 20,
   "id": "5c15f6cd-94f4-41ac-91ca-8edfaf8374f0",
   "metadata": {},
   "outputs": [],
   "source": [
    "#Сначала отделим от датасета 60% наблюдений - это будет обучающая выборка. \n",
    "#Оставщиеся данные поделим пополам - на тестовую и валидационную выборки.\n",
    "#Таким образом мы разобьем данные в соотношении 60/20/20.\n",
    "features_train, features_valid, target_train, target_valid = train_test_split(X, y, test_size=0.4, random_state=random_state, stratify=y)\n",
    "features_valid, features_test, target_valid, target_test = train_test_split(features_valid, target_valid, test_size=0.5, random_state=random_state, stratify=target_valid)\n"
   ]
  },
  {
   "cell_type": "code",
   "execution_count": 21,
   "id": "749326c1-db47-41f1-9bc6-44c75387548d",
   "metadata": {},
   "outputs": [
    {
     "name": "stdout",
     "output_type": "stream",
     "text": [
      "Target test count = 2000, Varget test count = 2000, Train test count = 6000\n"
     ]
    }
   ],
   "source": [
    "print('Target test count = {}, Varget test count = {}, Train test count = {}'.format(target_test.count(), target_valid.count(), target_train.count()))"
   ]
  },
  {
   "cell_type": "code",
   "execution_count": 22,
   "id": "5d4283c1-3295-4d70-86fb-ba8f04b00f56",
   "metadata": {},
   "outputs": [
    {
     "data": {
      "text/html": [
       "<div>\n",
       "<style scoped>\n",
       "    .dataframe tbody tr th:only-of-type {\n",
       "        vertical-align: middle;\n",
       "    }\n",
       "\n",
       "    .dataframe tbody tr th {\n",
       "        vertical-align: top;\n",
       "    }\n",
       "\n",
       "    .dataframe thead th {\n",
       "        text-align: right;\n",
       "    }\n",
       "</style>\n",
       "<table border=\"1\" class=\"dataframe\">\n",
       "  <thead>\n",
       "    <tr style=\"text-align: right;\">\n",
       "      <th></th>\n",
       "      <th>credit_score</th>\n",
       "      <th>age</th>\n",
       "      <th>tenure</th>\n",
       "      <th>balance</th>\n",
       "      <th>num_of_products</th>\n",
       "      <th>has_crcard</th>\n",
       "      <th>is_active_member</th>\n",
       "      <th>estimated_salary</th>\n",
       "      <th>geography_Germany</th>\n",
       "      <th>geography_Spain</th>\n",
       "      <th>gender_Male</th>\n",
       "    </tr>\n",
       "  </thead>\n",
       "  <tbody>\n",
       "    <tr>\n",
       "      <th>2837</th>\n",
       "      <td>-1.040434</td>\n",
       "      <td>0.953312</td>\n",
       "      <td>0.345681</td>\n",
       "      <td>0.774657</td>\n",
       "      <td>-0.914708</td>\n",
       "      <td>0</td>\n",
       "      <td>1</td>\n",
       "      <td>-0.119110</td>\n",
       "      <td>1</td>\n",
       "      <td>0</td>\n",
       "      <td>0</td>\n",
       "    </tr>\n",
       "    <tr>\n",
       "      <th>9925</th>\n",
       "      <td>0.454006</td>\n",
       "      <td>-0.095244</td>\n",
       "      <td>-1.376411</td>\n",
       "      <td>1.910540</td>\n",
       "      <td>-0.914708</td>\n",
       "      <td>1</td>\n",
       "      <td>1</td>\n",
       "      <td>-0.258658</td>\n",
       "      <td>0</td>\n",
       "      <td>0</td>\n",
       "      <td>0</td>\n",
       "    </tr>\n",
       "    <tr>\n",
       "      <th>8746</th>\n",
       "      <td>0.103585</td>\n",
       "      <td>-0.476537</td>\n",
       "      <td>1.034519</td>\n",
       "      <td>0.481608</td>\n",
       "      <td>0.820981</td>\n",
       "      <td>0</td>\n",
       "      <td>1</td>\n",
       "      <td>1.422836</td>\n",
       "      <td>0</td>\n",
       "      <td>0</td>\n",
       "      <td>1</td>\n",
       "    </tr>\n",
       "    <tr>\n",
       "      <th>660</th>\n",
       "      <td>-0.184996</td>\n",
       "      <td>0.190726</td>\n",
       "      <td>1.723356</td>\n",
       "      <td>0.088439</td>\n",
       "      <td>-0.914708</td>\n",
       "      <td>1</td>\n",
       "      <td>1</td>\n",
       "      <td>-1.160427</td>\n",
       "      <td>1</td>\n",
       "      <td>0</td>\n",
       "      <td>0</td>\n",
       "    </tr>\n",
       "    <tr>\n",
       "      <th>3610</th>\n",
       "      <td>-0.720933</td>\n",
       "      <td>1.620574</td>\n",
       "      <td>-1.376411</td>\n",
       "      <td>0.879129</td>\n",
       "      <td>-0.914708</td>\n",
       "      <td>1</td>\n",
       "      <td>0</td>\n",
       "      <td>0.113236</td>\n",
       "      <td>0</td>\n",
       "      <td>0</td>\n",
       "      <td>0</td>\n",
       "    </tr>\n",
       "    <tr>\n",
       "      <th>...</th>\n",
       "      <td>...</td>\n",
       "      <td>...</td>\n",
       "      <td>...</td>\n",
       "      <td>...</td>\n",
       "      <td>...</td>\n",
       "      <td>...</td>\n",
       "      <td>...</td>\n",
       "      <td>...</td>\n",
       "      <td>...</td>\n",
       "      <td>...</td>\n",
       "      <td>...</td>\n",
       "    </tr>\n",
       "    <tr>\n",
       "      <th>6172</th>\n",
       "      <td>-0.844611</td>\n",
       "      <td>0.381372</td>\n",
       "      <td>0.001263</td>\n",
       "      <td>0.180068</td>\n",
       "      <td>4.292357</td>\n",
       "      <td>1</td>\n",
       "      <td>1</td>\n",
       "      <td>0.117350</td>\n",
       "      <td>1</td>\n",
       "      <td>0</td>\n",
       "      <td>1</td>\n",
       "    </tr>\n",
       "    <tr>\n",
       "      <th>2360</th>\n",
       "      <td>-1.359935</td>\n",
       "      <td>0.190726</td>\n",
       "      <td>0.001263</td>\n",
       "      <td>0.547724</td>\n",
       "      <td>-0.914708</td>\n",
       "      <td>1</td>\n",
       "      <td>0</td>\n",
       "      <td>-0.192524</td>\n",
       "      <td>1</td>\n",
       "      <td>0</td>\n",
       "      <td>0</td>\n",
       "    </tr>\n",
       "    <tr>\n",
       "      <th>4499</th>\n",
       "      <td>-1.174418</td>\n",
       "      <td>0.476696</td>\n",
       "      <td>-0.343156</td>\n",
       "      <td>0.727840</td>\n",
       "      <td>-0.914708</td>\n",
       "      <td>0</td>\n",
       "      <td>0</td>\n",
       "      <td>0.531933</td>\n",
       "      <td>1</td>\n",
       "      <td>0</td>\n",
       "      <td>0</td>\n",
       "    </tr>\n",
       "    <tr>\n",
       "      <th>9162</th>\n",
       "      <td>0.155118</td>\n",
       "      <td>2.287837</td>\n",
       "      <td>-1.031993</td>\n",
       "      <td>0.449382</td>\n",
       "      <td>-0.914708</td>\n",
       "      <td>1</td>\n",
       "      <td>1</td>\n",
       "      <td>-1.307769</td>\n",
       "      <td>1</td>\n",
       "      <td>0</td>\n",
       "      <td>1</td>\n",
       "    </tr>\n",
       "    <tr>\n",
       "      <th>700</th>\n",
       "      <td>1.031168</td>\n",
       "      <td>-0.667183</td>\n",
       "      <td>0.001263</td>\n",
       "      <td>-1.219673</td>\n",
       "      <td>0.820981</td>\n",
       "      <td>1</td>\n",
       "      <td>0</td>\n",
       "      <td>-0.083302</td>\n",
       "      <td>0</td>\n",
       "      <td>0</td>\n",
       "      <td>0</td>\n",
       "    </tr>\n",
       "  </tbody>\n",
       "</table>\n",
       "<p>6000 rows × 11 columns</p>\n",
       "</div>"
      ],
      "text/plain": [
       "      credit_score       age    tenure   balance  num_of_products  has_crcard  \\\n",
       "2837     -1.040434  0.953312  0.345681  0.774657        -0.914708           0   \n",
       "9925      0.454006 -0.095244 -1.376411  1.910540        -0.914708           1   \n",
       "8746      0.103585 -0.476537  1.034519  0.481608         0.820981           0   \n",
       "660      -0.184996  0.190726  1.723356  0.088439        -0.914708           1   \n",
       "3610     -0.720933  1.620574 -1.376411  0.879129        -0.914708           1   \n",
       "...            ...       ...       ...       ...              ...         ...   \n",
       "6172     -0.844611  0.381372  0.001263  0.180068         4.292357           1   \n",
       "2360     -1.359935  0.190726  0.001263  0.547724        -0.914708           1   \n",
       "4499     -1.174418  0.476696 -0.343156  0.727840        -0.914708           0   \n",
       "9162      0.155118  2.287837 -1.031993  0.449382        -0.914708           1   \n",
       "700       1.031168 -0.667183  0.001263 -1.219673         0.820981           1   \n",
       "\n",
       "      is_active_member  estimated_salary  geography_Germany  geography_Spain  \\\n",
       "2837                 1         -0.119110                  1                0   \n",
       "9925                 1         -0.258658                  0                0   \n",
       "8746                 1          1.422836                  0                0   \n",
       "660                  1         -1.160427                  1                0   \n",
       "3610                 0          0.113236                  0                0   \n",
       "...                ...               ...                ...              ...   \n",
       "6172                 1          0.117350                  1                0   \n",
       "2360                 0         -0.192524                  1                0   \n",
       "4499                 0          0.531933                  1                0   \n",
       "9162                 1         -1.307769                  1                0   \n",
       "700                  0         -0.083302                  0                0   \n",
       "\n",
       "      gender_Male  \n",
       "2837            0  \n",
       "9925            0  \n",
       "8746            1  \n",
       "660             0  \n",
       "3610            0  \n",
       "...           ...  \n",
       "6172            1  \n",
       "2360            0  \n",
       "4499            0  \n",
       "9162            1  \n",
       "700             0  \n",
       "\n",
       "[6000 rows x 11 columns]"
      ]
     },
     "execution_count": 22,
     "metadata": {},
     "output_type": "execute_result"
    }
   ],
   "source": [
    "# Стандартизируем признаки\n",
    "scaler = StandardScaler()\n",
    "numeric = ['credit_score', 'age', 'tenure', 'balance', 'num_of_products', 'estimated_salary']\n",
    "\n",
    "scaler.fit(features_train[numeric])\n",
    "\n",
    "pd.set_option('mode.chained_assignment', None)\n",
    "features_train[numeric] = scaler.transform(features_train[numeric])\n",
    "features_valid[numeric] = scaler.transform(features_valid[numeric])\n",
    "features_test[numeric] = scaler.transform(features_test[numeric])\n",
    "\n",
    "# Посмотрим на тренировочной выборке что получилось\n",
    "features_train"
   ]
  },
  {
   "cell_type": "markdown",
   "id": "7cde1b42-7573-4fd1-b4a4-f0c206768790",
   "metadata": {},
   "source": [
    "## Вывод по предобработке данных\n",
    "- Название столбцов приведены к змеиному виду.\n",
    "- Удалены столбцы ненужные для построения моделей машинного обучения, а именно `RowNumber`, `CustomerId`, `Surname`.\n",
    "- Данные были изучены, пропуски в столбце `Tenure` были заполнены.\n",
    "- Изучены признаки `gender` и `geography` с последующим их преобразованием алгоритмом OHE.\n",
    "- Данные были успешно разбиты на три класса для тренировки, валидации и теста будущих моделей.\n",
    "- Признаки были стандартизированы, а данные отмасштабированы."
   ]
  },
  {
   "cell_type": "markdown",
   "id": "31a3c12a-691d-4e43-a56c-229fe0d2bc65",
   "metadata": {
    "tags": []
   },
   "source": [
    "# Исследование данных"
   ]
  },
  {
   "cell_type": "code",
   "execution_count": 23,
   "id": "6a4fe7d7-9f5e-4826-bf02-a25c489e013c",
   "metadata": {},
   "outputs": [],
   "source": [
    "# Поскольку мы все равно будем исследовать все метрики, а они имеют одинаковую сигнатуру,\n",
    "# имеет смысл объеденить вывод в одну функцию, чтобы сразу получать все интересующие данные\n",
    "\n",
    "def print_title():\n",
    "    print('╎{: >10}╎{: >10}╎{: >10}╎{: >10}╎{: >10}╎{: >5}╎{: >6}╎{: >5}╎{: >5}╎'.format('Accuracy', 'Recall', 'Precision', 'F1', 'ROC-AUC', 'TP', 'TN', 'FP', 'FN'))\n",
    "    \n",
    "def print_info(target, predicted, probabilities):\n",
    "    accuracy = accuracy_score(target, predicted) #Точность предсказания\n",
    "    recall = recall_score(target, predicted) #Доля положительных ответов\n",
    "    precision = precision_score(target, predicted) #Доля отрицательных ответов\n",
    "    f1 = f1_score(target, predicted) #Объединение двух предыдущих метрик\n",
    "    \n",
    "    roc_auc = roc_auc_score(target, probabilities) \n",
    "    \n",
    "    confusion_m = confusion_matrix(target, predicted); #Матрица неточностей\n",
    "    TN = confusion_m[0][0]\n",
    "    TP = confusion_m[1][1]\n",
    "    FN = confusion_m[1][0]\n",
    "    FP = confusion_m[0][1]\n",
    "    \n",
    "    print('╎{: >10f}╎{: >10f}╎{: >10f}╎{: >10f}╎{: >10f}╎{: >5}╎{: >6}╎{: >5}╎{: >5}╎'.format(accuracy, recall, precision, f1, roc_auc, TP, TN, FP, FN))"
   ]
  },
  {
   "cell_type": "code",
   "execution_count": 24,
   "id": "d6bc6602-84c2-4626-8872-cc3011a3face",
   "metadata": {},
   "outputs": [],
   "source": [
    "# По аналогии с прошлым проектом определим глобальный массив, где будем сохранять наши лучшие результаты для всех моделей машинного обучения\n",
    "best_results = dict()\n",
    "best_results['decision_tree'] = dict()\n",
    "best_results['logistic_regression'] = dict()\n",
    "best_results['random_forest'] = dict()"
   ]
  },
  {
   "cell_type": "code",
   "execution_count": 25,
   "id": "efa4107c-d17c-4a4c-abee-53ac7827c260",
   "metadata": {},
   "outputs": [],
   "source": [
    "# Напишем функцию по выводу информации по нашей лучшим моделям.\n",
    "def display_best_results(best_results):\n",
    "    print('╎{: >20}╎{: >15}╎{: >25}╎{: >10}╎'.format('Model name', 'Train type', 'Params', 'F1'))\n",
    "    for model_name in best_results:\n",
    "        print()\n",
    "        for train_type in best_results[model_name]:\n",
    "            print('╎{: >20}╎{: >15}╎{: >25}╎{: >10.5f}╎'.format(\n",
    "                model_name, train_type, \n",
    "                best_results[model_name][train_type]['params'], best_results[model_name][train_type]['f1']))"
   ]
  },
  {
   "cell_type": "code",
   "execution_count": 26,
   "id": "c4ea8d6c-28d1-4ce8-8f33-731a8484952b",
   "metadata": {},
   "outputs": [],
   "source": [
    "# Напишем функцию по выводу информации по нашей модели\n",
    "# На вход функция получает две выборки для тренировки модели машинного обучения,\n",
    "# а также два параметра касающиеся балансировки целевого признака\n",
    "def check_decision_tree(features_train, target_train, class_weight, train_type):\n",
    "    print('Decision tree')\n",
    "    print('╎{: >9}'.format('max_depth'), end='')\n",
    "    print_title()\n",
    "    \n",
    "    # Будем сразу считать лучшую меру и параметры, чтобы не искать глазами\n",
    "    best_f1 = 0\n",
    "    best_max_depth = 0\n",
    "    for max_depth in range(2, 16, 1):\n",
    "        model = DecisionTreeClassifier(max_depth=max_depth, random_state=random_state, class_weight=class_weight)\n",
    "        model.fit(features_train, target_train)\n",
    "        predicted_valid = model.predict(features_valid)\n",
    "        #\n",
    "        probabilities_valid = model.predict_proba(features_valid)\n",
    "        probabilities_one_valid = probabilities_valid[:, 1]\n",
    "        #\n",
    "        print('╎{: >9}'.format(max_depth), end='')\n",
    "        print_info(target_valid, predicted_valid, probabilities_one_valid)\n",
    "        \n",
    "        current_f1 = f1_score(target_valid, predicted_valid)\n",
    "        if (current_f1 > best_f1):\n",
    "            best_f1 = current_f1\n",
    "            best_max_depth = max_depth\n",
    "    \n",
    "    # Воспользуемся тем, что питон будет искать наш словарь глобально\n",
    "    best_results['decision_tree'][train_type] = dict()\n",
    "    best_results['decision_tree'][train_type]['params'] = 'max_depth=' + str(best_max_depth)\n",
    "    best_results['decision_tree'][train_type]['f1'] = best_f1"
   ]
  },
  {
   "cell_type": "code",
   "execution_count": 27,
   "id": "4761b6ac-8205-4f75-b7f1-ebb055bd24ec",
   "metadata": {},
   "outputs": [
    {
     "name": "stdout",
     "output_type": "stream",
     "text": [
      "Decision tree\n",
      "╎max_depth╎  Accuracy╎    Recall╎ Precision╎        F1╎   ROC-AUC╎   TP╎    TN╎   FP╎   FN╎\n",
      "╎        2╎  0.835000╎  0.438725╎  0.639286╎  0.520349╎  0.753960╎  179╎  1491╎  101╎  229╎\n",
      "╎        3╎  0.840000╎  0.455882╎  0.654930╎  0.537572╎  0.803250╎  186╎  1494╎   98╎  222╎\n",
      "╎        4╎  0.849000╎  0.401961╎  0.738739╎  0.520635╎  0.819892╎  164╎  1534╎   58╎  244╎\n",
      "╎        5╎  0.857500╎  0.419118╎  0.780822╎  0.545455╎  0.849794╎  171╎  1544╎   48╎  237╎\n",
      "╎        6╎  0.862500╎  0.473039╎  0.762846╎  0.583964╎  0.841613╎  193╎  1532╎   60╎  215╎\n",
      "╎        7╎  0.859500╎  0.504902╎  0.722807╎  0.594517╎  0.826295╎  206╎  1513╎   79╎  202╎\n",
      "╎        8╎  0.857000╎  0.448529╎  0.750000╎  0.561350╎  0.822813╎  183╎  1531╎   61╎  225╎\n",
      "╎        9╎  0.843500╎  0.480392╎  0.659933╎  0.556028╎  0.795692╎  196╎  1491╎  101╎  212╎\n",
      "╎       10╎  0.846000╎  0.492647╎  0.665563╎  0.566197╎  0.781947╎  201╎  1491╎  101╎  207╎\n",
      "╎       11╎  0.835500╎  0.497549╎  0.620795╎  0.552381╎  0.762506╎  203╎  1468╎  124╎  205╎\n",
      "╎       12╎  0.824000╎  0.517157╎  0.576503╎  0.545220╎  0.738931╎  211╎  1437╎  155╎  197╎\n",
      "╎       13╎  0.820500╎  0.522059╎  0.564987╎  0.542675╎  0.724212╎  213╎  1428╎  164╎  195╎\n",
      "╎       14╎  0.817000╎  0.514706╎  0.555556╎  0.534351╎  0.701060╎  210╎  1424╎  168╎  198╎\n",
      "╎       15╎  0.809000╎  0.514706╎  0.532995╎  0.523691╎  0.690529╎  210╎  1408╎  184╎  198╎\n"
     ]
    }
   ],
   "source": [
    "# Исследуем дерево решений. Пока не обращаем внимание на дисбаланс в целевом признаке и не меняем class_weight\n",
    "\n",
    "check_decision_tree(features_train, target_train, None, 'default')"
   ]
  },
  {
   "cell_type": "code",
   "execution_count": 28,
   "id": "bdf65522-0d12-4fb8-bef0-bcd652af4c80",
   "metadata": {},
   "outputs": [],
   "source": [
    "# Посмотрим на регрессию. Пока не обращаем внимание на дисбаланс в целевом признаке и не меняем class_weight\n",
    "\n",
    "def check_logistic_regression(features_train, target_train, class_weight, train_type):\n",
    "    print('Logistic regression')\n",
    "    print_title()\n",
    "    \n",
    "    model = LogisticRegression(solver='liblinear', random_state=random_state, class_weight=class_weight)\n",
    "    model.fit(features_train, target_train)\n",
    "    #\n",
    "    probabilities_valid = model.predict_proba(features_valid)\n",
    "    probabilities_one_valid = probabilities_valid[:, 1]\n",
    "    #\n",
    "    predicted_valid = model.predict(features_valid)\n",
    "    print_info(target_valid, predicted_valid, probabilities_one_valid)\n",
    "    \n",
    "    # Воспользуемся тем, что питон будет искать наш словарь глобально\n",
    "    best_results['logistic_regression'][train_type] = dict()\n",
    "    best_results['logistic_regression'][train_type]['params'] = '-'\n",
    "    best_results['logistic_regression'][train_type]['f1'] = f1_score(target_valid, predicted_valid)"
   ]
  },
  {
   "cell_type": "code",
   "execution_count": 29,
   "id": "75d22729-7255-4159-a0d4-07d289ed4fa3",
   "metadata": {},
   "outputs": [
    {
     "name": "stdout",
     "output_type": "stream",
     "text": [
      "Logistic regression\n",
      "╎  Accuracy╎    Recall╎ Precision╎        F1╎   ROC-AUC╎   TP╎    TN╎   FP╎   FN╎\n",
      "╎  0.810000╎  0.200980╎  0.602941╎  0.301471╎  0.787782╎   82╎  1538╎   54╎  326╎\n"
     ]
    }
   ],
   "source": [
    "check_logistic_regression(features_train, target_train, None, 'default')"
   ]
  },
  {
   "cell_type": "code",
   "execution_count": 30,
   "id": "e6a29364-a5de-4867-b560-1364e2735959",
   "metadata": {},
   "outputs": [],
   "source": [
    "# Исследуем случайный лес. Пока не обращаем внимание на дисбаланс в целевом признаке и не меняем class_weight\n",
    "\n",
    "def check_random_forest(features_train, target_train, class_weight, train_type):\n",
    "    print('Random_forest')\n",
    "    print('╎{: >13}╎{: >10}'.format('n_estimators', 'max_depth'), end='')\n",
    "    print_title()\n",
    "\n",
    "        # Будем сразу считать лучшую меру и параметры, чтобы не искать глазами\n",
    "    best_f1 = 0\n",
    "    best_max_depth = 0\n",
    "    best_n_estimators = 0\n",
    "    \n",
    "    for estim in range(5, 24, 3):\n",
    "        for max_depth in range(5, 24, 3):\n",
    "            model = RandomForestClassifier(n_estimators=estim, max_depth=max_depth, random_state=random_state, class_weight=class_weight)\n",
    "            model.fit(features_train, target_train)\n",
    "            predicted_valid = model.predict(features_valid)\n",
    "            #\n",
    "            probabilities_valid = model.predict_proba(features_valid)\n",
    "            probabilities_one_valid = probabilities_valid[:, 1]\n",
    "            #\n",
    "            print('╎{: >13}╎{: >10}'.format(estim, max_depth), end='')\n",
    "            print_info(target_valid, predicted_valid, probabilities_one_valid)\n",
    "            \n",
    "            f1 = f1_score(target_valid, predicted_valid)\n",
    "            if (f1 > best_f1):\n",
    "                best_f1 = f1\n",
    "                best_max_depth = max_depth\n",
    "                best_n_estimators = estim\n",
    "        \n",
    "        print() # Для разделения вывода по количеству деревьев\n",
    "    \n",
    "    # Воспользуемся тем, что питон будет искать наш словарь глобально\n",
    "    best_results['random_forest'][train_type] = dict()\n",
    "    best_results['random_forest'][train_type]['params'] = 'estim=' + str(best_n_estimators) + '; max_depth=' + str(best_max_depth)\n",
    "    best_results['random_forest'][train_type]['f1'] = best_f1"
   ]
  },
  {
   "cell_type": "code",
   "execution_count": 31,
   "id": "de562eda-976e-4c7a-8e83-edf8162920d8",
   "metadata": {},
   "outputs": [
    {
     "name": "stdout",
     "output_type": "stream",
     "text": [
      "Random_forest\n",
      "╎ n_estimators╎ max_depth╎  Accuracy╎    Recall╎ Precision╎        F1╎   ROC-AUC╎   TP╎    TN╎   FP╎   FN╎\n",
      "╎            5╎         5╎  0.860500╎  0.455882╎  0.765432╎  0.571429╎  0.836925╎  186╎  1535╎   57╎  222╎\n",
      "╎            5╎         8╎  0.862000╎  0.460784╎  0.770492╎  0.576687╎  0.845427╎  188╎  1536╎   56╎  220╎\n",
      "╎            5╎        11╎  0.856500╎  0.485294╎  0.720000╎  0.579795╎  0.833052╎  198╎  1515╎   77╎  210╎\n",
      "╎            5╎        14╎  0.850000╎  0.497549╎  0.681208╎  0.575071╎  0.803202╎  203╎  1497╎   95╎  205╎\n",
      "╎            5╎        17╎  0.854000╎  0.553922╎  0.672619╎  0.607527╎  0.808793╎  226╎  1482╎  110╎  182╎\n",
      "╎            5╎        20╎  0.841500╎  0.531863╎  0.632653╎  0.577896╎  0.794484╎  217╎  1466╎  126╎  191╎\n",
      "╎            5╎        23╎  0.840500╎  0.534314╎  0.628242╎  0.577483╎  0.816462╎  218╎  1463╎  129╎  190╎\n",
      "\n",
      "╎            8╎         5╎  0.860500╎  0.424020╎  0.797235╎  0.553600╎  0.852936╎  173╎  1548╎   44╎  235╎\n",
      "╎            8╎         8╎  0.861000╎  0.433824╎  0.790179╎  0.560127╎  0.859097╎  177╎  1545╎   47╎  231╎\n",
      "╎            8╎        11╎  0.860500╎  0.482843╎  0.743396╎  0.585438╎  0.837596╎  197╎  1524╎   68╎  211╎\n",
      "╎            8╎        14╎  0.855500╎  0.470588╎  0.724528╎  0.570579╎  0.826670╎  192╎  1519╎   73╎  216╎\n",
      "╎            8╎        17╎  0.862000╎  0.502451╎  0.737410╎  0.597668╎  0.830324╎  205╎  1519╎   73╎  203╎\n",
      "╎            8╎        20╎  0.854500╎  0.485294╎  0.709677╎  0.576419╎  0.819965╎  198╎  1511╎   81╎  210╎\n",
      "╎            8╎        23╎  0.850500╎  0.468137╎  0.699634╎  0.560940╎  0.833101╎  191╎  1510╎   82╎  217╎\n",
      "\n",
      "╎           11╎         5╎  0.860500╎  0.421569╎  0.800000╎  0.552167╎  0.857892╎  172╎  1549╎   43╎  236╎\n",
      "╎           11╎         8╎  0.865000╎  0.455882╎  0.794872╎  0.579439╎  0.864342╎  186╎  1544╎   48╎  222╎\n",
      "╎           11╎        11╎  0.865000╎  0.497549╎  0.757463╎  0.600592╎  0.849734╎  203╎  1527╎   65╎  205╎\n",
      "╎           11╎        14╎  0.862000╎  0.490196╎  0.746269╎  0.591716╎  0.832895╎  200╎  1524╎   68╎  208╎\n",
      "╎           11╎        17╎  0.861000╎  0.522059╎  0.719595╎  0.605114╎  0.838636╎  213╎  1509╎   83╎  195╎\n",
      "╎           11╎        20╎  0.857500╎  0.526961╎  0.700326╎  0.601399╎  0.828994╎  215╎  1500╎   92╎  193╎\n",
      "╎           11╎        23╎  0.853500╎  0.502451╎  0.694915╎  0.583215╎  0.849201╎  205╎  1502╎   90╎  203╎\n",
      "\n",
      "╎           14╎         5╎  0.861000╎  0.433824╎  0.790179╎  0.560127╎  0.857119╎  177╎  1545╎   47╎  231╎\n",
      "╎           14╎         8╎  0.861500╎  0.446078╎  0.781116╎  0.567863╎  0.864864╎  182╎  1541╎   51╎  226╎\n",
      "╎           14╎        11╎  0.865500╎  0.487745╎  0.768340╎  0.596702╎  0.855632╎  199╎  1532╎   60╎  209╎\n",
      "╎           14╎        14╎  0.867000╎  0.502451╎  0.764925╎  0.606509╎  0.839036╎  205╎  1529╎   63╎  203╎\n",
      "╎           14╎        17╎  0.868000╎  0.514706╎  0.760870╎  0.614035╎  0.844432╎  210╎  1526╎   66╎  198╎\n",
      "╎           14╎        20╎  0.858500╎  0.487745╎  0.728938╎  0.584435╎  0.835900╎  199╎  1518╎   74╎  209╎\n",
      "╎           14╎        23╎  0.858000╎  0.477941╎  0.733083╎  0.578635╎  0.850729╎  195╎  1521╎   71╎  213╎\n",
      "\n",
      "╎           17╎         5╎  0.859500╎  0.426471╎  0.787330╎  0.553259╎  0.858377╎  174╎  1545╎   47╎  234╎\n",
      "╎           17╎         8╎  0.862500╎  0.450980╎  0.782979╎  0.572317╎  0.865355╎  184╎  1541╎   51╎  224╎\n",
      "╎           17╎        11╎  0.864500╎  0.482843╎  0.766537╎  0.592481╎  0.857317╎  197╎  1532╎   60╎  211╎\n",
      "╎           17╎        14╎  0.866000╎  0.502451╎  0.759259╎  0.604720╎  0.841559╎  205╎  1527╎   65╎  203╎\n",
      "╎           17╎        17╎  0.865500╎  0.519608╎  0.743860╎  0.611833╎  0.841481╎  212╎  1519╎   73╎  196╎\n",
      "╎           17╎        20╎  0.862000╎  0.517157╎  0.727586╎  0.604585╎  0.838195╎  211╎  1513╎   79╎  197╎\n",
      "╎           17╎        23╎  0.858000╎  0.500000╎  0.718310╎  0.589595╎  0.854003╎  204╎  1512╎   80╎  204╎\n",
      "\n",
      "╎           20╎         5╎  0.860500╎  0.431373╎  0.789238╎  0.557845╎  0.861967╎  176╎  1545╎   47╎  232╎\n",
      "╎           20╎         8╎  0.864000╎  0.455882╎  0.788136╎  0.577640╎  0.867305╎  186╎  1542╎   50╎  222╎\n",
      "╎           20╎        11╎  0.868000╎  0.482843╎  0.788000╎  0.598784╎  0.859948╎  197╎  1539╎   53╎  211╎\n",
      "╎           20╎        14╎  0.865500╎  0.492647╎  0.764259╎  0.599106╎  0.842793╎  201╎  1530╎   62╎  207╎\n",
      "╎           20╎        17╎  0.866000╎  0.504902╎  0.757353╎  0.605882╎  0.846634╎  206╎  1526╎   66╎  202╎\n",
      "╎           20╎        20╎  0.864500╎  0.504902╎  0.749091╎  0.603221╎  0.845721╎  206╎  1523╎   69╎  202╎\n",
      "╎           20╎        23╎  0.856000╎  0.477941╎  0.722222╎  0.575221╎  0.856485╎  195╎  1517╎   75╎  213╎\n",
      "\n",
      "╎           23╎         5╎  0.860000╎  0.421569╎  0.796296╎  0.551282╎  0.865607╎  172╎  1548╎   44╎  236╎\n",
      "╎           23╎         8╎  0.862500╎  0.450980╎  0.782979╎  0.572317╎  0.868858╎  184╎  1541╎   51╎  224╎\n",
      "╎           23╎        11╎  0.868500╎  0.487745╎  0.786561╎  0.602118╎  0.862607╎  199╎  1538╎   54╎  209╎\n",
      "╎           23╎        14╎  0.869000╎  0.500000╎  0.778626╎  0.608955╎  0.843429╎  204╎  1534╎   58╎  204╎\n",
      "╎           23╎        17╎  0.866000╎  0.507353╎  0.755474╎  0.607038╎  0.849041╎  207╎  1525╎   67╎  201╎\n",
      "╎           23╎        20╎  0.862000╎  0.512255╎  0.730769╎  0.602305╎  0.848199╎  209╎  1515╎   77╎  199╎\n",
      "╎           23╎        23╎  0.860000╎  0.509804╎  0.722222╎  0.597701╎  0.859613╎  208╎  1512╎   80╎  200╎\n",
      "\n"
     ]
    }
   ],
   "source": [
    "check_random_forest(features_train, target_train, None, 'default');"
   ]
  },
  {
   "cell_type": "code",
   "execution_count": 32,
   "id": "35a331c5-27b3-4264-8c26-339452b5eb1a",
   "metadata": {},
   "outputs": [
    {
     "name": "stdout",
     "output_type": "stream",
     "text": [
      "╎          Model name╎     Train type╎                   Params╎        F1╎\n",
      "\n",
      "╎       decision_tree╎        default╎              max_depth=7╎   0.59452╎\n",
      "\n",
      "╎ logistic_regression╎        default╎                        -╎   0.30147╎\n",
      "\n",
      "╎       random_forest╎        default╎   estim=14; max_depth=17╎   0.61404╎\n"
     ]
    }
   ],
   "source": [
    "display_best_results(best_results)"
   ]
  },
  {
   "cell_type": "markdown",
   "id": "43993755-5ea4-49a6-8425-e0360a0638c3",
   "metadata": {},
   "source": [
    "## Промежуточный вывод\n",
    "- За счет распределения ключевой метрики до сплита выборок на тренировочные, валидационные и тестовые уже на данном этапе модели машинного обучения показывают высокие показатели F1-меры. Лидирует на данном этапе `Случайный лес` с F1 = 0.61\n",
    "- Рещающее дерево показывает себя также очень уверенно с показатем F1 = 0.587\n",
    "- Логическая регрессия сильно проигрывает обоим деревьям по показатель F1.\n",
    "- Стоит отметить, что на данном этапе `Accuracy` она же точность предсказания держится в районе 0.81-0.86, однако из-за дисбаланса классов целевого признака данная метрика не имеет должного веса.\n",
    "- Также стоит ответить, что все без исключения модели на данном этапе хорошо предсказывают негативные исходы и ошибаются в половине и более случаях с положительным исходом.\n"
   ]
  },
  {
   "cell_type": "markdown",
   "id": "d0273c53-d343-4e28-a0d0-bf031ab4f447",
   "metadata": {},
   "source": [
    "# Исследование моделей машинного обучения"
   ]
  },
  {
   "cell_type": "markdown",
   "id": "66ba75ff-3d53-4410-92c0-8943896d819d",
   "metadata": {},
   "source": [
    "## Взвешивание классов признаков"
   ]
  },
  {
   "cell_type": "code",
   "execution_count": 33,
   "id": "3fd7a4f5-f705-4c05-8f23-458f459eed9e",
   "metadata": {},
   "outputs": [
    {
     "name": "stdout",
     "output_type": "stream",
     "text": [
      "Decision tree\n",
      "╎max_depth╎  Accuracy╎    Recall╎ Precision╎        F1╎   ROC-AUC╎   TP╎    TN╎   FP╎   FN╎\n",
      "╎        2╎  0.684500╎  0.767157╎  0.368669╎  0.498011╎  0.747591╎  313╎  1056╎  536╎   95╎\n",
      "╎        3╎  0.797500╎  0.539216╎  0.503432╎  0.520710╎  0.788675╎  220╎  1375╎  217╎  188╎\n",
      "╎        4╎  0.755000╎  0.767157╎  0.442090╎  0.560932╎  0.822021╎  313╎  1197╎  395╎   95╎\n",
      "╎        5╎  0.727000╎  0.833333╎  0.415648╎  0.554649╎  0.841351╎  340╎  1114╎  478╎   68╎\n",
      "╎        6╎  0.770000╎  0.762255╎  0.461424╎  0.574861╎  0.823057╎  311╎  1229╎  363╎   97╎\n",
      "╎        7╎  0.761500╎  0.774510╎  0.450785╎  0.569883╎  0.814823╎  316╎  1207╎  385╎   92╎\n",
      "╎        8╎  0.758000╎  0.735294╎  0.443787╎  0.553506╎  0.798795╎  300╎  1216╎  376╎  108╎\n",
      "╎        9╎  0.764000╎  0.676471╎  0.448052╎  0.539062╎  0.781866╎  276╎  1252╎  340╎  132╎\n",
      "╎       10╎  0.778500╎  0.649510╎  0.469027╎  0.544707╎  0.775230╎  265╎  1292╎  300╎  143╎\n",
      "╎       11╎  0.773500╎  0.620098╎  0.459165╎  0.527633╎  0.747162╎  253╎  1294╎  298╎  155╎\n",
      "╎       12╎  0.759000╎  0.595588╎  0.433929╎  0.502066╎  0.722641╎  243╎  1275╎  317╎  165╎\n",
      "╎       13╎  0.782000╎  0.585784╎  0.472332╎  0.522976╎  0.715351╎  239╎  1325╎  267╎  169╎\n",
      "╎       14╎  0.786000╎  0.568627╎  0.479339╎  0.520179╎  0.713835╎  232╎  1340╎  252╎  176╎\n",
      "╎       15╎  0.790500╎  0.539216╎  0.487805╎  0.512224╎  0.702756╎  220╎  1361╎  231╎  188╎\n"
     ]
    }
   ],
   "source": [
    "check_decision_tree(features_train, target_train, 'balanced', 'balanced')"
   ]
  },
  {
   "cell_type": "markdown",
   "id": "b7df8179-36c0-445b-99af-7e49a54a1acb",
   "metadata": {},
   "source": [
    "Микро вывод\n",
    "\n",
    "После балансировки классов целевого признака в моделе Решающего дерева произошли следующие изминения:\n",
    "\n",
    "- Упала точность предсказаний (мы на данном этапе в целом слабо доверяем данной метрике)\n",
    "- Резко увеличились показатели полноты, доли верно предсказанных положительных ответов\n",
    "- Упали показатели точности, доли верно предсказанных отрицательных ответов\n",
    "- Метрица F1 выросла ещё сильней вплоть до 0.57\n",
    "- Мы продолжаем улучшать нашу модель и её предсказания все дальше от случайных"
   ]
  },
  {
   "cell_type": "code",
   "execution_count": 34,
   "id": "d7dbb9ba-2a71-4930-8c57-44e3f1ebc05d",
   "metadata": {},
   "outputs": [
    {
     "name": "stdout",
     "output_type": "stream",
     "text": [
      "Logistic regression\n",
      "╎  Accuracy╎    Recall╎ Precision╎        F1╎   ROC-AUC╎   TP╎    TN╎   FP╎   FN╎\n",
      "╎  0.730000╎  0.737745╎  0.410082╎  0.527145╎  0.794001╎  301╎  1159╎  433╎  107╎\n"
     ]
    }
   ],
   "source": [
    "check_logistic_regression(features_train, target_train, 'balanced', 'balanced')"
   ]
  },
  {
   "cell_type": "markdown",
   "id": "3cfb9c4f-eac6-4c69-a5dd-13c63d19d2ed",
   "metadata": {},
   "source": [
    "Микро вывод\n",
    "\n",
    "После балансировки классов целевого признака в моделе Логической регрессии произошли следующие изминения:\n",
    "\n",
    "- Accuracy уменьшилась на восемь десятых, что не является существенных снижением, назовем это отрицательным ростом\n",
    "- Резко увеличились показатели полноты, доли верно предсказанных положительных ответов\n",
    "- Упали показатели точности, доли верно предсказанных отрицательных ответов\n",
    "- Метрица F1 выросла ещё сильней вплоть до 0.527\n",
    "- Мы продолжаем улучшать нашу модель и её предсказания все дальше от случайных"
   ]
  },
  {
   "cell_type": "code",
   "execution_count": 35,
   "id": "3715c2f2-16b4-4835-92bf-798ece4533a6",
   "metadata": {},
   "outputs": [
    {
     "name": "stdout",
     "output_type": "stream",
     "text": [
      "Random_forest\n",
      "╎ n_estimators╎ max_depth╎  Accuracy╎    Recall╎ Precision╎        F1╎   ROC-AUC╎   TP╎    TN╎   FP╎   FN╎\n",
      "╎            5╎         5╎  0.807000╎  0.750000╎  0.518644╎  0.613226╎  0.849769╎  306╎  1308╎  284╎  102╎\n",
      "╎            5╎         8╎  0.812000╎  0.705882╎  0.529412╎  0.605042╎  0.845359╎  288╎  1336╎  256╎  120╎\n",
      "╎            5╎        11╎  0.836000╎  0.617647╎  0.594340╎  0.605769╎  0.836793╎  252╎  1420╎  172╎  156╎\n",
      "╎            5╎        14╎  0.842000╎  0.566176╎  0.624324╎  0.593830╎  0.820177╎  231╎  1453╎  139╎  177╎\n",
      "╎            5╎        17╎  0.833500╎  0.512255╎  0.609329╎  0.556591╎  0.803275╎  209╎  1458╎  134╎  199╎\n",
      "╎            5╎        20╎  0.841000╎  0.495098╎  0.643312╎  0.559557╎  0.806334╎  202╎  1480╎  112╎  206╎\n",
      "╎            5╎        23╎  0.846500╎  0.526961╎  0.653495╎  0.583446╎  0.806600╎  215╎  1478╎  114╎  193╎\n",
      "\n",
      "╎            8╎         5╎  0.821000╎  0.750000╎  0.544484╎  0.630928╎  0.856740╎  306╎  1336╎  256╎  102╎\n",
      "╎            8╎         8╎  0.821500╎  0.713235╎  0.548023╎  0.619808╎  0.854411╎  291╎  1352╎  240╎  117╎\n",
      "╎            8╎        11╎  0.847000╎  0.625000╎  0.625000╎  0.625000╎  0.848396╎  255╎  1439╎  153╎  153╎\n",
      "╎            8╎        14╎  0.846500╎  0.519608╎  0.656347╎  0.580027╎  0.826095╎  212╎  1481╎  111╎  196╎\n",
      "╎            8╎        17╎  0.848000╎  0.453431╎  0.695489╎  0.548961╎  0.822230╎  185╎  1511╎   81╎  223╎\n",
      "╎            8╎        20╎  0.852000╎  0.438725╎  0.727642╎  0.547401╎  0.820047╎  179╎  1525╎   67╎  229╎\n",
      "╎            8╎        23╎  0.856500╎  0.460784╎  0.737255╎  0.567119╎  0.821188╎  188╎  1525╎   67╎  220╎\n",
      "\n",
      "╎           11╎         5╎  0.809500╎  0.735294╎  0.523560╎  0.611621╎  0.856322╎  300╎  1319╎  273╎  108╎\n",
      "╎           11╎         8╎  0.829000╎  0.725490╎  0.562738╎  0.633833╎  0.860169╎  296╎  1362╎  230╎  112╎\n",
      "╎           11╎        11╎  0.850500╎  0.625000╎  0.635910╎  0.630408╎  0.854198╎  255╎  1446╎  146╎  153╎\n",
      "╎           11╎        14╎  0.848000╎  0.544118╎  0.652941╎  0.593583╎  0.837482╎  222╎  1474╎  118╎  186╎\n",
      "╎           11╎        17╎  0.848500╎  0.492647╎  0.676768╎  0.570213╎  0.832761╎  201╎  1496╎   96╎  207╎\n",
      "╎           11╎        20╎  0.854000╎  0.497549╎  0.700000╎  0.581662╎  0.831695╎  203╎  1505╎   87╎  205╎\n",
      "╎           11╎        23╎  0.854500╎  0.502451╎  0.699659╎  0.584879╎  0.829726╎  205╎  1504╎   88╎  203╎\n",
      "\n",
      "╎           14╎         5╎  0.808500╎  0.740196╎  0.521589╎  0.611955╎  0.858501╎  302╎  1315╎  277╎  106╎\n",
      "╎           14╎         8╎  0.829500╎  0.705882╎  0.565815╎  0.628135╎  0.861349╎  288╎  1371╎  221╎  120╎\n",
      "╎           14╎        11╎  0.853500╎  0.617647╎  0.647815╎  0.632371╎  0.855478╎  252╎  1455╎  137╎  156╎\n",
      "╎           14╎        14╎  0.846500╎  0.507353╎  0.661342╎  0.574202╎  0.838825╎  207╎  1486╎  106╎  201╎\n",
      "╎           14╎        17╎  0.854500╎  0.475490╎  0.715867╎  0.571429╎  0.836724╎  194╎  1515╎   77╎  214╎\n",
      "╎           14╎        20╎  0.856000╎  0.468137╎  0.729008╎  0.570149╎  0.829574╎  191╎  1521╎   71╎  217╎\n",
      "╎           14╎        23╎  0.852500╎  0.460784╎  0.714829╎  0.560358╎  0.835300╎  188╎  1517╎   75╎  220╎\n",
      "\n",
      "╎           17╎         5╎  0.809500╎  0.752451╎  0.522998╎  0.617085╎  0.859424╎  307╎  1312╎  280╎  101╎\n",
      "╎           17╎         8╎  0.829000╎  0.700980╎  0.565217╎  0.625821╎  0.862438╎  286╎  1372╎  220╎  122╎\n",
      "╎           17╎        11╎  0.856000╎  0.622549╎  0.654639╎  0.638191╎  0.851404╎  254╎  1458╎  134╎  154╎\n",
      "╎           17╎        14╎  0.855000╎  0.524510╎  0.690323╎  0.596100╎  0.839616╎  214╎  1496╎   96╎  194╎\n",
      "╎           17╎        17╎  0.858000╎  0.504902╎  0.715278╎  0.591954╎  0.843227╎  206╎  1510╎   82╎  202╎\n",
      "╎           17╎        20╎  0.858500╎  0.497549╎  0.722420╎  0.589260╎  0.835507╎  203╎  1514╎   78╎  205╎\n",
      "╎           17╎        23╎  0.860500╎  0.500000╎  0.731183╎  0.593886╎  0.839536╎  204╎  1517╎   75╎  204╎\n",
      "\n",
      "╎           20╎         5╎  0.807000╎  0.750000╎  0.518644╎  0.613226╎  0.861200╎  306╎  1308╎  284╎  102╎\n",
      "╎           20╎         8╎  0.828500╎  0.693627╎  0.564870╎  0.622662╎  0.864034╎  283╎  1374╎  218╎  125╎\n",
      "╎           20╎        11╎  0.856000╎  0.617647╎  0.656250╎  0.636364╎  0.854971╎  252╎  1460╎  132╎  156╎\n",
      "╎           20╎        14╎  0.856500╎  0.529412╎  0.694534╎  0.600834╎  0.844231╎  216╎  1497╎   95╎  192╎\n",
      "╎           20╎        17╎  0.862500╎  0.500000╎  0.741818╎  0.597365╎  0.848770╎  204╎  1521╎   71╎  204╎\n",
      "╎           20╎        20╎  0.859500╎  0.468137╎  0.749020╎  0.576169╎  0.843993╎  191╎  1528╎   64╎  217╎\n",
      "╎           20╎        23╎  0.860000╎  0.470588╎  0.750000╎  0.578313╎  0.845730╎  192╎  1528╎   64╎  216╎\n",
      "\n",
      "╎           23╎         5╎  0.808500╎  0.742647╎  0.521515╎  0.612740╎  0.861596╎  303╎  1314╎  278╎  105╎\n",
      "╎           23╎         8╎  0.833500╎  0.708333╎  0.574553╎  0.634468╎  0.865873╎  289╎  1378╎  214╎  119╎\n",
      "╎           23╎        11╎  0.857500╎  0.620098╎  0.660574╎  0.639697╎  0.859134╎  253╎  1462╎  130╎  155╎\n",
      "╎           23╎        14╎  0.855500╎  0.524510╎  0.692557╎  0.596932╎  0.847333╎  214╎  1497╎   95╎  194╎\n",
      "╎           23╎        17╎  0.861000╎  0.504902╎  0.730496╎  0.597101╎  0.849667╎  206╎  1516╎   76╎  202╎\n",
      "╎           23╎        20╎  0.856500╎  0.477941╎  0.724907╎  0.576071╎  0.847765╎  195╎  1518╎   74╎  213╎\n",
      "╎           23╎        23╎  0.861500╎  0.495098╎  0.739927╎  0.593245╎  0.847408╎  202╎  1521╎   71╎  206╎\n",
      "\n"
     ]
    }
   ],
   "source": [
    "check_random_forest(features_train, target_train, 'balanced', 'balanced')"
   ]
  },
  {
   "cell_type": "markdown",
   "id": "fbc8b38d-46ea-4656-b973-2238ec0b88b5",
   "metadata": {},
   "source": [
    "Микро вывод\n",
    "\n",
    "После балансировки классов целевого признака в моделе Случайного дерева произошли следующие изминения:\n",
    "\n",
    "- Accuracy уменьшилась незначитель\n",
    "- Резко увеличились показатели полноты, доли верно предсказанных положительных ответов\n",
    "- Наблюдается обратная зависимость между `Recall` и `Precision`, чем больше первый, тем меньше второй, показатель F1 выше по середине\n",
    "- Упали показатели точности, доли верно предсказанных отрицательных ответов\n",
    "- Метрица F1 выросла ещё сильней вплоть до 0.64\n",
    "- Мы продолжаем улучшать нашу модель и её предсказания все дальше от случайных"
   ]
  },
  {
   "cell_type": "code",
   "execution_count": 36,
   "id": "c33b1867-ff1e-4ae1-8eed-034b28189ac6",
   "metadata": {},
   "outputs": [
    {
     "name": "stdout",
     "output_type": "stream",
     "text": [
      "╎          Model name╎     Train type╎                   Params╎        F1╎\n",
      "\n",
      "╎       decision_tree╎        default╎              max_depth=7╎   0.59452╎\n",
      "╎       decision_tree╎       balanced╎              max_depth=6╎   0.57486╎\n",
      "\n",
      "╎ logistic_regression╎        default╎                        -╎   0.30147╎\n",
      "╎ logistic_regression╎       balanced╎                        -╎   0.52715╎\n",
      "\n",
      "╎       random_forest╎        default╎   estim=14; max_depth=17╎   0.61404╎\n",
      "╎       random_forest╎       balanced╎   estim=23; max_depth=11╎   0.63970╎\n"
     ]
    }
   ],
   "source": [
    "display_best_results(best_results)"
   ]
  },
  {
   "cell_type": "markdown",
   "id": "e3c79b61-62b0-43f8-be0c-ec6f94534871",
   "metadata": {},
   "source": [
    "### Промежуточный вывод\n",
    "\n",
    "Манипуляции по балансировке классов целевого признака дали свои плоды:\n",
    "- Имеем хорошую точность предсказаний на уровне 0.8 - 0.86\n",
    "- Имеет увеличение значения целевой метрики F1 во всех моделях\n",
    "- Наблюдаем обратную взаимосвязь между `Recall` и `Precision`\n",
    "\n",
    "Случайный лес попрежнему лидер, на второй месте Рещающее дерево и замыкает тройку лидеров Логическая регрессия."
   ]
  },
  {
   "cell_type": "markdown",
   "id": "a15f2012-550d-4f2f-9c2d-efdcbf25bdb3",
   "metadata": {},
   "source": [
    "## Upsampling"
   ]
  },
  {
   "cell_type": "code",
   "execution_count": 37,
   "id": "c1d91c19-50d0-4f54-bb16-65028d81ec65",
   "metadata": {},
   "outputs": [
    {
     "data": {
      "text/plain": [
       "0.25580811252040686"
      ]
     },
     "execution_count": 37,
     "metadata": {},
     "output_type": "execute_result"
    }
   ],
   "source": [
    "# Не будем останавливаться на достигнутом, попробуем upsampling\n",
    "\n",
    "# поскольку модели лучше учатся при соотношении 50 на 50, для начала вычислим коэффицент\n",
    "# насколько больше у нас отрицательных значений\n",
    "\n",
    "coef = y[y == 1].count() / y[y == 0].count()\n",
    "coef"
   ]
  },
  {
   "cell_type": "code",
   "execution_count": 38,
   "id": "54a86c49-13c8-463c-ad1c-f2153c4359ff",
   "metadata": {},
   "outputs": [],
   "source": [
    "# напишем функцию, которая будет увеличивать нашу выборку с учетом коэффицента\n",
    "\n",
    "def upsample(features, target, coef):\n",
    "    if (coef > 1):\n",
    "        print('Положительных значений больше чем отрицательных, увеличение не требуется')\n",
    "        print(coef)\n",
    "        return;\n",
    "    \n",
    "    features_zeros = features[target == 0]\n",
    "    features_ones = features[target == 1]\n",
    "    target_zeros = target[target == 0]\n",
    "    target_ones = target[target == 1]\n",
    "\n",
    "    repeat = round(1 / coef)\n",
    "    features_upsampled = pd.concat([features_zeros] + [features_ones] * repeat)\n",
    "    target_upsampled = pd.concat([target_zeros] + [target_ones] * repeat)\n",
    "    features_upsampled, target_upsampled = shuffle(features_upsampled, target_upsampled, random_state=random_state)\n",
    "    \n",
    "    return features_upsampled, target_upsampled\n",
    "\n",
    "features_upsampled, target_upsampled = upsample(features_train, target_train, coef)"
   ]
  },
  {
   "cell_type": "code",
   "execution_count": 39,
   "id": "6aef0cf8-163a-4ee0-901a-ec921993ce45",
   "metadata": {},
   "outputs": [
    {
     "data": {
      "text/plain": [
       "1    4888\n",
       "0    4778\n",
       "Name: exited, dtype: int64"
      ]
     },
     "execution_count": 39,
     "metadata": {},
     "output_type": "execute_result"
    }
   ],
   "source": [
    "target_upsampled.value_counts() # Отлично, нам удалось нормализовать распределение классов целевого признака"
   ]
  },
  {
   "cell_type": "code",
   "execution_count": 40,
   "id": "39dd7eb3-6445-4ecd-9968-88128339f154",
   "metadata": {},
   "outputs": [
    {
     "name": "stdout",
     "output_type": "stream",
     "text": [
      "Decision tree\n",
      "╎max_depth╎  Accuracy╎    Recall╎ Precision╎        F1╎   ROC-AUC╎   TP╎    TN╎   FP╎   FN╎\n",
      "╎        2╎  0.684500╎  0.767157╎  0.368669╎  0.498011╎  0.747591╎  313╎  1056╎  536╎   95╎\n",
      "╎        3╎  0.684500╎  0.767157╎  0.368669╎  0.498011╎  0.788675╎  313╎  1056╎  536╎   95╎\n",
      "╎        4╎  0.755000╎  0.767157╎  0.442090╎  0.560932╎  0.822021╎  313╎  1197╎  395╎   95╎\n",
      "╎        5╎  0.727000╎  0.833333╎  0.415648╎  0.554649╎  0.841351╎  340╎  1114╎  478╎   68╎\n",
      "╎        6╎  0.771000╎  0.762255╎  0.462798╎  0.575926╎  0.824855╎  311╎  1231╎  361╎   97╎\n",
      "╎        7╎  0.762500╎  0.774510╎  0.452074╎  0.570912╎  0.817035╎  316╎  1209╎  383╎   92╎\n",
      "╎        8╎  0.757500╎  0.735294╎  0.443131╎  0.552995╎  0.799884╎  300╎  1215╎  377╎  108╎\n",
      "╎        9╎  0.765000╎  0.671569╎  0.449180╎  0.538310╎  0.783693╎  274╎  1256╎  336╎  134╎\n",
      "╎       10╎  0.776500╎  0.651961╎  0.465849╎  0.543412╎  0.776347╎  266╎  1287╎  305╎  142╎\n",
      "╎       11╎  0.778500╎  0.625000╎  0.467890╎  0.535152╎  0.754177╎  255╎  1302╎  290╎  153╎\n",
      "╎       12╎  0.764000╎  0.610294╎  0.443060╎  0.513402╎  0.734704╎  249╎  1279╎  313╎  159╎\n",
      "╎       13╎  0.787500╎  0.590686╎  0.482966╎  0.531422╎  0.725038╎  241╎  1334╎  258╎  167╎\n",
      "╎       14╎  0.794500╎  0.590686╎  0.496907╎  0.539754╎  0.721971╎  241╎  1348╎  244╎  167╎\n",
      "╎       15╎  0.791000╎  0.544118╎  0.488987╎  0.515081╎  0.706819╎  222╎  1360╎  232╎  186╎\n"
     ]
    }
   ],
   "source": [
    "check_decision_tree(features_upsampled, target_upsampled, None, 'upsample')"
   ]
  },
  {
   "cell_type": "code",
   "execution_count": 41,
   "id": "8bf70b87-09f0-4091-9b05-a0f560006396",
   "metadata": {},
   "outputs": [
    {
     "name": "stdout",
     "output_type": "stream",
     "text": [
      "Logistic regression\n",
      "╎  Accuracy╎    Recall╎ Precision╎        F1╎   ROC-AUC╎   TP╎    TN╎   FP╎   FN╎\n",
      "╎  0.725500╎  0.745098╎  0.405874╎  0.525497╎  0.794036╎  304╎  1147╎  445╎  104╎\n"
     ]
    }
   ],
   "source": [
    "check_logistic_regression(features_upsampled, target_upsampled, None, 'upsample')"
   ]
  },
  {
   "cell_type": "code",
   "execution_count": 42,
   "id": "03f05ad9-3ff5-4b93-a766-6ca7b8890361",
   "metadata": {},
   "outputs": [
    {
     "name": "stdout",
     "output_type": "stream",
     "text": [
      "Random_forest\n",
      "╎ n_estimators╎ max_depth╎  Accuracy╎    Recall╎ Precision╎        F1╎   ROC-AUC╎   TP╎    TN╎   FP╎   FN╎\n",
      "╎            5╎         5╎  0.770000╎  0.791667╎  0.462751╎  0.584087╎  0.847518╎  323╎  1217╎  375╎   85╎\n",
      "╎            5╎         8╎  0.815500╎  0.750000╎  0.534031╎  0.623853╎  0.856627╎  306╎  1325╎  267╎  102╎\n",
      "╎            5╎        11╎  0.813000╎  0.688725╎  0.532197╎  0.600427╎  0.839233╎  281╎  1345╎  247╎  127╎\n",
      "╎            5╎        14╎  0.826500╎  0.632353╎  0.567033╎  0.597914╎  0.826320╎  258╎  1395╎  197╎  150╎\n",
      "╎            5╎        17╎  0.823000╎  0.551471╎  0.568182╎  0.559701╎  0.815401╎  225╎  1421╎  171╎  183╎\n",
      "╎            5╎        20╎  0.828000╎  0.563725╎  0.580808╎  0.572139╎  0.812292╎  230╎  1426╎  166╎  178╎\n",
      "╎            5╎        23╎  0.822000╎  0.544118╎  0.566327╎  0.555000╎  0.802008╎  222╎  1422╎  170╎  186╎\n",
      "\n",
      "╎            8╎         5╎  0.783000╎  0.794118╎  0.480712╎  0.598891╎  0.853679╎  324╎  1242╎  350╎   84╎\n",
      "╎            8╎         8╎  0.821500╎  0.737745╎  0.546279╎  0.627737╎  0.861737╎  301╎  1342╎  250╎  107╎\n",
      "╎            8╎        11╎  0.826500╎  0.686275╎  0.561122╎  0.617420╎  0.852418╎  280╎  1373╎  219╎  128╎\n",
      "╎            8╎        14╎  0.843500╎  0.639706╎  0.611241╎  0.625150╎  0.841096╎  261╎  1426╎  166╎  147╎\n",
      "╎            8╎        17╎  0.839000╎  0.526961╎  0.625000╎  0.571809╎  0.831086╎  215╎  1463╎  129╎  193╎\n",
      "╎            8╎        20╎  0.848500╎  0.526961╎  0.661538╎  0.586630╎  0.834980╎  215╎  1482╎  110╎  193╎\n",
      "╎            8╎        23╎  0.846500╎  0.517157╎  0.657321╎  0.578875╎  0.831959╎  211╎  1482╎  110╎  197╎\n",
      "\n",
      "╎           11╎         5╎  0.784500╎  0.794118╎  0.482861╎  0.600556╎  0.857583╎  324╎  1245╎  347╎   84╎\n",
      "╎           11╎         8╎  0.825000╎  0.742647╎  0.552920╎  0.633891╎  0.862819╎  303╎  1347╎  245╎  105╎\n",
      "╎           11╎        11╎  0.835000╎  0.705882╎  0.578313╎  0.635762╎  0.858942╎  288╎  1382╎  210╎  120╎\n",
      "╎           11╎        14╎  0.842500╎  0.644608╎  0.607390╎  0.625446╎  0.846939╎  263╎  1422╎  170╎  145╎\n",
      "╎           11╎        17╎  0.838500╎  0.573529╎  0.610966╎  0.591656╎  0.843698╎  234╎  1443╎  149╎  174╎\n",
      "╎           11╎        20╎  0.834000╎  0.551471╎  0.601604╎  0.575448╎  0.840167╎  225╎  1443╎  149╎  183╎\n",
      "╎           11╎        23╎  0.838000╎  0.556373╎  0.613514╎  0.583548╎  0.841563╎  227╎  1449╎  143╎  181╎\n",
      "\n",
      "╎           14╎         5╎  0.784000╎  0.796569╎  0.482196╎  0.600739╎  0.858114╎  325╎  1243╎  349╎   83╎\n",
      "╎           14╎         8╎  0.823000╎  0.742647╎  0.548913╎  0.631250╎  0.865873╎  303╎  1343╎  249╎  105╎\n",
      "╎           14╎        11╎  0.831500╎  0.686275╎  0.572597╎  0.624303╎  0.859623╎  280╎  1383╎  209╎  128╎\n",
      "╎           14╎        14╎  0.845500╎  0.642157╎  0.616471╎  0.629052╎  0.850286╎  262╎  1429╎  163╎  146╎\n",
      "╎           14╎        17╎  0.840000╎  0.549020╎  0.622222╎  0.583333╎  0.845106╎  224╎  1456╎  136╎  184╎\n",
      "╎           14╎        20╎  0.845500╎  0.526961╎  0.649547╎  0.581867╎  0.843503╎  215╎  1476╎  116╎  193╎\n",
      "╎           14╎        23╎  0.851000╎  0.546569╎  0.663690╎  0.599462╎  0.848398╎  223╎  1479╎  113╎  185╎\n",
      "\n",
      "╎           17╎         5╎  0.793500╎  0.801471╎  0.496206╎  0.612933╎  0.858537╎  327╎  1260╎  332╎   81╎\n",
      "╎           17╎         8╎  0.827500╎  0.752451╎  0.557169╎  0.640250╎  0.867368╎  307╎  1348╎  244╎  101╎\n",
      "╎           17╎        11╎  0.838000╎  0.693627╎  0.587137╎  0.635955╎  0.861334╎  283╎  1393╎  199╎  125╎\n",
      "╎           17╎        14╎  0.843500╎  0.629902╎  0.613365╎  0.621524╎  0.853481╎  257╎  1430╎  162╎  151╎\n",
      "╎           17╎        17╎  0.846000╎  0.583333╎  0.632979╎  0.607143╎  0.848543╎  238╎  1454╎  138╎  170╎\n",
      "╎           17╎        20╎  0.838000╎  0.558824╎  0.612903╎  0.584615╎  0.846558╎  228╎  1448╎  144╎  180╎\n",
      "╎           17╎        23╎  0.846000╎  0.539216╎  0.647059╎  0.588235╎  0.849901╎  220╎  1472╎  120╎  188╎\n",
      "\n",
      "╎           20╎         5╎  0.792500╎  0.786765╎  0.494607╎  0.607379╎  0.859498╎  321╎  1264╎  328╎   87╎\n",
      "╎           20╎         8╎  0.826000╎  0.752451╎  0.554152╎  0.638254╎  0.866549╎  307╎  1345╎  247╎  101╎\n",
      "╎           20╎        11╎  0.835500╎  0.678922╎  0.583158╎  0.627407╎  0.861045╎  277╎  1394╎  198╎  131╎\n",
      "╎           20╎        14╎  0.840500╎  0.620098╎  0.606715╎  0.613333╎  0.855959╎  253╎  1428╎  164╎  155╎\n",
      "╎           20╎        17╎  0.845000╎  0.561275╎  0.636111╎  0.596354╎  0.845367╎  229╎  1461╎  131╎  179╎\n",
      "╎           20╎        20╎  0.844000╎  0.534314╎  0.641176╎  0.582888╎  0.851111╎  218╎  1470╎  122╎  190╎\n",
      "╎           20╎        23╎  0.854000╎  0.536765╎  0.680124╎  0.600000╎  0.856312╎  219╎  1489╎  103╎  189╎\n",
      "\n",
      "╎           23╎         5╎  0.800000╎  0.784314╎  0.506329╎  0.615385╎  0.859972╎  320╎  1280╎  312╎   88╎\n",
      "╎           23╎         8╎  0.824500╎  0.745098╎  0.551724╎  0.633994╎  0.866709╎  304╎  1345╎  247╎  104╎\n",
      "╎           23╎        11╎  0.839000╎  0.686275╎  0.590717╎  0.634921╎  0.862293╎  280╎  1398╎  194╎  128╎\n",
      "╎           23╎        14╎  0.845500╎  0.634804╎  0.618138╎  0.626360╎  0.858620╎  259╎  1432╎  160╎  149╎\n",
      "╎           23╎        17╎  0.846000╎  0.578431╎  0.634409╎  0.605128╎  0.847544╎  236╎  1456╎  136╎  172╎\n",
      "╎           23╎        20╎  0.839500╎  0.551471╎  0.619835╎  0.583658╎  0.851047╎  225╎  1454╎  138╎  183╎\n",
      "╎           23╎        23╎  0.852000╎  0.563725╎  0.660920╎  0.608466╎  0.857239╎  230╎  1474╎  118╎  178╎\n",
      "\n"
     ]
    }
   ],
   "source": [
    "check_random_forest(features_upsampled, target_upsampled, None, 'upsample')"
   ]
  },
  {
   "cell_type": "code",
   "execution_count": 43,
   "id": "fe3fdbdb-33b2-463e-aa36-d3183def45fc",
   "metadata": {},
   "outputs": [
    {
     "name": "stdout",
     "output_type": "stream",
     "text": [
      "╎          Model name╎     Train type╎                   Params╎        F1╎\n",
      "\n",
      "╎       decision_tree╎        default╎              max_depth=7╎   0.59452╎\n",
      "╎       decision_tree╎       balanced╎              max_depth=6╎   0.57486╎\n",
      "╎       decision_tree╎       upsample╎              max_depth=6╎   0.57593╎\n",
      "\n",
      "╎ logistic_regression╎        default╎                        -╎   0.30147╎\n",
      "╎ logistic_regression╎       balanced╎                        -╎   0.52715╎\n",
      "╎ logistic_regression╎       upsample╎                        -╎   0.52550╎\n",
      "\n",
      "╎       random_forest╎        default╎   estim=14; max_depth=17╎   0.61404╎\n",
      "╎       random_forest╎       balanced╎   estim=23; max_depth=11╎   0.63970╎\n",
      "╎       random_forest╎       upsample╎    estim=17; max_depth=8╎   0.64025╎\n"
     ]
    }
   ],
   "source": [
    "display_best_results(best_results)"
   ]
  },
  {
   "cell_type": "markdown",
   "id": "9b4b6260-f830-4909-a704-4492b4022944",
   "metadata": {},
   "source": [
    "### Промежуточный вывод\n",
    "\n",
    "Приминение ассемплинга не дало существенного результата, показатели отличаются от предыдущих в \"пределах погрещности\".\n",
    "\n",
    "Попробуем обратный метод даунсемплинга."
   ]
  },
  {
   "cell_type": "markdown",
   "id": "ad4d6d19-5029-4a48-95ab-6e3422ec1caf",
   "metadata": {},
   "source": [
    "## Downsampling"
   ]
  },
  {
   "cell_type": "code",
   "execution_count": 44,
   "id": "1d19dc6f-e090-4918-baa1-f5bf81101d79",
   "metadata": {},
   "outputs": [],
   "source": [
    "def downsample(features, target, coef):\n",
    "    fraction = coef;\n",
    "    \n",
    "    features_zeros = features[target == 0]\n",
    "    features_ones = features[target == 1]\n",
    "    target_zeros = target[target == 0]\n",
    "    target_ones = target[target == 1]\n",
    "    \n",
    "    features_downsampled = pd.concat(\n",
    "        [features_zeros.sample(frac=fraction, random_state=random_state)] + [features_ones])\n",
    "    target_downsampled = pd.concat(\n",
    "        [target_zeros.sample(frac=fraction, random_state=random_state)] + [target_ones])\n",
    "    \n",
    "    features_downsampled, target_downsampled = shuffle(features_downsampled, target_downsampled, random_state=random_state)\n",
    "    \n",
    "    return features_downsampled, target_downsampled"
   ]
  },
  {
   "cell_type": "code",
   "execution_count": 45,
   "id": "efc4c7e1-96b9-4d40-935a-45b146e484d8",
   "metadata": {},
   "outputs": [
    {
     "data": {
      "text/plain": [
       "1    1222\n",
       "0    1222\n",
       "Name: exited, dtype: int64"
      ]
     },
     "execution_count": 45,
     "metadata": {},
     "output_type": "execute_result"
    }
   ],
   "source": [
    "features_downsampled, target_downsampled = downsample(features_train, target_train, coef)\n",
    "\n",
    "# проверим, что выборки примерно совпадают\n",
    "target_downsampled.value_counts()"
   ]
  },
  {
   "cell_type": "code",
   "execution_count": 46,
   "id": "d5c6471c-5088-4fb1-bff5-544f5b8fa26c",
   "metadata": {},
   "outputs": [
    {
     "name": "stdout",
     "output_type": "stream",
     "text": [
      "Decision tree\n",
      "╎max_depth╎  Accuracy╎    Recall╎ Precision╎        F1╎   ROC-AUC╎   TP╎    TN╎   FP╎   FN╎\n",
      "╎        2╎  0.684500╎  0.767157╎  0.368669╎  0.498011╎  0.747591╎  313╎  1056╎  536╎   95╎\n",
      "╎        3╎  0.798000╎  0.539216╎  0.504587╎  0.521327╎  0.788502╎  220╎  1376╎  216╎  188╎\n",
      "╎        4╎  0.755500╎  0.767157╎  0.442716╎  0.561435╎  0.824936╎  313╎  1198╎  394╎   95╎\n",
      "╎        5╎  0.717500╎  0.865196╎  0.409038╎  0.555468╎  0.846687╎  353╎  1082╎  510╎   55╎\n",
      "╎        6╎  0.787500╎  0.774510╎  0.486903╎  0.597919╎  0.853496╎  316╎  1259╎  333╎   92╎\n",
      "╎        7╎  0.771500╎  0.781863╎  0.464338╎  0.582648╎  0.836882╎  319╎  1224╎  368╎   89╎\n",
      "╎        8╎  0.761000╎  0.759804╎  0.449275╎  0.564663╎  0.812652╎  310╎  1212╎  380╎   98╎\n",
      "╎        9╎  0.770000╎  0.757353╎  0.461194╎  0.573284╎  0.793503╎  309╎  1231╎  361╎   99╎\n",
      "╎       10╎  0.749000╎  0.740196╎  0.432665╎  0.546112╎  0.779307╎  302╎  1196╎  396╎  106╎\n",
      "╎       11╎  0.745000╎  0.727941╎  0.426724╎  0.538043╎  0.761378╎  297╎  1193╎  399╎  111╎\n",
      "╎       12╎  0.726000╎  0.708333╎  0.402507╎  0.513321╎  0.737933╎  289╎  1163╎  429╎  119╎\n",
      "╎       13╎  0.730000╎  0.705882╎  0.406780╎  0.516129╎  0.722887╎  288╎  1172╎  420╎  120╎\n",
      "╎       14╎  0.722500╎  0.693627╎  0.396914╎  0.504906╎  0.712282╎  283╎  1162╎  430╎  125╎\n",
      "╎       15╎  0.708500╎  0.708333╎  0.383798╎  0.497847╎  0.713291╎  289╎  1128╎  464╎  119╎\n"
     ]
    }
   ],
   "source": [
    "check_decision_tree(features_downsampled, target_downsampled, None, 'downsample')"
   ]
  },
  {
   "cell_type": "code",
   "execution_count": 47,
   "id": "81b9c19a-5dd5-4c4e-a9a7-ff0f2d51bc15",
   "metadata": {},
   "outputs": [
    {
     "name": "stdout",
     "output_type": "stream",
     "text": [
      "Logistic regression\n",
      "╎  Accuracy╎    Recall╎ Precision╎        F1╎   ROC-AUC╎   TP╎    TN╎   FP╎   FN╎\n",
      "╎  0.729000╎  0.737745╎  0.408967╎  0.526224╎  0.792738╎  301╎  1157╎  435╎  107╎\n"
     ]
    }
   ],
   "source": [
    "check_logistic_regression(features_downsampled, target_downsampled, None, 'downsample')"
   ]
  },
  {
   "cell_type": "code",
   "execution_count": 48,
   "id": "549a5dd4-62d7-4be8-9a18-96bd2bb10cc4",
   "metadata": {},
   "outputs": [
    {
     "name": "stdout",
     "output_type": "stream",
     "text": [
      "Random_forest\n",
      "╎ n_estimators╎ max_depth╎  Accuracy╎    Recall╎ Precision╎        F1╎   ROC-AUC╎   TP╎    TN╎   FP╎   FN╎\n",
      "╎            5╎         5╎  0.775000╎  0.803922╎  0.469914╎  0.593128╎  0.851366╎  328╎  1222╎  370╎   80╎\n",
      "╎            5╎         8╎  0.776000╎  0.759804╎  0.469697╎  0.580524╎  0.845567╎  310╎  1242╎  350╎   98╎\n",
      "╎            5╎        11╎  0.755500╎  0.767157╎  0.442716╎  0.561435╎  0.833177╎  313╎  1198╎  394╎   95╎\n",
      "╎            5╎        14╎  0.746500╎  0.774510╎  0.432285╎  0.554873╎  0.826448╎  316╎  1177╎  415╎   92╎\n",
      "╎            5╎        17╎  0.747500╎  0.774510╎  0.433471╎  0.555849╎  0.809009╎  316╎  1179╎  413╎   92╎\n",
      "╎            5╎        20╎  0.753000╎  0.747549╎  0.438218╎  0.552536╎  0.808428╎  305╎  1201╎  391╎  103╎\n",
      "╎            5╎        23╎  0.750500╎  0.732843╎  0.433962╎  0.545123╎  0.810191╎  299╎  1202╎  390╎  109╎\n",
      "\n",
      "╎            8╎         5╎  0.789500╎  0.781863╎  0.490015╎  0.602455╎  0.856545╎  319╎  1260╎  332╎   89╎\n",
      "╎            8╎         8╎  0.784500╎  0.774510╎  0.482443╎  0.594544╎  0.850561╎  316╎  1253╎  339╎   92╎\n",
      "╎            8╎        11╎  0.770500╎  0.764706╎  0.462222╎  0.576177╎  0.842197╎  312╎  1229╎  363╎   96╎\n",
      "╎            8╎        14╎  0.778500╎  0.750000╎  0.472952╎  0.580095╎  0.838159╎  306╎  1251╎  341╎  102╎\n",
      "╎            8╎        17╎  0.787000╎  0.713235╎  0.485000╎  0.577381╎  0.831728╎  291╎  1283╎  309╎  117╎\n",
      "╎            8╎        20╎  0.783500╎  0.686275╎  0.478632╎  0.563948╎  0.826042╎  280╎  1287╎  305╎  128╎\n",
      "╎            8╎        23╎  0.791500╎  0.703431╎  0.492281╎  0.579213╎  0.826475╎  287╎  1296╎  296╎  121╎\n",
      "\n",
      "╎           11╎         5╎  0.798500╎  0.786765╎  0.503925╎  0.614354╎  0.860874╎  321╎  1276╎  316╎   87╎\n",
      "╎           11╎         8╎  0.794500╎  0.789216╎  0.497682╎  0.610427╎  0.853739╎  322╎  1267╎  325╎   86╎\n",
      "╎           11╎        11╎  0.781000╎  0.791667╎  0.477811╎  0.595941╎  0.848151╎  323╎  1239╎  353╎   85╎\n",
      "╎           11╎        14╎  0.771000╎  0.779412╎  0.463557╎  0.581353╎  0.844256╎  318╎  1224╎  368╎   90╎\n",
      "╎           11╎        17╎  0.775000╎  0.769608╎  0.468657╎  0.582560╎  0.840707╎  314╎  1236╎  356╎   94╎\n",
      "╎           11╎        20╎  0.758500╎  0.747549╎  0.445255╎  0.558097╎  0.833955╎  305╎  1212╎  380╎  103╎\n",
      "╎           11╎        23╎  0.767000╎  0.757353╎  0.457101╎  0.570111╎  0.834924╎  309╎  1225╎  367╎   99╎\n",
      "\n",
      "╎           14╎         5╎  0.807000╎  0.799020╎  0.517460╎  0.628131╎  0.865774╎  326╎  1288╎  304╎   82╎\n",
      "╎           14╎         8╎  0.798500╎  0.796569╎  0.503876╎  0.617284╎  0.860723╎  325╎  1272╎  320╎   83╎\n",
      "╎           14╎        11╎  0.782000╎  0.776961╎  0.478852╎  0.592523╎  0.853034╎  317╎  1247╎  345╎   91╎\n",
      "╎           14╎        14╎  0.776500╎  0.759804╎  0.470410╎  0.581068╎  0.848092╎  310╎  1243╎  349╎   98╎\n",
      "╎           14╎        17╎  0.796500╎  0.747549╎  0.500821╎  0.599803╎  0.846596╎  305╎  1288╎  304╎  103╎\n",
      "╎           14╎        20╎  0.782500╎  0.725490╎  0.478191╎  0.576436╎  0.838794╎  296╎  1269╎  323╎  112╎\n",
      "╎           14╎        23╎  0.781500╎  0.735294╎  0.476948╎  0.578592╎  0.839710╎  300╎  1263╎  329╎  108╎\n",
      "\n",
      "╎           17╎         5╎  0.808000╎  0.801471╎  0.519048╎  0.630058╎  0.865200╎  327╎  1289╎  303╎   81╎\n",
      "╎           17╎         8╎  0.792500╎  0.781863╎  0.494574╎  0.605888╎  0.860073╎  319╎  1266╎  326╎   89╎\n",
      "╎           17╎        11╎  0.783500╎  0.779412╎  0.481089╎  0.594949╎  0.853499╎  318╎  1249╎  343╎   90╎\n",
      "╎           17╎        14╎  0.778000╎  0.776961╎  0.473134╎  0.588126╎  0.850117╎  317╎  1239╎  353╎   91╎\n",
      "╎           17╎        17╎  0.776500╎  0.779412╎  0.471111╎  0.587258╎  0.848356╎  318╎  1235╎  357╎   90╎\n",
      "╎           17╎        20╎  0.769000╎  0.767157╎  0.460294╎  0.575368╎  0.840826╎  313╎  1225╎  367╎   95╎\n",
      "╎           17╎        23╎  0.772500╎  0.779412╎  0.465593╎  0.582951╎  0.841866╎  318╎  1227╎  365╎   90╎\n",
      "\n",
      "╎           20╎         5╎  0.804000╎  0.794118╎  0.512658╎  0.623077╎  0.864155╎  324╎  1284╎  308╎   84╎\n",
      "╎           20╎         8╎  0.797500╎  0.786765╎  0.502347╎  0.613181╎  0.862155╎  321╎  1274╎  318╎   87╎\n",
      "╎           20╎        11╎  0.782500╎  0.774510╎  0.479514╎  0.592315╎  0.856361╎  316╎  1249╎  343╎   92╎\n",
      "╎           20╎        14╎  0.783500╎  0.774510╎  0.480974╎  0.593427╎  0.852930╎  316╎  1251╎  341╎   92╎\n",
      "╎           20╎        17╎  0.787500╎  0.764706╎  0.486739╎  0.594852╎  0.847868╎  312╎  1263╎  329╎   96╎\n",
      "╎           20╎        20╎  0.778500╎  0.742647╎  0.472699╎  0.577693╎  0.844022╎  303╎  1254╎  338╎  105╎\n",
      "╎           20╎        23╎  0.780000╎  0.757353╎  0.475385╎  0.584121╎  0.844812╎  309╎  1251╎  341╎   99╎\n",
      "\n",
      "╎           23╎         5╎  0.804000╎  0.791667╎  0.512698╎  0.622351╎  0.866151╎  323╎  1285╎  307╎   85╎\n",
      "╎           23╎         8╎  0.798500╎  0.794118╎  0.503888╎  0.616556╎  0.862503╎  324╎  1273╎  319╎   84╎\n",
      "╎           23╎        11╎  0.786000╎  0.784314╎  0.484848╎  0.599251╎  0.858545╎  320╎  1252╎  340╎   88╎\n",
      "╎           23╎        14╎  0.784000╎  0.781863╎  0.481873╎  0.596262╎  0.855860╎  319╎  1249╎  343╎   89╎\n",
      "╎           23╎        17╎  0.773000╎  0.781863╎  0.466374╎  0.584249╎  0.849419╎  319╎  1227╎  365╎   89╎\n",
      "╎           23╎        20╎  0.763000╎  0.764706╎  0.452174╎  0.568306╎  0.845672╎  312╎  1214╎  378╎   96╎\n",
      "╎           23╎        23╎  0.771000╎  0.781863╎  0.463663╎  0.582117╎  0.847467╎  319╎  1223╎  369╎   89╎\n",
      "\n"
     ]
    }
   ],
   "source": [
    "check_random_forest(features_downsampled, target_downsampled, None, 'downsample')"
   ]
  },
  {
   "cell_type": "code",
   "execution_count": 49,
   "id": "b6ddc700-c2a1-4e7c-a74c-4fa52e39f626",
   "metadata": {},
   "outputs": [
    {
     "name": "stdout",
     "output_type": "stream",
     "text": [
      "╎          Model name╎     Train type╎                   Params╎        F1╎\n",
      "\n",
      "╎       decision_tree╎        default╎              max_depth=7╎   0.59452╎\n",
      "╎       decision_tree╎       balanced╎              max_depth=6╎   0.57486╎\n",
      "╎       decision_tree╎       upsample╎              max_depth=6╎   0.57593╎\n",
      "╎       decision_tree╎     downsample╎              max_depth=6╎   0.59792╎\n",
      "\n",
      "╎ logistic_regression╎        default╎                        -╎   0.30147╎\n",
      "╎ logistic_regression╎       balanced╎                        -╎   0.52715╎\n",
      "╎ logistic_regression╎       upsample╎                        -╎   0.52550╎\n",
      "╎ logistic_regression╎     downsample╎                        -╎   0.52622╎\n",
      "\n",
      "╎       random_forest╎        default╎   estim=14; max_depth=17╎   0.61404╎\n",
      "╎       random_forest╎       balanced╎   estim=23; max_depth=11╎   0.63970╎\n",
      "╎       random_forest╎       upsample╎    estim=17; max_depth=8╎   0.64025╎\n",
      "╎       random_forest╎     downsample╎    estim=17; max_depth=5╎   0.63006╎\n"
     ]
    }
   ],
   "source": [
    "display_best_results(best_results)"
   ]
  },
  {
   "cell_type": "markdown",
   "id": "7c2b3324-2bcb-4a84-9a50-b56318f895dd",
   "metadata": {},
   "source": [
    "### Промежуточный вывод\n",
    "Проанализировав ситуацию с ключевыми метриками можно сказать, что даунсемплинг показывает хорошие результаты на всех моделях машинного убучения, но пока лидером является методом балансировки классов.\n",
    "\n",
    "Пойдем дальше и спользуем оба метода сразу, посмотрим, что выйдет "
   ]
  },
  {
   "cell_type": "markdown",
   "id": "160b4160-ab35-4a50-9a34-50559b8c1956",
   "metadata": {},
   "source": [
    "## Upsampling + Downsampling"
   ]
  },
  {
   "cell_type": "markdown",
   "id": "831cfa69-25cc-4d83-b9a4-ee572fcffdf6",
   "metadata": {},
   "source": [
    "Смысл нашей стратегии заключается в уменьшении нулевых значений целевого показателя в два раза и увеличении при этом положительных значений аналогично в два раза.\n"
   ]
  },
  {
   "cell_type": "code",
   "execution_count": 50,
   "id": "83ef4480-8d52-4c81-b9a0-9cb81872bbf0",
   "metadata": {},
   "outputs": [],
   "source": [
    "def upsample_and_downsample_combine(features, target):\n",
    "    features_zeros = features[target == 0]\n",
    "    features_ones = features[target == 1]\n",
    "    target_zeros = target[target == 0]\n",
    "    target_ones = target[target == 1]\n",
    "\n",
    "    repeat = round(1 / coef)\n",
    "    features_combined = pd.concat([features_zeros.sample(frac=0.5, random_state=random_state)] + [features_ones] * 2)\n",
    "    target_combined = pd.concat([target_zeros.sample(frac=0.5, random_state=random_state)] + [target_ones] * 2)\n",
    "    \n",
    "    features_combined, target_combined = shuffle(features_combined, target_combined, random_state=random_state)\n",
    "    \n",
    "    return features_combined, target_combined"
   ]
  },
  {
   "cell_type": "code",
   "execution_count": 51,
   "id": "77942fd5-2f2b-4510-8118-9831069dbb3b",
   "metadata": {},
   "outputs": [
    {
     "data": {
      "text/plain": [
       "1    2444\n",
       "0    2389\n",
       "Name: exited, dtype: int64"
      ]
     },
     "execution_count": 51,
     "metadata": {},
     "output_type": "execute_result"
    }
   ],
   "source": [
    "features_combined, target_combined = upsample_and_downsample_combine(features_train, target_train)\n",
    "\n",
    "# проверим, что данные сопоставимы\n",
    "target_combined.value_counts()"
   ]
  },
  {
   "cell_type": "code",
   "execution_count": 52,
   "id": "e84dd92b-7cb8-43c7-88d3-608ffbec9f79",
   "metadata": {},
   "outputs": [
    {
     "name": "stdout",
     "output_type": "stream",
     "text": [
      "Decision tree\n",
      "╎max_depth╎  Accuracy╎    Recall╎ Precision╎        F1╎   ROC-AUC╎   TP╎    TN╎   FP╎   FN╎\n",
      "╎        2╎  0.763500╎  0.688725╎  0.448166╎  0.542995╎  0.760515╎  281╎  1246╎  346╎  127╎\n",
      "╎        3╎  0.763500╎  0.688725╎  0.448166╎  0.542995╎  0.805536╎  281╎  1246╎  346╎  127╎\n",
      "╎        4╎  0.783000╎  0.715686╎  0.478689╎  0.573674╎  0.824125╎  292╎  1274╎  318╎  116╎\n",
      "╎        5╎  0.780000╎  0.781863╎  0.476119╎  0.591837╎  0.850916╎  319╎  1241╎  351╎   89╎\n",
      "╎        6╎  0.745500╎  0.803922╎  0.433289╎  0.563090╎  0.850183╎  328╎  1163╎  429╎   80╎\n",
      "╎        7╎  0.768500╎  0.786765╎  0.460545╎  0.580995╎  0.846120╎  321╎  1216╎  376╎   87╎\n",
      "╎        8╎  0.771000╎  0.720588╎  0.460815╎  0.562141╎  0.814525╎  294╎  1248╎  344╎  114╎\n",
      "╎        9╎  0.749000╎  0.698529╎  0.429217╎  0.531716╎  0.787983╎  285╎  1213╎  379╎  123╎\n",
      "╎       10╎  0.756500╎  0.686275╎  0.438185╎  0.534862╎  0.756412╎  280╎  1233╎  359╎  128╎\n",
      "╎       11╎  0.743000╎  0.691176╎  0.420896╎  0.523191╎  0.738369╎  282╎  1204╎  388╎  126╎\n",
      "╎       12╎  0.740000╎  0.659314╎  0.413846╎  0.508507╎  0.729745╎  269╎  1211╎  381╎  139╎\n",
      "╎       13╎  0.737000╎  0.656863╎  0.409786╎  0.504708╎  0.714325╎  268╎  1206╎  386╎  140╎\n",
      "╎       14╎  0.734000╎  0.634804╎  0.403427╎  0.493333╎  0.708444╎  259╎  1209╎  383╎  149╎\n",
      "╎       15╎  0.739500╎  0.625000╎  0.409310╎  0.494665╎  0.706800╎  255╎  1224╎  368╎  153╎\n"
     ]
    }
   ],
   "source": [
    "check_decision_tree(features_combined, target_combined, None, 'combined')"
   ]
  },
  {
   "cell_type": "code",
   "execution_count": 53,
   "id": "fade29c4-de31-4f3e-8222-07fb06ac81fc",
   "metadata": {},
   "outputs": [
    {
     "name": "stdout",
     "output_type": "stream",
     "text": [
      "Logistic regression\n",
      "╎  Accuracy╎    Recall╎ Precision╎        F1╎   ROC-AUC╎   TP╎    TN╎   FP╎   FN╎\n",
      "╎  0.725000╎  0.750000╎  0.405836╎  0.526678╎  0.794304╎  306╎  1144╎  448╎  102╎\n"
     ]
    }
   ],
   "source": [
    "check_logistic_regression(features_combined, target_combined, None, 'combined')"
   ]
  },
  {
   "cell_type": "code",
   "execution_count": 54,
   "id": "91f86858-3c43-43b5-a15e-93b4d12f4795",
   "metadata": {},
   "outputs": [
    {
     "name": "stdout",
     "output_type": "stream",
     "text": [
      "Random_forest\n",
      "╎ n_estimators╎ max_depth╎  Accuracy╎    Recall╎ Precision╎        F1╎   ROC-AUC╎   TP╎    TN╎   FP╎   FN╎\n",
      "╎            5╎         5╎  0.801000╎  0.759804╎  0.508197╎  0.609037╎  0.853942╎  310╎  1292╎  300╎   98╎\n",
      "╎            5╎         8╎  0.795500╎  0.772059╎  0.499208╎  0.606352╎  0.858660╎  315╎  1276╎  316╎   93╎\n",
      "╎            5╎        11╎  0.807000╎  0.710784╎  0.519713╎  0.600414╎  0.838423╎  290╎  1324╎  268╎  118╎\n",
      "╎            5╎        14╎  0.803500╎  0.700980╎  0.513465╎  0.592746╎  0.827554╎  286╎  1321╎  271╎  122╎\n",
      "╎            5╎        17╎  0.805000╎  0.715686╎  0.515901╎  0.599589╎  0.826157╎  292╎  1318╎  274╎  116╎\n",
      "╎            5╎        20╎  0.796500╎  0.686275╎  0.500894╎  0.579111╎  0.830073╎  280╎  1313╎  279╎  128╎\n",
      "╎            5╎        23╎  0.797000╎  0.696078╎  0.501767╎  0.583162╎  0.826485╎  284╎  1310╎  282╎  124╎\n",
      "\n",
      "╎            8╎         5╎  0.812000╎  0.752451╎  0.527491╎  0.620202╎  0.856933╎  307╎  1317╎  275╎  101╎\n",
      "╎            8╎         8╎  0.806000╎  0.772059╎  0.516393╎  0.618861╎  0.864059╎  315╎  1297╎  295╎   93╎\n",
      "╎            8╎        11╎  0.820000╎  0.720588╎  0.544444╎  0.620253╎  0.853684╎  294╎  1346╎  246╎  114╎\n",
      "╎            8╎        14╎  0.820000╎  0.676471╎  0.547619╎  0.605263╎  0.843117╎  276╎  1364╎  228╎  132╎\n",
      "╎            8╎        17╎  0.820500╎  0.664216╎  0.549696╎  0.601554╎  0.838731╎  271╎  1370╎  222╎  137╎\n",
      "╎            8╎        20╎  0.823500╎  0.627451╎  0.560175╎  0.591908╎  0.843799╎  256╎  1391╎  201╎  152╎\n",
      "╎            8╎        23╎  0.823500╎  0.629902╎  0.559913╎  0.592849╎  0.843334╎  257╎  1390╎  202╎  151╎\n",
      "\n",
      "╎           11╎         5╎  0.808500╎  0.772059╎  0.520661╎  0.621915╎  0.860785╎  315╎  1302╎  290╎   93╎\n",
      "╎           11╎         8╎  0.808500╎  0.781863╎  0.520392╎  0.624878╎  0.865292╎  319╎  1298╎  294╎   89╎\n",
      "╎           11╎        11╎  0.824000╎  0.740196╎  0.551095╎  0.631799╎  0.861340╎  302╎  1346╎  246╎  106╎\n",
      "╎           11╎        14╎  0.819500╎  0.708333╎  0.544256╎  0.615548╎  0.851431╎  289╎  1350╎  242╎  119╎\n",
      "╎           11╎        17╎  0.818000╎  0.715686╎  0.540741╎  0.616034╎  0.849896╎  292╎  1344╎  248╎  116╎\n",
      "╎           11╎        20╎  0.814500╎  0.691176╎  0.535104╎  0.603209╎  0.850431╎  282╎  1347╎  245╎  126╎\n",
      "╎           11╎        23╎  0.800500╎  0.664216╎  0.508443╎  0.575983╎  0.845905╎  271╎  1330╎  262╎  137╎\n",
      "\n",
      "╎           14╎         5╎  0.802500╎  0.769608╎  0.510569╎  0.613881╎  0.861824╎  314╎  1291╎  301╎   94╎\n",
      "╎           14╎         8╎  0.810500╎  0.779412╎  0.523888╎  0.626601╎  0.867288╎  318╎  1303╎  289╎   90╎\n",
      "╎           14╎        11╎  0.824500╎  0.730392╎  0.552876╎  0.629356╎  0.863364╎  298╎  1351╎  241╎  110╎\n",
      "╎           14╎        14╎  0.823000╎  0.688725╎  0.553150╎  0.613537╎  0.851227╎  281╎  1365╎  227╎  127╎\n",
      "╎           14╎        17╎  0.830500╎  0.691176╎  0.569697╎  0.624585╎  0.855776╎  282╎  1379╎  213╎  126╎\n",
      "╎           14╎        20╎  0.830000╎  0.666667╎  0.571429╎  0.615385╎  0.855856╎  272╎  1388╎  204╎  136╎\n",
      "╎           14╎        23╎  0.826000╎  0.647059╎  0.564103╎  0.602740╎  0.851957╎  264╎  1388╎  204╎  144╎\n",
      "\n",
      "╎           17╎         5╎  0.805500╎  0.774510╎  0.515498╎  0.619001╎  0.862300╎  316╎  1295╎  297╎   92╎\n",
      "╎           17╎         8╎  0.813000╎  0.772059╎  0.528523╎  0.627490╎  0.866632╎  315╎  1311╎  281╎   93╎\n",
      "╎           17╎        11╎  0.826500╎  0.742647╎  0.555963╎  0.635887╎  0.863590╎  303╎  1350╎  242╎  105╎\n",
      "╎           17╎        14╎  0.823000╎  0.705882╎  0.551724╎  0.619355╎  0.851175╎  288╎  1358╎  234╎  120╎\n",
      "╎           17╎        17╎  0.823000╎  0.715686╎  0.550943╎  0.622601╎  0.855227╎  292╎  1354╎  238╎  116╎\n",
      "╎           17╎        20╎  0.824500╎  0.698529╎  0.555556╎  0.618893╎  0.858497╎  285╎  1364╎  228╎  123╎\n",
      "╎           17╎        23╎  0.820500╎  0.676471╎  0.548708╎  0.605928╎  0.857079╎  276╎  1365╎  227╎  132╎\n",
      "\n",
      "╎           20╎         5╎  0.805000╎  0.781863╎  0.514516╎  0.620623╎  0.863874╎  319╎  1291╎  301╎   89╎\n",
      "╎           20╎         8╎  0.812000╎  0.774510╎  0.526667╎  0.626984╎  0.870337╎  316╎  1308╎  284╎   92╎\n",
      "╎           20╎        11╎  0.827500╎  0.742647╎  0.558011╎  0.637224╎  0.865517╎  303╎  1352╎  240╎  105╎\n",
      "╎           20╎        14╎  0.823500╎  0.713235╎  0.552182╎  0.622460╎  0.855284╎  291╎  1356╎  236╎  117╎\n",
      "╎           20╎        17╎  0.827000╎  0.696078╎  0.561265╎  0.621444╎  0.859742╎  284╎  1370╎  222╎  124╎\n",
      "╎           20╎        20╎  0.829500╎  0.671569╎  0.569647╎  0.616423╎  0.860268╎  274╎  1385╎  207╎  134╎\n",
      "╎           20╎        23╎  0.825000╎  0.659314╎  0.560417╎  0.605856╎  0.859762╎  269╎  1381╎  211╎  139╎\n",
      "\n",
      "╎           23╎         5╎  0.805000╎  0.769608╎  0.514754╎  0.616896╎  0.865111╎  314╎  1296╎  296╎   94╎\n",
      "╎           23╎         8╎  0.813000╎  0.774510╎  0.528428╎  0.628231╎  0.870024╎  316╎  1310╎  282╎   92╎\n",
      "╎           23╎        11╎  0.830500╎  0.742647╎  0.564246╎  0.641270╎  0.866422╎  303╎  1358╎  234╎  105╎\n",
      "╎           23╎        14╎  0.829000╎  0.718137╎  0.563462╎  0.631466╎  0.856085╎  293╎  1365╎  227╎  115╎\n",
      "╎           23╎        17╎  0.821000╎  0.703431╎  0.547710╎  0.615880╎  0.860099╎  287╎  1355╎  237╎  121╎\n",
      "╎           23╎        20╎  0.825500╎  0.703431╎  0.557282╎  0.621885╎  0.862413╎  287╎  1364╎  228╎  121╎\n",
      "╎           23╎        23╎  0.821500╎  0.696078╎  0.549323╎  0.614054╎  0.861686╎  284╎  1359╎  233╎  124╎\n",
      "\n"
     ]
    }
   ],
   "source": [
    "check_random_forest(features_combined, target_combined, None, 'combined')"
   ]
  },
  {
   "cell_type": "markdown",
   "id": "56b47e90-7b5e-420c-9c1e-6aec66b9bdb3",
   "metadata": {},
   "source": [
    "### Промежуточный вывод\n",
    "Комбинированный метод не принес ощутимого прогресса, но и не ударил в грязь лицом. Показатели всех трех моделей сходи с одиночным приминением апсемплинга и даунсемплинга."
   ]
  },
  {
   "cell_type": "code",
   "execution_count": 55,
   "id": "53bcdaab-aa67-419d-afa5-1a391503ad27",
   "metadata": {},
   "outputs": [
    {
     "name": "stdout",
     "output_type": "stream",
     "text": [
      "╎          Model name╎     Train type╎                   Params╎        F1╎\n",
      "\n",
      "╎       decision_tree╎        default╎              max_depth=7╎   0.59452╎\n",
      "╎       decision_tree╎       balanced╎              max_depth=6╎   0.57486╎\n",
      "╎       decision_tree╎       upsample╎              max_depth=6╎   0.57593╎\n",
      "╎       decision_tree╎     downsample╎              max_depth=6╎   0.59792╎\n",
      "╎       decision_tree╎       combined╎              max_depth=5╎   0.59184╎\n",
      "\n",
      "╎ logistic_regression╎        default╎                        -╎   0.30147╎\n",
      "╎ logistic_regression╎       balanced╎                        -╎   0.52715╎\n",
      "╎ logistic_regression╎       upsample╎                        -╎   0.52550╎\n",
      "╎ logistic_regression╎     downsample╎                        -╎   0.52622╎\n",
      "╎ logistic_regression╎       combined╎                        -╎   0.52668╎\n",
      "\n",
      "╎       random_forest╎        default╎   estim=14; max_depth=17╎   0.61404╎\n",
      "╎       random_forest╎       balanced╎   estim=23; max_depth=11╎   0.63970╎\n",
      "╎       random_forest╎       upsample╎    estim=17; max_depth=8╎   0.64025╎\n",
      "╎       random_forest╎     downsample╎    estim=17; max_depth=5╎   0.63006╎\n",
      "╎       random_forest╎       combined╎   estim=23; max_depth=11╎   0.64127╎\n"
     ]
    }
   ],
   "source": [
    "display_best_results(best_results)"
   ]
  },
  {
   "cell_type": "markdown",
   "id": "eab280ce-ea60-4696-8f96-d349eed65be3",
   "metadata": {
    "tags": []
   },
   "source": [
    "## Вывод по исследованию моделей машинного обучения\n",
    "\n",
    "- Проведенные тесты выявили безоговорочного победителя в лице случайного дерева, чья F1 мера во всех испытаниях была наивысшей.\n",
    "- Самый высокий показатель F1 меры случайного дерева был достигнут путем приминения даунсемплинга, на втором месте стоит апсемплинг, слегка уступая предыдущему методу.\n",
    "- Логическая регрессия совершает скачок в F1 мере при любого рода обработке дизбаланса, однако данная модель проигрывает двум другим во всех проведенных тестах.\n",
    "- Решающее дерево зарекомендовало себя завидным постоянством выдаваемых результатов с практически идентичными гиперпараметрами, глубиной в 5-6. Однако данная модель почти не чувствительна к дисбалансу в целевом признаке. Зачастую попытки исправления этого дисбаланса моделью воспринимались отрицательно и приводили к уменьшению F1 меры.\n",
    "\n",
    "В дальнейшем тестировать будем модель случайного леса с гиперпараметрами `estim`= 23, `max_depth`= 8 и методом обработки данных: баланс."
   ]
  },
  {
   "cell_type": "markdown",
   "id": "7d0a681c-41d4-4d97-ad62-e6dbee842a18",
   "metadata": {},
   "source": [
    "# Финальное тестирование"
   ]
  },
  {
   "cell_type": "code",
   "execution_count": 56,
   "id": "4d87d6f5-792c-4ca1-89f5-b44af0edf5eb",
   "metadata": {},
   "outputs": [
    {
     "name": "stdout",
     "output_type": "stream",
     "text": [
      "╎  Accuracy╎    Recall╎ Precision╎        F1╎   ROC-AUC╎   TP╎    TN╎   FP╎   FN╎\n",
      "╎  0.825500╎  0.656020╎  0.560924╎  0.604757╎  0.488553╎  267╎  1384╎  209╎  140╎\n"
     ]
    }
   ],
   "source": [
    "model = RandomForestClassifier(n_estimators=23, max_depth=8, random_state=random_state, class_weight='balanced')\n",
    "model.fit(features_train, target_train)\n",
    "predicted_test = model.predict(features_test)\n",
    "#\n",
    "probabilities_valid = model.predict_proba(features_valid)\n",
    "probabilities_one_valid = probabilities_valid[:, 1]\n",
    "#\n",
    "print_title()\n",
    "print_info(target_test, predicted_test, probabilities_one_valid)"
   ]
  },
  {
   "cell_type": "markdown",
   "id": "c4637b52-240a-4226-9a5c-dd8c058a8fe8",
   "metadata": {},
   "source": [
    "Мы почти у финальной цели! Показатель F1 меры тестовой выборки равен 0.6. \n",
    "\n",
    "Попробуем увеличить её с помощью изминения порога предсказания классов."
   ]
  },
  {
   "cell_type": "code",
   "execution_count": 57,
   "id": "7fd9079a-edd1-4004-b565-ebcfbc89d484",
   "metadata": {},
   "outputs": [
    {
     "name": "stdout",
     "output_type": "stream",
     "text": [
      "Порог = 0.20 | Точность = 0.278, Полнота = 0.944\n",
      "Порог = 0.22 | Точность = 0.293, Полнота = 0.936\n",
      "Порог = 0.24 | Точность = 0.307, Полнота = 0.922\n",
      "Порог = 0.26 | Точность = 0.320, Полнота = 0.914\n",
      "Порог = 0.28 | Точность = 0.334, Полнота = 0.904\n",
      "Порог = 0.30 | Точность = 0.356, Полнота = 0.897\n",
      "Порог = 0.32 | Точность = 0.381, Полнота = 0.895\n",
      "Порог = 0.34 | Точность = 0.410, Полнота = 0.877\n",
      "Порог = 0.36 | Точность = 0.433, Полнота = 0.850\n",
      "Порог = 0.38 | Точность = 0.456, Полнота = 0.843\n",
      "Порог = 0.40 | Точность = 0.478, Полнота = 0.821\n",
      "Порог = 0.42 | Точность = 0.495, Полнота = 0.799\n",
      "Порог = 0.44 | Точность = 0.518, Полнота = 0.775\n",
      "Порог = 0.46 | Точность = 0.535, Полнота = 0.750\n",
      "Порог = 0.48 | Точность = 0.552, Полнота = 0.730\n",
      "Порог = 0.50 | Точность = 0.575, Полнота = 0.708\n",
      "Порог = 0.52 | Точность = 0.586, Полнота = 0.667\n",
      "Порог = 0.54 | Точность = 0.607, Полнота = 0.654\n",
      "Порог = 0.56 | Точность = 0.625, Полнота = 0.630\n",
      "Порог = 0.58 | Точность = 0.641, Полнота = 0.603\n",
      "Порог = 0.60 | Точность = 0.658, Полнота = 0.586\n"
     ]
    }
   ],
   "source": [
    "probabilities_valid = model.predict_proba(features_valid)\n",
    "probabilities_one_valid = probabilities_valid[:, 1]\n",
    "\n",
    "for threshold in np.arange(0.2, 0.62, 0.02):\n",
    "    predicted_valid = probabilities_one_valid > threshold \n",
    "    precision = precision_score(target_valid,predicted_valid)\n",
    "    recall = recall_score(target_valid,predicted_valid)\n",
    "\n",
    "    print(\"Порог = {:.2f} | Точность = {:.3f}, Полнота = {:.3f}\".format(\n",
    "        threshold, precision, recall))"
   ]
  },
  {
   "cell_type": "code",
   "execution_count": 62,
   "id": "b4b47e90-4a43-4b1a-801d-af748f921c02",
   "metadata": {},
   "outputs": [
    {
     "name": "stdout",
     "output_type": "stream",
     "text": [
      "╎  Accuracy╎    Recall╎ Precision╎        F1╎   ROC-AUC╎   TP╎    TN╎   FP╎   FN╎\n",
      "╎  0.842000╎  0.570025╎  0.621984╎  0.594872╎  0.740756╎  232╎  1452╎  141╎  175╎\n"
     ]
    }
   ],
   "source": [
    "# Установим порог классификации 0.56\n",
    "probabilities_test = model.predict_proba(features_test)\n",
    "probabilities_one_test = probabilities_test[:, 1]\n",
    "\n",
    "predicted_test = probabilities_one_test > 0.56\n",
    "print_title()\n",
    "print_info(target_test, predicted_test, predicted_test)"
   ]
  },
  {
   "cell_type": "code",
   "execution_count": 68,
   "id": "c77cc9af-60a1-4559-b8af-59e51bcd4a4f",
   "metadata": {},
   "outputs": [
    {
     "data": {
      "image/png": "[encoded data removed]",
      "text/plain": [
       "<Figure size 432x288 with 1 Axes>"
      ]
     },
     "metadata": {
      "needs_background": "light"
     },
     "output_type": "display_data"
    }
   ],
   "source": [
    "# Посмотрим на ROC кривую\n",
    "\n",
    "fpr, tpr, thresholds = roc_curve(target_test, probabilities_one_test)\n",
    "\n",
    "plt.figure()\n",
    "plt.plot(fpr, tpr)\n",
    "plt.plot([0, 1], [0, 1], linestyle='--')\n",
    "plt.xlim([0.0, 1.0])\n",
    "plt.ylim([0.0, 1.0])\n",
    "plt.xlabel('False Positive Rate')\n",
    "plt.ylabel('True Positive Rate')\n",
    "plt.title('ROC-кривая')\n",
    "plt.show()"
   ]
  },
  {
   "cell_type": "code",
   "execution_count": 9,
   "id": "b428bd35-c7cf-40e8-b786-41b32ccfd04a",
   "metadata": {},
   "outputs": [],
   "source": [
    "feature_importance = model.feature_importances_\n",
    "feature_imp = pd.DataFrame(sorted(zip(feature_importance, features_train.columns)), columns=['Value','Feature'])\n",
    "sns.barplot(x=\"Value\", y=\"Feature\", data=feature_imp.sort_values(by=\"Value\", ascending=False))\n",
    "plt.title('Feature importance')\n",
    "plt.tight_layout()\n",
    "plt.show();"
   ]
  },
  {
   "cell_type": "markdown",
   "id": "5f6be39d-5b0e-4a19-9a98-5ce1605221e3",
   "metadata": {},
   "source": [
    "# Общий вывод\n",
    "\n",
    "1. Поставленная цели по достижению на тестовой выборке F1 меры в 0.59 была достигнута. Итоговое значение получилось равным 0.596\n",
    "2. В ходе работы мы провели первичный анализ данных, избавились от пропусков, удалили столбцы с данными ненужными для работы моделей машинного обучения.\n",
    "3. Были обработаны категориальные признаки и стандартизированы числовые.\n",
    "4. Была проделена комплексная работа по оценке трех моделей машинного обучения с приминением различных методик избавления от дисбаланса целевого признака, таких как:\n",
    "    - Выравнивание веса классов\n",
    "    - Уменьшение доли отрицательного класса\n",
    "    - Уменьшение доли положительного класса\n",
    "    - Комбинированные метод выравнивания\n",
    "5. Итогом четвертого пункта стало выявление лидера среди обученных моделей. Ей стала модель случайного леса с количеством деревьем 20 и глубиной дерева в 5 при даунсемплинге классов целевого признака.\n",
    "6. Увеличив порог классификации мы улучшили и без того выдающиеся результаты предсказаций нашей модели, доведя точность предсказания до 0.84.\n",
    "\n",
    "Таким образом мы выполнили все поставленные перед нами цели и гордо можем предлагать банку нашу модель машинного обучения для предсказания поведения его клиентов.\n"
   ]
  }
 ],
 "metadata": {
  "kernelspec": {
   "display_name": "Python 3 (ipykernel)",
   "language": "python",
   "name": "python3"
  },
  "language_info": {
   "codemirror_mode": {
    "name": "ipython",
    "version": 3
   },
   "file_extension": ".py",
   "mimetype": "text/x-python",
   "name": "python",
   "nbconvert_exporter": "python",
   "pygments_lexer": "ipython3",
   "version": "3.9.12"
  },
  "toc": {
   "base_numbering": 1,
   "nav_menu": {},
   "number_sections": true,
   "sideBar": true,
   "skip_h1_title": true,
   "title_cell": "Table of Contents",
   "title_sidebar": "Contents",
   "toc_cell": false,
   "toc_position": {},
   "toc_section_display": true,
   "toc_window_display": false
  }
 },
 "nbformat": 4,
 "nbformat_minor": 5
}
