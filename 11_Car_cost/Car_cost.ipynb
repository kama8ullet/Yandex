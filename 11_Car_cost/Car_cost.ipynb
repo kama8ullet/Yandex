{
 "cells": [
  {
   "cell_type": "markdown",
   "id": "29fd5966-4dc9-4771-b89d-0b5487f66057",
   "metadata": {},
   "source": [
    "# Определение стоимости автомобилей"
   ]
  },
  {
   "cell_type": "markdown",
   "id": "627b52db-cab9-4046-b140-7953f7626694",
   "metadata": {},
   "source": [
    "## Описание проекта\n",
    "Сервис по продаже автомобилей с пробегом «Не бит, не крашен» разрабатывает приложение, чтобы привлечь новых клиентов. В нём можно будет узнать рыночную стоимость своего автомобиля.\n",
    "\n",
    "Необходимо построить модель, которая умеет её определять. В нашем распоряжении данные о технических характеристиках, комплектации и ценах других автомобилей.\n",
    "\n",
    "Критерии, которые важны заказчику:\n",
    "- качество предсказания;\n",
    "- время обучения модели;\n",
    "- время предсказания модели."
   ]
  },
  {
   "cell_type": "markdown",
   "id": "d35940f0-46e8-45fc-813c-10ca9acfcbe1",
   "metadata": {},
   "source": [
    "## Описание данных\n",
    "\n",
    "**Признаки**\n",
    "\n",
    "- `DateCrawled` — дата скачивания анкеты из базы\n",
    "- `VehicleType` — тип автомобильного кузова\n",
    "- `RegistrationYear` — год регистрации автомобиля\n",
    "- `Gearbox` — тип коробки передач\n",
    "- `Power` — мощность (л. с.)\n",
    "- `Model` — модель автомобиля\n",
    "- `Kilometer` — пробег (км)\n",
    "- `RegistrationMonth` — месяц регистрации автомобиля\n",
    "- `FuelType` — тип топлива\n",
    "- `Brand` — марка автомобиля\n",
    "- `Repaired` — была машина в ремонте или нет\n",
    "- `DateCreated` — дата создания анкеты\n",
    "- `NumberOfPictures` — количество фотографий автомобиля\n",
    "- `PostalCode` — почтовый индекс владельца анкеты (пользователя)\n",
    "- `LastSeen` — дата последней активности пользователя\n",
    "\n",
    "**Целевой признак**\n",
    "\n",
    "- `Price` — цена (евро)"
   ]
  },
  {
   "cell_type": "markdown",
   "id": "5282d1c9-f390-42c3-a3ee-ec8ce17bbf4e",
   "metadata": {},
   "source": [
    "## Оглавление\n",
    "1. Подготовка данных\n",
    "2. Обучение моделей\n",
    "3. Анализ моделей"
   ]
  },
  {
   "cell_type": "code",
   "execution_count": 1,
   "id": "18e1505f-e474-4c00-9f7b-cd2f8a2b6a51",
   "metadata": {},
   "outputs": [],
   "source": [
    "# Блок импорта\n",
    "import pandas as pd\n",
    "import numpy as np\n",
    "import matplotlib.pyplot as plt\n",
    "import seaborn as sns\n",
    "import time\n",
    "\n",
    "# Математические операции\n",
    "import math\n",
    "from math import sqrt\n",
    "\n",
    "# Простые модели, на которых будем проверять\n",
    "from sklearn.tree import DecisionTreeRegressor\n",
    "from sklearn.ensemble import RandomForestRegressor\n",
    "from sklearn.linear_model import LinearRegression\n",
    "from sklearn.dummy import DummyRegressor\n",
    "\n",
    "# Возможный бонус\n",
    "from sklearn.linear_model import Ridge\n",
    "\n",
    "# Вспомогательные методы\n",
    "from sklearn.model_selection import train_test_split\n",
    "from sklearn.model_selection import GridSearchCV\n",
    "from sklearn.preprocessing import OneHotEncoder\n",
    "from sklearn.preprocessing import StandardScaler\n",
    "from sklearn.preprocessing import OrdinalEncoder\n",
    "from sklearn.preprocessing import LabelEncoder\n",
    "from sklearn.base import BaseEstimator\n",
    "from sklearn.metrics import mean_squared_error as mse\n",
    "from sklearn.metrics import  make_scorer\n",
    "\n",
    "# буст\n",
    "from catboost import CatBoostRegressor\n",
    "from lightgbm import LGBMRegressor\n",
    "import lightgbm as lgb\n",
    "\n",
    "pd.options.mode.chained_assignment = None"
   ]
  },
  {
   "cell_type": "markdown",
   "id": "7446f52e-0d41-428b-a760-0b21a8e9581d",
   "metadata": {},
   "source": [
    "# Подготовка данных"
   ]
  },
  {
   "cell_type": "code",
   "execution_count": 2,
   "id": "c3be5ab4-2661-4b2f-a088-768824211400",
   "metadata": {},
   "outputs": [],
   "source": [
    "try:\n",
    "    df = pd.read_csv('autos.csv')\n",
    "except FileNotFoundError: \n",
    "    df = pd.read_csv('https://code.s3.yandex.net/datasets/autos.csv')"
   ]
  },
  {
   "cell_type": "code",
   "execution_count": 3,
   "id": "777d684c-c0f5-410c-b90e-0d2ea391b1fb",
   "metadata": {
    "tags": []
   },
   "outputs": [
    {
     "data": {
      "text/html": [
       "<div>\n",
       "<style scoped>\n",
       "    .dataframe tbody tr th:only-of-type {\n",
       "        vertical-align: middle;\n",
       "    }\n",
       "\n",
       "    .dataframe tbody tr th {\n",
       "        vertical-align: top;\n",
       "    }\n",
       "\n",
       "    .dataframe thead th {\n",
       "        text-align: right;\n",
       "    }\n",
       "</style>\n",
       "<table border=\"1\" class=\"dataframe\">\n",
       "  <thead>\n",
       "    <tr style=\"text-align: right;\">\n",
       "      <th></th>\n",
       "      <th>DateCrawled</th>\n",
       "      <th>Price</th>\n",
       "      <th>VehicleType</th>\n",
       "      <th>RegistrationYear</th>\n",
       "      <th>Gearbox</th>\n",
       "      <th>Power</th>\n",
       "      <th>Model</th>\n",
       "      <th>Kilometer</th>\n",
       "      <th>RegistrationMonth</th>\n",
       "      <th>FuelType</th>\n",
       "      <th>Brand</th>\n",
       "      <th>Repaired</th>\n",
       "      <th>DateCreated</th>\n",
       "      <th>NumberOfPictures</th>\n",
       "      <th>PostalCode</th>\n",
       "      <th>LastSeen</th>\n",
       "    </tr>\n",
       "  </thead>\n",
       "  <tbody>\n",
       "    <tr>\n",
       "      <th>0</th>\n",
       "      <td>2016-03-24 11:52:17</td>\n",
       "      <td>480</td>\n",
       "      <td>NaN</td>\n",
       "      <td>1993</td>\n",
       "      <td>manual</td>\n",
       "      <td>0</td>\n",
       "      <td>golf</td>\n",
       "      <td>150000</td>\n",
       "      <td>0</td>\n",
       "      <td>petrol</td>\n",
       "      <td>volkswagen</td>\n",
       "      <td>NaN</td>\n",
       "      <td>2016-03-24 00:00:00</td>\n",
       "      <td>0</td>\n",
       "      <td>70435</td>\n",
       "      <td>2016-04-07 03:16:57</td>\n",
       "    </tr>\n",
       "    <tr>\n",
       "      <th>1</th>\n",
       "      <td>2016-03-24 10:58:45</td>\n",
       "      <td>18300</td>\n",
       "      <td>coupe</td>\n",
       "      <td>2011</td>\n",
       "      <td>manual</td>\n",
       "      <td>190</td>\n",
       "      <td>NaN</td>\n",
       "      <td>125000</td>\n",
       "      <td>5</td>\n",
       "      <td>gasoline</td>\n",
       "      <td>audi</td>\n",
       "      <td>yes</td>\n",
       "      <td>2016-03-24 00:00:00</td>\n",
       "      <td>0</td>\n",
       "      <td>66954</td>\n",
       "      <td>2016-04-07 01:46:50</td>\n",
       "    </tr>\n",
       "    <tr>\n",
       "      <th>2</th>\n",
       "      <td>2016-03-14 12:52:21</td>\n",
       "      <td>9800</td>\n",
       "      <td>suv</td>\n",
       "      <td>2004</td>\n",
       "      <td>auto</td>\n",
       "      <td>163</td>\n",
       "      <td>grand</td>\n",
       "      <td>125000</td>\n",
       "      <td>8</td>\n",
       "      <td>gasoline</td>\n",
       "      <td>jeep</td>\n",
       "      <td>NaN</td>\n",
       "      <td>2016-03-14 00:00:00</td>\n",
       "      <td>0</td>\n",
       "      <td>90480</td>\n",
       "      <td>2016-04-05 12:47:46</td>\n",
       "    </tr>\n",
       "    <tr>\n",
       "      <th>3</th>\n",
       "      <td>2016-03-17 16:54:04</td>\n",
       "      <td>1500</td>\n",
       "      <td>small</td>\n",
       "      <td>2001</td>\n",
       "      <td>manual</td>\n",
       "      <td>75</td>\n",
       "      <td>golf</td>\n",
       "      <td>150000</td>\n",
       "      <td>6</td>\n",
       "      <td>petrol</td>\n",
       "      <td>volkswagen</td>\n",
       "      <td>no</td>\n",
       "      <td>2016-03-17 00:00:00</td>\n",
       "      <td>0</td>\n",
       "      <td>91074</td>\n",
       "      <td>2016-03-17 17:40:17</td>\n",
       "    </tr>\n",
       "    <tr>\n",
       "      <th>4</th>\n",
       "      <td>2016-03-31 17:25:20</td>\n",
       "      <td>3600</td>\n",
       "      <td>small</td>\n",
       "      <td>2008</td>\n",
       "      <td>manual</td>\n",
       "      <td>69</td>\n",
       "      <td>fabia</td>\n",
       "      <td>90000</td>\n",
       "      <td>7</td>\n",
       "      <td>gasoline</td>\n",
       "      <td>skoda</td>\n",
       "      <td>no</td>\n",
       "      <td>2016-03-31 00:00:00</td>\n",
       "      <td>0</td>\n",
       "      <td>60437</td>\n",
       "      <td>2016-04-06 10:17:21</td>\n",
       "    </tr>\n",
       "  </tbody>\n",
       "</table>\n",
       "</div>"
      ],
      "text/plain": [
       "           DateCrawled  Price VehicleType  RegistrationYear Gearbox  Power  \\\n",
       "0  2016-03-24 11:52:17    480         NaN              1993  manual      0   \n",
       "1  2016-03-24 10:58:45  18300       coupe              2011  manual    190   \n",
       "2  2016-03-14 12:52:21   9800         suv              2004    auto    163   \n",
       "3  2016-03-17 16:54:04   1500       small              2001  manual     75   \n",
       "4  2016-03-31 17:25:20   3600       small              2008  manual     69   \n",
       "\n",
       "   Model  Kilometer  RegistrationMonth  FuelType       Brand Repaired  \\\n",
       "0   golf     150000                  0    petrol  volkswagen      NaN   \n",
       "1    NaN     125000                  5  gasoline        audi      yes   \n",
       "2  grand     125000                  8  gasoline        jeep      NaN   \n",
       "3   golf     150000                  6    petrol  volkswagen       no   \n",
       "4  fabia      90000                  7  gasoline       skoda       no   \n",
       "\n",
       "           DateCreated  NumberOfPictures  PostalCode             LastSeen  \n",
       "0  2016-03-24 00:00:00                 0       70435  2016-04-07 03:16:57  \n",
       "1  2016-03-24 00:00:00                 0       66954  2016-04-07 01:46:50  \n",
       "2  2016-03-14 00:00:00                 0       90480  2016-04-05 12:47:46  \n",
       "3  2016-03-17 00:00:00                 0       91074  2016-03-17 17:40:17  \n",
       "4  2016-03-31 00:00:00                 0       60437  2016-04-06 10:17:21  "
      ]
     },
     "execution_count": 3,
     "metadata": {},
     "output_type": "execute_result"
    }
   ],
   "source": [
    "df.head()"
   ]
  },
  {
   "cell_type": "markdown",
   "id": "d1242b11-ce56-419d-a39b-817fd3ad5b54",
   "metadata": {},
   "source": [
    "## Промежуточный вывод\n",
    "Изходя из поставленной цели (определить стоимость автомобиля) можно сделать вывод, что не все имеющиеся признаки необходимы для дальнейшей работы. Такие признаки как: дата создания обьявления или последняя активность пользователя.\n",
    "\n",
    "Другим примером будет признак количества выложенных фотографий автомобиля. Он может повлиять на привлекательность обьявления и скорость продажи, но не на финальную стоимость сделки.\n",
    "\n",
    "Удалим их :)"
   ]
  },
  {
   "cell_type": "code",
   "execution_count": 4,
   "id": "d1a86a91-77fd-435e-ba55-3fa1bd73449f",
   "metadata": {},
   "outputs": [
    {
     "data": {
      "text/html": [
       "<div>\n",
       "<style scoped>\n",
       "    .dataframe tbody tr th:only-of-type {\n",
       "        vertical-align: middle;\n",
       "    }\n",
       "\n",
       "    .dataframe tbody tr th {\n",
       "        vertical-align: top;\n",
       "    }\n",
       "\n",
       "    .dataframe thead th {\n",
       "        text-align: right;\n",
       "    }\n",
       "</style>\n",
       "<table border=\"1\" class=\"dataframe\">\n",
       "  <thead>\n",
       "    <tr style=\"text-align: right;\">\n",
       "      <th></th>\n",
       "      <th>Price</th>\n",
       "      <th>VehicleType</th>\n",
       "      <th>RegistrationYear</th>\n",
       "      <th>Gearbox</th>\n",
       "      <th>Power</th>\n",
       "      <th>Model</th>\n",
       "      <th>Kilometer</th>\n",
       "      <th>RegistrationMonth</th>\n",
       "      <th>FuelType</th>\n",
       "      <th>Brand</th>\n",
       "      <th>Repaired</th>\n",
       "    </tr>\n",
       "  </thead>\n",
       "  <tbody>\n",
       "    <tr>\n",
       "      <th>0</th>\n",
       "      <td>480</td>\n",
       "      <td>NaN</td>\n",
       "      <td>1993</td>\n",
       "      <td>manual</td>\n",
       "      <td>0</td>\n",
       "      <td>golf</td>\n",
       "      <td>150000</td>\n",
       "      <td>0</td>\n",
       "      <td>petrol</td>\n",
       "      <td>volkswagen</td>\n",
       "      <td>NaN</td>\n",
       "    </tr>\n",
       "    <tr>\n",
       "      <th>1</th>\n",
       "      <td>18300</td>\n",
       "      <td>coupe</td>\n",
       "      <td>2011</td>\n",
       "      <td>manual</td>\n",
       "      <td>190</td>\n",
       "      <td>NaN</td>\n",
       "      <td>125000</td>\n",
       "      <td>5</td>\n",
       "      <td>gasoline</td>\n",
       "      <td>audi</td>\n",
       "      <td>yes</td>\n",
       "    </tr>\n",
       "    <tr>\n",
       "      <th>2</th>\n",
       "      <td>9800</td>\n",
       "      <td>suv</td>\n",
       "      <td>2004</td>\n",
       "      <td>auto</td>\n",
       "      <td>163</td>\n",
       "      <td>grand</td>\n",
       "      <td>125000</td>\n",
       "      <td>8</td>\n",
       "      <td>gasoline</td>\n",
       "      <td>jeep</td>\n",
       "      <td>NaN</td>\n",
       "    </tr>\n",
       "    <tr>\n",
       "      <th>3</th>\n",
       "      <td>1500</td>\n",
       "      <td>small</td>\n",
       "      <td>2001</td>\n",
       "      <td>manual</td>\n",
       "      <td>75</td>\n",
       "      <td>golf</td>\n",
       "      <td>150000</td>\n",
       "      <td>6</td>\n",
       "      <td>petrol</td>\n",
       "      <td>volkswagen</td>\n",
       "      <td>no</td>\n",
       "    </tr>\n",
       "    <tr>\n",
       "      <th>4</th>\n",
       "      <td>3600</td>\n",
       "      <td>small</td>\n",
       "      <td>2008</td>\n",
       "      <td>manual</td>\n",
       "      <td>69</td>\n",
       "      <td>fabia</td>\n",
       "      <td>90000</td>\n",
       "      <td>7</td>\n",
       "      <td>gasoline</td>\n",
       "      <td>skoda</td>\n",
       "      <td>no</td>\n",
       "    </tr>\n",
       "  </tbody>\n",
       "</table>\n",
       "</div>"
      ],
      "text/plain": [
       "   Price VehicleType  RegistrationYear Gearbox  Power  Model  Kilometer  \\\n",
       "0    480         NaN              1993  manual      0   golf     150000   \n",
       "1  18300       coupe              2011  manual    190    NaN     125000   \n",
       "2   9800         suv              2004    auto    163  grand     125000   \n",
       "3   1500       small              2001  manual     75   golf     150000   \n",
       "4   3600       small              2008  manual     69  fabia      90000   \n",
       "\n",
       "   RegistrationMonth  FuelType       Brand Repaired  \n",
       "0                  0    petrol  volkswagen      NaN  \n",
       "1                  5  gasoline        audi      yes  \n",
       "2                  8  gasoline        jeep      NaN  \n",
       "3                  6    petrol  volkswagen       no  \n",
       "4                  7  gasoline       skoda       no  "
      ]
     },
     "execution_count": 4,
     "metadata": {},
     "output_type": "execute_result"
    }
   ],
   "source": [
    "del df['DateCrawled'], df['DateCreated'], df['NumberOfPictures'], df['PostalCode'], df['LastSeen']\n",
    "df.head()"
   ]
  },
  {
   "cell_type": "code",
   "execution_count": 5,
   "id": "6d899db3-c609-45b6-a0c9-c34c1cfcdf98",
   "metadata": {
    "tags": []
   },
   "outputs": [
    {
     "name": "stdout",
     "output_type": "stream",
     "text": [
      "<class 'pandas.core.frame.DataFrame'>\n",
      "RangeIndex: 354369 entries, 0 to 354368\n",
      "Data columns (total 11 columns):\n",
      " #   Column             Non-Null Count   Dtype \n",
      "---  ------             --------------   ----- \n",
      " 0   Price              354369 non-null  int64 \n",
      " 1   VehicleType        316879 non-null  object\n",
      " 2   RegistrationYear   354369 non-null  int64 \n",
      " 3   Gearbox            334536 non-null  object\n",
      " 4   Power              354369 non-null  int64 \n",
      " 5   Model              334664 non-null  object\n",
      " 6   Kilometer          354369 non-null  int64 \n",
      " 7   RegistrationMonth  354369 non-null  int64 \n",
      " 8   FuelType           321474 non-null  object\n",
      " 9   Brand              354369 non-null  object\n",
      " 10  Repaired           283215 non-null  object\n",
      "dtypes: int64(5), object(6)\n",
      "memory usage: 29.7+ MB\n"
     ]
    }
   ],
   "source": [
    "df.info()"
   ]
  },
  {
   "cell_type": "code",
   "execution_count": 6,
   "id": "9a670ebb-6392-424b-9d72-b9cfddc80323",
   "metadata": {
    "tags": []
   },
   "outputs": [
    {
     "data": {
      "text/html": [
       "<div>\n",
       "<style scoped>\n",
       "    .dataframe tbody tr th:only-of-type {\n",
       "        vertical-align: middle;\n",
       "    }\n",
       "\n",
       "    .dataframe tbody tr th {\n",
       "        vertical-align: top;\n",
       "    }\n",
       "\n",
       "    .dataframe thead th {\n",
       "        text-align: right;\n",
       "    }\n",
       "</style>\n",
       "<table border=\"1\" class=\"dataframe\">\n",
       "  <thead>\n",
       "    <tr style=\"text-align: right;\">\n",
       "      <th></th>\n",
       "      <th>Price</th>\n",
       "      <th>RegistrationYear</th>\n",
       "      <th>Power</th>\n",
       "      <th>Kilometer</th>\n",
       "      <th>RegistrationMonth</th>\n",
       "    </tr>\n",
       "  </thead>\n",
       "  <tbody>\n",
       "    <tr>\n",
       "      <th>count</th>\n",
       "      <td>354369.000000</td>\n",
       "      <td>354369.000000</td>\n",
       "      <td>354369.000000</td>\n",
       "      <td>354369.000000</td>\n",
       "      <td>354369.000000</td>\n",
       "    </tr>\n",
       "    <tr>\n",
       "      <th>mean</th>\n",
       "      <td>4416.656776</td>\n",
       "      <td>2004.234448</td>\n",
       "      <td>110.094337</td>\n",
       "      <td>128211.172535</td>\n",
       "      <td>5.714645</td>\n",
       "    </tr>\n",
       "    <tr>\n",
       "      <th>std</th>\n",
       "      <td>4514.158514</td>\n",
       "      <td>90.227958</td>\n",
       "      <td>189.850405</td>\n",
       "      <td>37905.341530</td>\n",
       "      <td>3.726421</td>\n",
       "    </tr>\n",
       "    <tr>\n",
       "      <th>min</th>\n",
       "      <td>0.000000</td>\n",
       "      <td>1000.000000</td>\n",
       "      <td>0.000000</td>\n",
       "      <td>5000.000000</td>\n",
       "      <td>0.000000</td>\n",
       "    </tr>\n",
       "    <tr>\n",
       "      <th>25%</th>\n",
       "      <td>1050.000000</td>\n",
       "      <td>1999.000000</td>\n",
       "      <td>69.000000</td>\n",
       "      <td>125000.000000</td>\n",
       "      <td>3.000000</td>\n",
       "    </tr>\n",
       "    <tr>\n",
       "      <th>50%</th>\n",
       "      <td>2700.000000</td>\n",
       "      <td>2003.000000</td>\n",
       "      <td>105.000000</td>\n",
       "      <td>150000.000000</td>\n",
       "      <td>6.000000</td>\n",
       "    </tr>\n",
       "    <tr>\n",
       "      <th>75%</th>\n",
       "      <td>6400.000000</td>\n",
       "      <td>2008.000000</td>\n",
       "      <td>143.000000</td>\n",
       "      <td>150000.000000</td>\n",
       "      <td>9.000000</td>\n",
       "    </tr>\n",
       "    <tr>\n",
       "      <th>max</th>\n",
       "      <td>20000.000000</td>\n",
       "      <td>9999.000000</td>\n",
       "      <td>20000.000000</td>\n",
       "      <td>150000.000000</td>\n",
       "      <td>12.000000</td>\n",
       "    </tr>\n",
       "  </tbody>\n",
       "</table>\n",
       "</div>"
      ],
      "text/plain": [
       "               Price  RegistrationYear          Power      Kilometer  \\\n",
       "count  354369.000000     354369.000000  354369.000000  354369.000000   \n",
       "mean     4416.656776       2004.234448     110.094337  128211.172535   \n",
       "std      4514.158514         90.227958     189.850405   37905.341530   \n",
       "min         0.000000       1000.000000       0.000000    5000.000000   \n",
       "25%      1050.000000       1999.000000      69.000000  125000.000000   \n",
       "50%      2700.000000       2003.000000     105.000000  150000.000000   \n",
       "75%      6400.000000       2008.000000     143.000000  150000.000000   \n",
       "max     20000.000000       9999.000000   20000.000000  150000.000000   \n",
       "\n",
       "       RegistrationMonth  \n",
       "count      354369.000000  \n",
       "mean            5.714645  \n",
       "std             3.726421  \n",
       "min             0.000000  \n",
       "25%             3.000000  \n",
       "50%             6.000000  \n",
       "75%             9.000000  \n",
       "max            12.000000  "
      ]
     },
     "execution_count": 6,
     "metadata": {},
     "output_type": "execute_result"
    }
   ],
   "source": [
    "df.describe()"
   ]
  },
  {
   "cell_type": "code",
   "execution_count": 7,
   "id": "d05e04f9-6f4a-4126-a451-eb44b2a24515",
   "metadata": {},
   "outputs": [
    {
     "data": {
      "image/png": "[encoded data removed]",
      "text/plain": [
       "<Figure size 1000x1000 with 2 Axes>"
      ]
     },
     "metadata": {},
     "output_type": "display_data"
    }
   ],
   "source": [
    "fig, ax = plt.subplots(figsize=(10,10))\n",
    "sns.heatmap(df.corr(), annot=True, square=True, vmin=-1, vmax=1, center=0, ax=ax);"
   ]
  },
  {
   "cell_type": "markdown",
   "id": "109516dc-8dc7-47c7-93fe-23095717515e",
   "metadata": {},
   "source": [
    "## Промежуточный вывод\n",
    "- Типы данных заданы корректно.\n",
    "- Обнаружено множество пропусков.\n",
    "- Имеются выбросы в обе стороны. Год выпуска находится в неадекватном диапозоне, лошадиные силы скачут от 0 до 20000. Настораживает нулевой год выпуска машины.\n",
    "- Значимой корреляции признаков не обнаружено."
   ]
  },
  {
   "cell_type": "markdown",
   "id": "05e16c0f-0bdd-46bf-94c4-f0f3d7e28c60",
   "metadata": {},
   "source": [
    "## Мощность ТС"
   ]
  },
  {
   "cell_type": "code",
   "execution_count": 8,
   "id": "99c82b85-11c5-4fab-a8a5-8e92727545a2",
   "metadata": {},
   "outputs": [
    {
     "data": {
      "image/png": "[encoded data removed]",
      "text/plain": [
       "<Figure size 1600x800 with 1 Axes>"
      ]
     },
     "metadata": {},
     "output_type": "display_data"
    }
   ],
   "source": [
    "fig, ax = plt.subplots()\n",
    "ax.set_title('Распределение объявлений по мощности')\n",
    "ax.set_xlabel('Лошадинных сил')\n",
    "ax.set_ylabel('Количество объявлений')\n",
    "df['Power'].plot(kind='box', figsize=(16,8), grid = True);"
   ]
  },
  {
   "cell_type": "markdown",
   "id": "42f8064f-a676-429b-984b-5a6306379597",
   "metadata": {},
   "source": [
    "Конечно на планете земля есть очень мощные и очень дорогие гиперкары, однако их количество ничтожно мало в общей массе транспортных средств, поэтому мы смело может убрать выбросы по мощности, улучшив тем самым качество наших данных."
   ]
  },
  {
   "cell_type": "code",
   "execution_count": 9,
   "id": "59185e3e-6254-4b50-ae2e-12c80b9daf08",
   "metadata": {},
   "outputs": [],
   "source": [
    "df = df[(df['Power'] <= df['Power'].quantile(0.998)) & (df['Power'] >= df['Power'].quantile(0.01))]"
   ]
  },
  {
   "cell_type": "code",
   "execution_count": 10,
   "id": "09c4be36-a417-4636-aa66-083dd3067d1a",
   "metadata": {},
   "outputs": [
    {
     "data": {
      "image/png": "[encoded data removed]",
      "text/plain": [
       "<Figure size 1600x800 with 1 Axes>"
      ]
     },
     "metadata": {},
     "output_type": "display_data"
    }
   ],
   "source": [
    "fig, ax = plt.subplots()\n",
    "ax.set_title('Распределение объявлений по мощности')\n",
    "ax.set_xlabel('Лошадинных сил')\n",
    "ax.set_ylabel('Количество объявлений')\n",
    "df['Power'].plot(kind='box', figsize=(16,8), grid = True);"
   ]
  },
  {
   "cell_type": "code",
   "execution_count": 11,
   "id": "352942bb-3dad-46d9-9733-34df78b77ce8",
   "metadata": {},
   "outputs": [
    {
     "data": {
      "text/plain": [
       "0      40225\n",
       "75     24023\n",
       "60     15897\n",
       "150    14590\n",
       "101    13298\n",
       "       ...  \n",
       "337        1\n",
       "353        1\n",
       "282        1\n",
       "297        1\n",
       "377        1\n",
       "Name: Power, Length: 390, dtype: int64"
      ]
     },
     "execution_count": 11,
     "metadata": {},
     "output_type": "execute_result"
    }
   ],
   "source": [
    "df['Power'].sort_index(ascending=True).value_counts()"
   ]
  },
  {
   "cell_type": "markdown",
   "id": "9721d3c0-c898-44f8-91da-dcc075579577",
   "metadata": {},
   "source": [
    "Огромное количество нулевых значений мощности автомобиля явно не пойдет на пользу нашим моделям.\n",
    "\n",
    "Скорее всего нули символизируют пропущенное значение мощности при составлении обьявления. Не стоит унывать, скорее всего нам удастся исправить эту ситуацию, заполнив нулевые значения по уже имеющимся, исходя из модели машины и года её выпуска."
   ]
  },
  {
   "cell_type": "code",
   "execution_count": 12,
   "id": "593e91e3-a0fd-4e62-8743-3c05f96b99b1",
   "metadata": {},
   "outputs": [],
   "source": [
    "# Создадим функцию подсчета мощности автомобиля по трем признакам\n",
    "def calculate_power(df, brand, model, year):\n",
    "    df_part = df[(df['RegistrationYear'] == year) & (df['Brand'] == brand) & (df['Model'] == model)]\n",
    "    if (df_part['Power'].count() == 0):\n",
    "        # если не нашли по году, бренду и модели, пробуем только по бренду + модели\n",
    "        df_part = df[(df['Brand'] == brand) & (df['Model'] == model)]\n",
    "    \n",
    "    median_power = df_part['Power'].median()\n",
    "    \n",
    "    if (math.isnan(median_power)):\n",
    "        median_power = 0\n",
    "        \n",
    "    return median_power"
   ]
  },
  {
   "cell_type": "code",
   "execution_count": 13,
   "id": "0632a747-aa84-45ef-8cc0-d16053758b3f",
   "metadata": {},
   "outputs": [
    {
     "data": {
      "text/plain": [
       "Brand               41133\n",
       "Model               34562\n",
       "RegistrationYear    41133\n",
       "dtype: int64"
      ]
     },
     "execution_count": 13,
     "metadata": {},
     "output_type": "execute_result"
    }
   ],
   "source": [
    "# Отделим из общей массы машины с минимальный количеством лощадиных сил, посмотрим на них\n",
    "low_power_df = df[df['Power'] < 30][['Brand', 'Model', 'RegistrationYear']]\n",
    "low_power_df.count()"
   ]
  },
  {
   "cell_type": "code",
   "execution_count": 14,
   "id": "5c9656a0-402f-486d-a209-6026579fe3cb",
   "metadata": {},
   "outputs": [],
   "source": [
    "# Заполним незаполненные модели категорией unknown\n",
    "low_power_df['Model'] = low_power_df['Model'].fillna('unknown')"
   ]
  },
  {
   "cell_type": "code",
   "execution_count": 15,
   "id": "8cca1826-5e7c-427a-96a4-ce6b6f5d814a",
   "metadata": {},
   "outputs": [
    {
     "data": {
      "text/plain": [
       "Brand               5181\n",
       "Model               5181\n",
       "RegistrationYear    5181\n",
       "dtype: int64"
      ]
     },
     "execution_count": 15,
     "metadata": {},
     "output_type": "execute_result"
    }
   ],
   "source": [
    "# Избавимся от явных дубликатов\n",
    "low_power_df = low_power_df.drop_duplicates()\n",
    "low_power_df.count()"
   ]
  },
  {
   "cell_type": "code",
   "execution_count": 16,
   "id": "9b249b8b-d516-4424-80f3-e6083bac2511",
   "metadata": {},
   "outputs": [
    {
     "name": "stdout",
     "output_type": "stream",
     "text": [
      "CPU times: total: 6min 19s\n",
      "Wall time: 6min 23s\n"
     ]
    }
   ],
   "source": [
    "%%time\n",
    "\n",
    "for row in low_power_df.itertuples(index=True):\n",
    "    year = getattr(row, \"RegistrationYear\") # getattr вычленяет из строчки год выпуска автомобиля из соответствующей строки\n",
    "    brand = getattr(row, \"Brand\")\n",
    "    model = getattr(row, \"Model\")\n",
    "    median = calculate_power(df, brand, model, year)\n",
    "    searchRow = ((df['Power'] < 30)) & (df['Brand'] == brand) & (df['Model'] == model) & (df['RegistrationYear'] == year)\n",
    "    df.loc[searchRow, 'Power'] = median"
   ]
  },
  {
   "cell_type": "code",
   "execution_count": 17,
   "id": "15e3d2dd-e51e-431b-8802-5158117a9992",
   "metadata": {},
   "outputs": [
    {
     "data": {
      "text/plain": [
       "7761"
      ]
     },
     "execution_count": 17,
     "metadata": {},
     "output_type": "execute_result"
    }
   ],
   "source": [
    "# Посмотрим, сколько нулевых значений осталось\n",
    "df[df['Power'] == 0]['Price'].count()"
   ]
  },
  {
   "cell_type": "code",
   "execution_count": 18,
   "id": "a17574ba-3223-476e-b462-e4e5c6d4c657",
   "metadata": {},
   "outputs": [],
   "source": [
    "# Остались только какие-то уникальные модели, которые не встретились в остальной выборке, удалим их\n",
    "df = df[df['Power'] != 0]"
   ]
  },
  {
   "cell_type": "markdown",
   "id": "56293584-f840-4321-baf4-caa24337f78f",
   "metadata": {},
   "source": [
    "### Вывод по мощности ТС\n",
    "Мы проанализировали график распределения мощностей ТС в нашем датасете, отбросили анамальные значения для массового рынка автомобилей.\n",
    "\n",
    "Поработали с нулевыми значениями лощадиных сил, заменив максимальное количество значений для которых смогли найти аналогичные автомобили."
   ]
  },
  {
   "cell_type": "markdown",
   "id": "ecd150c2-1e86-4555-b185-a8cabf671ca6",
   "metadata": {},
   "source": [
    "## Даты выпуска ТС"
   ]
  },
  {
   "cell_type": "code",
   "execution_count": 19,
   "id": "1ce3c62f-c225-456b-81ea-27bc6ea71cf0",
   "metadata": {},
   "outputs": [
    {
     "data": {
      "text/plain": [
       "3     33980\n",
       "0     32823\n",
       "6     31117\n",
       "4     28918\n",
       "5     28795\n",
       "7     26835\n",
       "10    25837\n",
       "12    23967\n",
       "11    23950\n",
       "9     23583\n",
       "1     22723\n",
       "8     22367\n",
       "2     21023\n",
       "Name: RegistrationMonth, dtype: int64"
      ]
     },
     "execution_count": 19,
     "metadata": {},
     "output_type": "execute_result"
    }
   ],
   "source": [
    "df['RegistrationMonth'].value_counts()"
   ]
  },
  {
   "cell_type": "markdown",
   "id": "28729555-54c6-4c68-b4d6-9fc44af48dc3",
   "metadata": {},
   "source": [
    "Количество нулевых значений месяца выпуска не позволит нам просто избавиться от такой группы. Это нанесет сильный урон нашему датасету, остается принять, что ноль сведетельствует об отсутствии данных о месяце выпуска транспортного средства."
   ]
  },
  {
   "cell_type": "code",
   "execution_count": 20,
   "id": "d2384ff8-fe06-48ff-b9a8-5b62fd8d32b1",
   "metadata": {},
   "outputs": [
    {
     "data": {
      "image/png": "[encoded data removed]",
      "text/plain": [
       "<Figure size 1600x800 with 1 Axes>"
      ]
     },
     "metadata": {},
     "output_type": "display_data"
    }
   ],
   "source": [
    "fig, ax = plt.subplots()\n",
    "ax.set_title('Распределение объявлений по годам')\n",
    "ax.set_xlabel('Год')\n",
    "ax.set_ylabel('Количество объявлений')\n",
    "df['RegistrationYear'].plot(kind='box', figsize=(16,8), grid = True);"
   ]
  },
  {
   "cell_type": "code",
   "execution_count": 21,
   "id": "bbfdc752-38ae-471a-af57-fcf63d3fa0ee",
   "metadata": {},
   "outputs": [],
   "source": [
    "# Удалим выбросы по году\n",
    "df = df[(df['RegistrationYear'] >= 1970) & (df['RegistrationYear'] <= 2017)]"
   ]
  },
  {
   "cell_type": "code",
   "execution_count": 22,
   "id": "d6490030-b82b-42ae-9d19-f58de4d36d49",
   "metadata": {},
   "outputs": [],
   "source": [
    "# df['DateCreated'].max() -> 2016"
   ]
  },
  {
   "cell_type": "code",
   "execution_count": 23,
   "id": "2ccca5a6-28a6-4c0b-b5a0-683b1a30d048",
   "metadata": {},
   "outputs": [
    {
     "data": {
      "image/png": "[encoded data removed]",
      "text/plain": [
       "<Figure size 1600x800 with 1 Axes>"
      ]
     },
     "metadata": {},
     "output_type": "display_data"
    }
   ],
   "source": [
    "fig, ax = plt.subplots()\n",
    "ax.set_title('Распределение объявлений по годам')\n",
    "ax.set_xlabel('Год')\n",
    "ax.set_ylabel('Количество объявлений')\n",
    "df['RegistrationYear'].plot(kind='box', figsize=(16,8), grid = True);"
   ]
  },
  {
   "cell_type": "markdown",
   "id": "c05da898-82f4-4e49-ab48-6c09a36c11b7",
   "metadata": {},
   "source": [
    "### Вывод по датам выпуска ТС\n",
    "Было принято решение не удалять нулевые значения месяца выпуска ТС, так как данных с таким значением крайне много. Будем считать, что это отдельная группа ТС для которых не указан месяц выпуска.\n",
    "\n",
    "Убрали выбросы по году ТС, отобрав лишь актуальные данные в период с 1970 по 2017 год."
   ]
  },
  {
   "cell_type": "markdown",
   "id": "240159e5-ed05-4484-b8d9-1543d0735611",
   "metadata": {},
   "source": [
    "## Цена ТС"
   ]
  },
  {
   "cell_type": "code",
   "execution_count": 24,
   "id": "ebfadd4c-e1e0-41bd-950b-de1bbbf606e4",
   "metadata": {},
   "outputs": [
    {
     "data": {
      "image/png": "[encoded data removed]",
      "text/plain": [
       "<Figure size 1600x800 with 1 Axes>"
      ]
     },
     "metadata": {},
     "output_type": "display_data"
    }
   ],
   "source": [
    "fig, ax = plt.subplots()\n",
    "ax.set_title('Распределение объявлений по цене')\n",
    "ax.set_xlabel('Цена')\n",
    "ax.set_ylabel('Количество объявлений')\n",
    "df['Price'].plot(kind='box', figsize=(16,8), grid = True);"
   ]
  },
  {
   "cell_type": "code",
   "execution_count": 25,
   "id": "190ae8fd-6899-471e-9c5b-94ac52f220f1",
   "metadata": {},
   "outputs": [
    {
     "data": {
      "text/plain": [
       "0    9079\n",
       "1     962\n",
       "5      22\n",
       "2       7\n",
       "9       6\n",
       "3       5\n",
       "7       2\n",
       "8       1\n",
       "Name: Price, dtype: int64"
      ]
     },
     "execution_count": 25,
     "metadata": {},
     "output_type": "execute_result"
    }
   ],
   "source": [
    "# Посмотрим, что у нас с ценой (есть нулевые значения)\n",
    "df[df['Price'] < 10]['Price'].value_counts()"
   ]
  },
  {
   "cell_type": "markdown",
   "id": "657508b4-fc11-4314-8969-3d5a02595d94",
   "metadata": {},
   "source": [
    "Нулевая стомоисть - ужасная проблема для всего нашего исследования. Нужно предпринять аналогичные действия для устранения проблемы."
   ]
  },
  {
   "cell_type": "code",
   "execution_count": 26,
   "id": "fd822140-1b83-419b-bc39-0b3012816a8b",
   "metadata": {},
   "outputs": [],
   "source": [
    "def calculate_price(df, brand, model, year):\n",
    "    # в среднем не будем рассчитывать нулевые значения иначе поолученные значения будут сильно занижены\n",
    "    df_part = df[(df['Price'] >= 10) & (df['RegistrationYear'] == year) & (df['Brand'] == brand) & (df['Model'] == model)]\n",
    "    if (df_part['Price'].count() == 0):\n",
    "        # если не нашли по году, бренду и модели, пробуем только по бренду + модели\n",
    "        df_part = df[(df['Price'] >= 10) & (df['Brand'] == brand) & (df['Model'] == model)]\n",
    "    \n",
    "    mean_price = df_part['Price'].mean()\n",
    "    \n",
    "    if (math.isnan(mean_price)):\n",
    "        mean_price = 0\n",
    "        \n",
    "    return mean_price"
   ]
  },
  {
   "cell_type": "code",
   "execution_count": 27,
   "id": "d3c560f8-fa8c-42ce-940f-eb331862396a",
   "metadata": {},
   "outputs": [],
   "source": [
    "# Заполним незаполненные модели категорией unknown\n",
    "low_price_df = df[df['Price'] < 10][['Brand', 'Model', 'RegistrationYear']]\n",
    "low_price_df['Model'] = low_price_df['Model'].fillna('unknown')"
   ]
  },
  {
   "cell_type": "code",
   "execution_count": 28,
   "id": "045fe90d-753e-45af-a950-228bee38c52e",
   "metadata": {},
   "outputs": [
    {
     "data": {
      "text/plain": [
       "Brand               2394\n",
       "Model               2394\n",
       "RegistrationYear    2394\n",
       "dtype: int64"
      ]
     },
     "execution_count": 28,
     "metadata": {},
     "output_type": "execute_result"
    }
   ],
   "source": [
    "# Избавимся от явных дубликатов\n",
    "low_price_df = low_price_df.drop_duplicates()\n",
    "low_price_df.count()"
   ]
  },
  {
   "cell_type": "code",
   "execution_count": 29,
   "id": "db6dbc15-4ab7-4400-af8d-7928dd924b49",
   "metadata": {},
   "outputs": [
    {
     "name": "stdout",
     "output_type": "stream",
     "text": [
      "CPU times: total: 2min 47s\n",
      "Wall time: 2min 47s\n"
     ]
    }
   ],
   "source": [
    "%%time\n",
    "\n",
    "for row in low_price_df.itertuples(index=True):\n",
    "    year = getattr(row, \"RegistrationYear\")\n",
    "    brand = getattr(row, \"Brand\")\n",
    "    model = getattr(row, \"Model\")\n",
    "    mean_price = calculate_price(df, brand, model, year)\n",
    "    searchRow = (df['Price'] < 100) & (df['Brand'] == brand) & (df['Model'] == model) & (df['RegistrationYear'] == year)\n",
    "    df.loc[searchRow, 'Price'] = mean_price"
   ]
  },
  {
   "cell_type": "code",
   "execution_count": 30,
   "id": "61eb900d-75d8-451c-8589-bf3aed16383c",
   "metadata": {},
   "outputs": [
    {
     "data": {
      "text/plain": [
       "949"
      ]
     },
     "execution_count": 30,
     "metadata": {},
     "output_type": "execute_result"
    }
   ],
   "source": [
    "df[df['Price'] < 10]['Price'].count()"
   ]
  },
  {
   "cell_type": "code",
   "execution_count": 31,
   "id": "b872893d-842d-4d73-a7b7-6bc00beb3796",
   "metadata": {},
   "outputs": [],
   "source": [
    "# Пожертвуем тысячей обьявлений в угоду качеству данных :)\n",
    "df = df[df['Price'] >= 10]"
   ]
  },
  {
   "cell_type": "markdown",
   "id": "ac6df639-0939-4f1e-a25f-7eb1d52e17ca",
   "metadata": {},
   "source": [
    "### Вывод по ценам ТС\n",
    "Нам удалось исправить побавляющее большинство нулевых значений цены на автомобили. Неисправные значения были удалены."
   ]
  },
  {
   "cell_type": "markdown",
   "id": "2dedf2ce-9522-4eb1-a5db-7f9b430ba35e",
   "metadata": {},
   "source": [
    "## Ремонт ТС"
   ]
  },
  {
   "cell_type": "code",
   "execution_count": 32,
   "id": "463ee49b-490a-4e24-96dd-b0df7250a3fa",
   "metadata": {},
   "outputs": [
    {
     "data": {
      "text/plain": [
       "no     241989\n",
       "yes     34821\n",
       "Name: Repaired, dtype: int64"
      ]
     },
     "execution_count": 32,
     "metadata": {},
     "output_type": "execute_result"
    }
   ],
   "source": [
    "df['Repaired'].value_counts()"
   ]
  },
  {
   "cell_type": "code",
   "execution_count": 33,
   "id": "3814326c-b440-4ecb-89d4-610f41b0187e",
   "metadata": {},
   "outputs": [
    {
     "data": {
      "text/plain": [
       "63594"
      ]
     },
     "execution_count": 33,
     "metadata": {},
     "output_type": "execute_result"
    }
   ],
   "source": [
    "df['Repaired'].isna().sum()"
   ]
  },
  {
   "cell_type": "markdown",
   "id": "9e980b1b-f741-4d6f-aae0-f4b2e3573f8a",
   "metadata": {},
   "source": [
    "Более 64 тысяч пропусков сведетельствуют нам о существовании третьей категории значений в данном признаке, когда нам доподлено не известно был ли ремонт у данного транспортного средства.\n",
    "\n",
    "Наиболее разумным представляется вариант перекодировки значений данного признака в числовые с заполнением пропусков новым значением.\n",
    "\n",
    "Таким образом сделаем три группы:\n",
    "- 0 - ремонта не было\n",
    "- 1 - данные о ремонте неизвестны\n",
    "- 2 - ремонт состоялся"
   ]
  },
  {
   "cell_type": "code",
   "execution_count": 34,
   "id": "6b56a0b8-7916-4d0b-ad39-caeca69c5fd4",
   "metadata": {},
   "outputs": [],
   "source": [
    "df['Repaired'] = df['Repaired'].fillna(1)"
   ]
  },
  {
   "cell_type": "code",
   "execution_count": 35,
   "id": "0e2e022c-6447-46e8-9103-3f0558edfaf3",
   "metadata": {},
   "outputs": [],
   "source": [
    "def fill_not_repaired(value):\n",
    "    if value == 'no':\n",
    "        return 0\n",
    "    elif value == 'yes':\n",
    "        return 2\n",
    "    else:\n",
    "        return value"
   ]
  },
  {
   "cell_type": "code",
   "execution_count": 36,
   "id": "242f68b0-87b9-42f3-a075-74c2201ab19d",
   "metadata": {},
   "outputs": [
    {
     "data": {
      "text/plain": [
       "0    241989\n",
       "1     63594\n",
       "2     34821\n",
       "Name: Repaired, dtype: int64"
      ]
     },
     "execution_count": 36,
     "metadata": {},
     "output_type": "execute_result"
    }
   ],
   "source": [
    "df['Repaired'] = df['Repaired'].apply(fill_not_repaired)\n",
    "df['Repaired'].value_counts()"
   ]
  },
  {
   "cell_type": "markdown",
   "id": "112b52d5-db37-4366-ad9d-2a4ca84f047a",
   "metadata": {},
   "source": [
    "### Вывод по ремонту ТС"
   ]
  },
  {
   "cell_type": "markdown",
   "id": "eb9c8031-96c5-4d99-b202-7885ff7809f0",
   "metadata": {},
   "source": [
    "## Тип ТС"
   ]
  },
  {
   "cell_type": "code",
   "execution_count": 37,
   "id": "864c91c9-a248-4a9f-ad45-be6855cfa8e7",
   "metadata": {},
   "outputs": [
    {
     "data": {
      "text/plain": [
       "sedan          89934\n",
       "small          78657\n",
       "wagon          64396\n",
       "bus            28425\n",
       "convertible    19866\n",
       "coupe          15720\n",
       "suv            11683\n",
       "other           2980\n",
       "Name: VehicleType, dtype: int64"
      ]
     },
     "execution_count": 37,
     "metadata": {},
     "output_type": "execute_result"
    }
   ],
   "source": [
    "df['VehicleType'].value_counts()"
   ]
  },
  {
   "cell_type": "code",
   "execution_count": 38,
   "id": "10383505-5d65-4a4d-b555-c583e77a3ff8",
   "metadata": {},
   "outputs": [],
   "source": [
    "# Выделим пропуски в отдельную группу undifiend\n",
    "df['VehicleType'] = df['VehicleType'].fillna('undefined')"
   ]
  },
  {
   "cell_type": "code",
   "execution_count": 39,
   "id": "ba125744-0b83-4ac7-b178-c22441df5e4b",
   "metadata": {},
   "outputs": [
    {
     "data": {
      "text/plain": [
       "petrol      210441\n",
       "gasoline     97075\n",
       "lpg           5172\n",
       "cng            550\n",
       "hybrid         228\n",
       "other          127\n",
       "electric        80\n",
       "Name: FuelType, dtype: int64"
      ]
     },
     "execution_count": 39,
     "metadata": {},
     "output_type": "execute_result"
    }
   ],
   "source": [
    "df['FuelType'].value_counts()"
   ]
  },
  {
   "cell_type": "markdown",
   "id": "82657faa-9815-48fb-a0c5-cf046162dab7",
   "metadata": {},
   "source": [
    "petrol + gasoline - бензиновые двигатели - 0\\\n",
    "lpg + cng - газ - 1\\\n",
    "hybrid - гибрид - 2 \\\n",
    "electric - электрический - 3\n",
    "undefined - 4"
   ]
  },
  {
   "cell_type": "code",
   "execution_count": 40,
   "id": "d5dc257e-b68b-47c3-bd72-606b77331a51",
   "metadata": {},
   "outputs": [],
   "source": [
    "df['FuelType'] = df['FuelType'].fillna(4)"
   ]
  },
  {
   "cell_type": "code",
   "execution_count": 41,
   "id": "51592136-9a80-47eb-8f5c-66470c814739",
   "metadata": {},
   "outputs": [],
   "source": [
    "def fill_fuel_type(value):\n",
    "    if value == 'petrol' or value == 'gasoline':\n",
    "        return 0\n",
    "    elif value == 'lpg' or value == 'cng':\n",
    "        return 1\n",
    "    elif value == 'hybrid':\n",
    "        return 2\n",
    "    elif value == 'electric':\n",
    "        return 3\n",
    "    elif value == 'other':\n",
    "        return 4\n",
    "    else:\n",
    "        return value"
   ]
  },
  {
   "cell_type": "code",
   "execution_count": 42,
   "id": "5f250fb3-e1e1-4356-a9ca-39d9d1f36558",
   "metadata": {},
   "outputs": [
    {
     "data": {
      "text/plain": [
       "0    307516\n",
       "4     26858\n",
       "1      5722\n",
       "2       228\n",
       "3        80\n",
       "Name: FuelType, dtype: int64"
      ]
     },
     "execution_count": 42,
     "metadata": {},
     "output_type": "execute_result"
    }
   ],
   "source": [
    "df['FuelType'] = df['FuelType'].apply(fill_fuel_type)\n",
    "df['FuelType'].value_counts()"
   ]
  },
  {
   "cell_type": "code",
   "execution_count": 43,
   "id": "86012f41-f69f-4ffe-9e2c-d86faa3731a5",
   "metadata": {},
   "outputs": [],
   "source": [
    "# Аналогичным образом поступим и для остальных признаков\n",
    "# т.к. их восстановление или проблематично или не имеет решающей роли\n",
    "df['Gearbox'] = df['Gearbox'].fillna('undefined')\n",
    "df['Model'] = df['Model'].fillna('undefined')\n",
    "df['Brand'] = df['Brand'].fillna('undefined')"
   ]
  },
  {
   "cell_type": "code",
   "execution_count": 44,
   "id": "a2278006-98fa-4dd5-b0fe-0619a7a266c8",
   "metadata": {},
   "outputs": [
    {
     "name": "stdout",
     "output_type": "stream",
     "text": [
      "<class 'pandas.core.frame.DataFrame'>\n",
      "RangeIndex: 340404 entries, 0 to 340403\n",
      "Data columns (total 12 columns):\n",
      " #   Column             Non-Null Count   Dtype  \n",
      "---  ------             --------------   -----  \n",
      " 0   index              340404 non-null  int64  \n",
      " 1   Price              340404 non-null  float64\n",
      " 2   VehicleType        340404 non-null  object \n",
      " 3   RegistrationYear   340404 non-null  int64  \n",
      " 4   Gearbox            340404 non-null  object \n",
      " 5   Power              340404 non-null  float64\n",
      " 6   Model              340404 non-null  object \n",
      " 7   Kilometer          340404 non-null  int64  \n",
      " 8   RegistrationMonth  340404 non-null  int64  \n",
      " 9   FuelType           340404 non-null  int64  \n",
      " 10  Brand              340404 non-null  object \n",
      " 11  Repaired           340404 non-null  int64  \n",
      "dtypes: float64(2), int64(6), object(4)\n",
      "memory usage: 31.2+ MB\n"
     ]
    }
   ],
   "source": [
    "# Посмотрим, что получилось\n",
    "df = df.reset_index()\n",
    "df.info()"
   ]
  },
  {
   "cell_type": "code",
   "execution_count": 45,
   "id": "665f5cec-675a-4ff7-a266-1ad48bed201d",
   "metadata": {},
   "outputs": [],
   "source": [
    "# Удалим уже не нужные датасеты\n",
    "del low_price_df, low_power_df"
   ]
  },
  {
   "cell_type": "markdown",
   "id": "5d2b4481-48f2-4930-ac0f-0b42b7d0f808",
   "metadata": {},
   "source": [
    "## Вывод по подготовке данных\n",
    "Мы проделали масштабную работу:\n",
    "- Удалили ненужные для предсказания признаки\n",
    "- Разобрались с выбросами и пропусками в следующих признаках:\n",
    "    - Мощность двигателя ТС\n",
    "    - Дата (месяц и год) выпуска ТС\n",
    "    - Цена ТС\n",
    "- Выделили группу необозначенных(`undefined`) данных в слудеющих признаках `VehicleType`, `Gearbox`, `Model`, `FuelType`, `Brand`."
   ]
  },
  {
   "cell_type": "markdown",
   "id": "ef32af3d-c6f0-459f-80c9-8c78e7884461",
   "metadata": {},
   "source": [
    "# Обучение моделей"
   ]
  },
  {
   "cell_type": "code",
   "execution_count": 46,
   "id": "23ef1fa1-8839-4406-9217-f4840df47031",
   "metadata": {},
   "outputs": [],
   "source": [
    "# Определим random_state\n",
    "RANDOM_STATE=12345"
   ]
  },
  {
   "cell_type": "code",
   "execution_count": 47,
   "id": "60450279-b0db-4bcd-9071-a0bbc58a7a4f",
   "metadata": {},
   "outputs": [],
   "source": [
    "# Выделим категориальные признаки (RegistrationMonth и FuelType хоть они и имеют тип int64 однако по прежнему являются категориальными признаками)\n",
    "category_features = ['VehicleType', 'Gearbox', 'Brand', 'Model', 'FuelType', 'RegistrationMonth']\n",
    "\n",
    "# Выделим числовые признаки\n",
    "number_features = ['RegistrationYear', 'Power', 'Kilometer', 'Repaired']"
   ]
  },
  {
   "cell_type": "code",
   "execution_count": 48,
   "id": "ec2ca501-bb62-45c4-82d5-e2f9566c0206",
   "metadata": {},
   "outputs": [],
   "source": [
    "# Оставим в датасете только то, что нам нужно для обучения моделей\n",
    "df = df[number_features + category_features + ['Price']];"
   ]
  },
  {
   "cell_type": "code",
   "execution_count": 49,
   "id": "4b31f88d-e5d9-446a-9a2a-f5740787488b",
   "metadata": {},
   "outputs": [
    {
     "data": {
      "text/html": [
       "<div>\n",
       "<style scoped>\n",
       "    .dataframe tbody tr th:only-of-type {\n",
       "        vertical-align: middle;\n",
       "    }\n",
       "\n",
       "    .dataframe tbody tr th {\n",
       "        vertical-align: top;\n",
       "    }\n",
       "\n",
       "    .dataframe thead th {\n",
       "        text-align: right;\n",
       "    }\n",
       "</style>\n",
       "<table border=\"1\" class=\"dataframe\">\n",
       "  <thead>\n",
       "    <tr style=\"text-align: right;\">\n",
       "      <th></th>\n",
       "      <th>RegistrationYear</th>\n",
       "      <th>Power</th>\n",
       "      <th>Kilometer</th>\n",
       "      <th>Repaired</th>\n",
       "      <th>VehicleType</th>\n",
       "      <th>Gearbox</th>\n",
       "      <th>Brand</th>\n",
       "      <th>Model</th>\n",
       "      <th>FuelType</th>\n",
       "      <th>RegistrationMonth</th>\n",
       "      <th>Price</th>\n",
       "    </tr>\n",
       "  </thead>\n",
       "  <tbody>\n",
       "    <tr>\n",
       "      <th>0</th>\n",
       "      <td>1993</td>\n",
       "      <td>75.0</td>\n",
       "      <td>150000</td>\n",
       "      <td>1</td>\n",
       "      <td>undefined</td>\n",
       "      <td>manual</td>\n",
       "      <td>volkswagen</td>\n",
       "      <td>golf</td>\n",
       "      <td>0</td>\n",
       "      <td>0</td>\n",
       "      <td>480.0</td>\n",
       "    </tr>\n",
       "    <tr>\n",
       "      <th>1</th>\n",
       "      <td>2011</td>\n",
       "      <td>190.0</td>\n",
       "      <td>125000</td>\n",
       "      <td>2</td>\n",
       "      <td>coupe</td>\n",
       "      <td>manual</td>\n",
       "      <td>audi</td>\n",
       "      <td>undefined</td>\n",
       "      <td>0</td>\n",
       "      <td>5</td>\n",
       "      <td>18300.0</td>\n",
       "    </tr>\n",
       "    <tr>\n",
       "      <th>2</th>\n",
       "      <td>2004</td>\n",
       "      <td>163.0</td>\n",
       "      <td>125000</td>\n",
       "      <td>1</td>\n",
       "      <td>suv</td>\n",
       "      <td>auto</td>\n",
       "      <td>jeep</td>\n",
       "      <td>grand</td>\n",
       "      <td>0</td>\n",
       "      <td>8</td>\n",
       "      <td>9800.0</td>\n",
       "    </tr>\n",
       "    <tr>\n",
       "      <th>3</th>\n",
       "      <td>2001</td>\n",
       "      <td>75.0</td>\n",
       "      <td>150000</td>\n",
       "      <td>0</td>\n",
       "      <td>small</td>\n",
       "      <td>manual</td>\n",
       "      <td>volkswagen</td>\n",
       "      <td>golf</td>\n",
       "      <td>0</td>\n",
       "      <td>6</td>\n",
       "      <td>1500.0</td>\n",
       "    </tr>\n",
       "    <tr>\n",
       "      <th>4</th>\n",
       "      <td>2008</td>\n",
       "      <td>69.0</td>\n",
       "      <td>90000</td>\n",
       "      <td>0</td>\n",
       "      <td>small</td>\n",
       "      <td>manual</td>\n",
       "      <td>skoda</td>\n",
       "      <td>fabia</td>\n",
       "      <td>0</td>\n",
       "      <td>7</td>\n",
       "      <td>3600.0</td>\n",
       "    </tr>\n",
       "  </tbody>\n",
       "</table>\n",
       "</div>"
      ],
      "text/plain": [
       "   RegistrationYear  Power  Kilometer  Repaired VehicleType Gearbox  \\\n",
       "0              1993   75.0     150000         1   undefined  manual   \n",
       "1              2011  190.0     125000         2       coupe  manual   \n",
       "2              2004  163.0     125000         1         suv    auto   \n",
       "3              2001   75.0     150000         0       small  manual   \n",
       "4              2008   69.0      90000         0       small  manual   \n",
       "\n",
       "        Brand      Model  FuelType  RegistrationMonth    Price  \n",
       "0  volkswagen       golf         0                  0    480.0  \n",
       "1        audi  undefined         0                  5  18300.0  \n",
       "2        jeep      grand         0                  8   9800.0  \n",
       "3  volkswagen       golf         0                  6   1500.0  \n",
       "4       skoda      fabia         0                  7   3600.0  "
      ]
     },
     "execution_count": 49,
     "metadata": {},
     "output_type": "execute_result"
    }
   ],
   "source": [
    "# Создадим копью полученного датасета для работы с простыми моделями методом copy()\n",
    "df_simple = df.copy()\n",
    "df_simple.head()"
   ]
  },
  {
   "cell_type": "code",
   "execution_count": 50,
   "id": "8e9d6b82-12c5-40ea-b622-4b8ffa235156",
   "metadata": {},
   "outputs": [],
   "source": [
    "features = df_simple.drop(columns='Price')\n",
    "target = df_simple['Price']"
   ]
  },
  {
   "cell_type": "code",
   "execution_count": 50,
   "id": "e78ad0de-df7d-48d1-aead-a2810f4a371c",
   "metadata": {},
   "outputs": [],
   "source": [
    "#Сначала отделим от датасета 60% наблюдений - это будет обучающая выборка. \n",
    "#Оставщиеся данные поделим пополам - на тестовую и валидационную выборки.\n",
    "#Таким образом мы разобьем данные в соотношении 60/20/20.\n",
    "features_train, features_valid, target_train, target_valid = train_test_split(features, target, test_size=0.4, random_state=RANDOM_STATE)\n",
    "features_valid, features_test, target_valid, target_test = train_test_split(features_valid, target_valid, test_size=0.5, random_state=RANDOM_STATE)"
   ]
  },
  {
   "cell_type": "code",
   "execution_count": 52,
   "id": "a40b4266-c7da-443e-a17d-847f2a9bca72",
   "metadata": {},
   "outputs": [],
   "source": [
    "encoder = OrdinalEncoder()\n",
    "\n",
    "encoder.fit(features_train[category_features])\n",
    "features_train[category_features] = encoder.transform(features_train[category_features])\n",
    "features_valid[category_features] = encoder.transform(features_valid[category_features])\n",
    "features_test[category_features] = encoder.transform(features_test[category_features])"
   ]
  },
  {
   "cell_type": "markdown",
   "id": "ac75c656-335c-4ab4-8c0d-5a02bcfaceb7",
   "metadata": {},
   "source": [
    "<br/>    \n",
    "<div class=\"alert alert-info\">\n",
    "<h2> Комментарий студента: <a class=\"tocSkip\"> </h2>\n",
    "\n",
    "<b>👋:</b> Сделал с Ordinal Encoder и также изменил разбиение на три части.\n",
    "</div> \n",
    "\n",
    "<br/>    "
   ]
  },
  {
   "cell_type": "markdown",
   "id": "d9d5fd5f",
   "metadata": {},
   "source": [
    "<div class=\"alert alert-success\">\n",
    "<h2> Комментарий ревьюера №2<a class=\"tocSkip\"> </h2>\n",
    "\n",
    "<b>Все отлично!👍</b> "
   ]
  },
  {
   "cell_type": "code",
   "execution_count": 53,
   "id": "264dee53-6462-46aa-b195-bdc71e1b9b3f",
   "metadata": {},
   "outputs": [
    {
     "data": {
      "text/html": [
       "<div>\n",
       "<style scoped>\n",
       "    .dataframe tbody tr th:only-of-type {\n",
       "        vertical-align: middle;\n",
       "    }\n",
       "\n",
       "    .dataframe tbody tr th {\n",
       "        vertical-align: top;\n",
       "    }\n",
       "\n",
       "    .dataframe thead th {\n",
       "        text-align: right;\n",
       "    }\n",
       "</style>\n",
       "<table border=\"1\" class=\"dataframe\">\n",
       "  <thead>\n",
       "    <tr style=\"text-align: right;\">\n",
       "      <th></th>\n",
       "      <th>RegistrationYear</th>\n",
       "      <th>Power</th>\n",
       "      <th>Kilometer</th>\n",
       "      <th>Repaired</th>\n",
       "      <th>VehicleType</th>\n",
       "      <th>Gearbox</th>\n",
       "      <th>Brand</th>\n",
       "      <th>Model</th>\n",
       "      <th>FuelType</th>\n",
       "      <th>RegistrationMonth</th>\n",
       "    </tr>\n",
       "  </thead>\n",
       "  <tbody>\n",
       "    <tr>\n",
       "      <th>259214</th>\n",
       "      <td>1.325189</td>\n",
       "      <td>0.426323</td>\n",
       "      <td>-1.048771</td>\n",
       "      <td>2.417161</td>\n",
       "      <td>4.0</td>\n",
       "      <td>1.0</td>\n",
       "      <td>1.0</td>\n",
       "      <td>177.0</td>\n",
       "      <td>0.0</td>\n",
       "      <td>6.0</td>\n",
       "    </tr>\n",
       "    <tr>\n",
       "      <th>48213</th>\n",
       "      <td>-0.470971</td>\n",
       "      <td>-0.248727</td>\n",
       "      <td>0.572870</td>\n",
       "      <td>0.914889</td>\n",
       "      <td>4.0</td>\n",
       "      <td>0.0</td>\n",
       "      <td>2.0</td>\n",
       "      <td>11.0</td>\n",
       "      <td>0.0</td>\n",
       "      <td>2.0</td>\n",
       "    </tr>\n",
       "    <tr>\n",
       "      <th>302097</th>\n",
       "      <td>-1.219370</td>\n",
       "      <td>-0.538034</td>\n",
       "      <td>0.572870</td>\n",
       "      <td>-0.587384</td>\n",
       "      <td>4.0</td>\n",
       "      <td>1.0</td>\n",
       "      <td>38.0</td>\n",
       "      <td>116.0</td>\n",
       "      <td>0.0</td>\n",
       "      <td>10.0</td>\n",
       "    </tr>\n",
       "    <tr>\n",
       "      <th>100513</th>\n",
       "      <td>-1.668410</td>\n",
       "      <td>1.159235</td>\n",
       "      <td>0.572870</td>\n",
       "      <td>-0.587384</td>\n",
       "      <td>6.0</td>\n",
       "      <td>1.0</td>\n",
       "      <td>14.0</td>\n",
       "      <td>240.0</td>\n",
       "      <td>0.0</td>\n",
       "      <td>8.0</td>\n",
       "    </tr>\n",
       "    <tr>\n",
       "      <th>146462</th>\n",
       "      <td>1.025829</td>\n",
       "      <td>-0.653757</td>\n",
       "      <td>-1.859591</td>\n",
       "      <td>-0.587384</td>\n",
       "      <td>5.0</td>\n",
       "      <td>1.0</td>\n",
       "      <td>3.0</td>\n",
       "      <td>45.0</td>\n",
       "      <td>0.0</td>\n",
       "      <td>2.0</td>\n",
       "    </tr>\n",
       "  </tbody>\n",
       "</table>\n",
       "</div>"
      ],
      "text/plain": [
       "        RegistrationYear     Power  Kilometer  Repaired  VehicleType  Gearbox  \\\n",
       "259214          1.325189  0.426323  -1.048771  2.417161          4.0      1.0   \n",
       "48213          -0.470971 -0.248727   0.572870  0.914889          4.0      0.0   \n",
       "302097         -1.219370 -0.538034   0.572870 -0.587384          4.0      1.0   \n",
       "100513         -1.668410  1.159235   0.572870 -0.587384          6.0      1.0   \n",
       "146462          1.025829 -0.653757  -1.859591 -0.587384          5.0      1.0   \n",
       "\n",
       "        Brand  Model  FuelType  RegistrationMonth  \n",
       "259214    1.0  177.0       0.0                6.0  \n",
       "48213     2.0   11.0       0.0                2.0  \n",
       "302097   38.0  116.0       0.0               10.0  \n",
       "100513   14.0  240.0       0.0                8.0  \n",
       "146462    3.0   45.0       0.0                2.0  "
      ]
     },
     "execution_count": 53,
     "metadata": {},
     "output_type": "execute_result"
    }
   ],
   "source": [
    "# Проведем скалирование числовых признаков\n",
    "scaler = StandardScaler()\n",
    "\n",
    "scaler.fit(features_train[number_features])\n",
    "features_train[number_features] = scaler.transform(features_train[number_features])\n",
    "features_valid[number_features] = scaler.transform(features_valid[number_features])\n",
    "features_test[number_features] = scaler.transform(features_test[number_features])\n",
    "\n",
    "features_train.head()"
   ]
  },
  {
   "cell_type": "code",
   "execution_count": 54,
   "id": "e060c96d-a8bc-4935-84af-3445a2e98e7d",
   "metadata": {},
   "outputs": [],
   "source": [
    "# Определим функцию для подсчета RMSE\n",
    "def rmse(target, predicted):\n",
    "    return sqrt(mse(target, predicted))"
   ]
  },
  {
   "cell_type": "code",
   "execution_count": 55,
   "id": "c81c3028-225c-47e5-983a-b555c7b14348",
   "metadata": {},
   "outputs": [],
   "source": [
    "# Чтобы не собирать вручную результаты, напишем класс, который будет сохранять время обучения, время предсказания и RMSE\n",
    "class Model_class:\n",
    "    # Конструктор принимающий на вход название модели и её тип\n",
    "    def __init__(self, name, model):\n",
    "        self.name = name\n",
    "        self.model = model\n",
    "        \n",
    "    # Метод класса по обучению модели\n",
    "    def fit(self, features, target):\n",
    "        start = time.time()    \n",
    "        self.model.fit(features, target)\n",
    "        end = time.time() - start\n",
    "        self.fitTime = end\n",
    "        \n",
    "    # Метод класса по предсказанию значений\n",
    "    def predict(self, features, target):\n",
    "        start = time.time()  \n",
    "        predicted = self.model.predict(features)\n",
    "        end = time.time() - start\n",
    "        self.predictedTime = end\n",
    "        self.rmse = rmse(target, predicted)\n",
    "        \n",
    "    # Метод класса по выводу значений затраченного времени на разных этапах + RMSE\n",
    "    def getResult(self):\n",
    "        return self.name, self.fitTime, self.predictedTime, self.rmse"
   ]
  },
  {
   "cell_type": "code",
   "execution_count": 56,
   "id": "af216cc4-56b1-4457-9737-4c92db671859",
   "metadata": {},
   "outputs": [],
   "source": [
    "# Создадим переменную, где будут храниться результаты\n",
    "results = []"
   ]
  },
  {
   "cell_type": "code",
   "execution_count": 57,
   "id": "61cc629f-65b3-4dcf-98d3-c683ca0b8240",
   "metadata": {},
   "outputs": [],
   "source": [
    "def print_result(result):\n",
    "    print('|{: >20}|{: >18}|{: >18}|{: >12}|'.format('Модель', 'Время обучения', 'Время предсказания', 'RMSE'))\n",
    "    for info in result:\n",
    "        print('|{: >20}|{: >18.5f}|{: >18.5f}|{: >12.5f}|'.format(info[0], info[1], info[2], info[3]))"
   ]
  },
  {
   "cell_type": "markdown",
   "id": "8f99dc6e-5636-4efb-bcf4-bc77e8d7c1d8",
   "metadata": {},
   "source": [
    "## Простые модели\n",
    "\n",
    "### Cлучайный лес"
   ]
  },
  {
   "cell_type": "code",
   "execution_count": 58,
   "id": "fdf1d2a7-313e-4a95-b003-7e0dae7171f9",
   "metadata": {},
   "outputs": [
    {
     "name": "stdout",
     "output_type": "stream",
     "text": [
      "CPU times: total: 50.9 s\n",
      "Wall time: 50.9 s\n"
     ]
    },
    {
     "data": {
      "text/plain": [
       "{'max_depth': 7,\n",
       " 'min_samples_leaf': 3,\n",
       " 'min_samples_split': 2,\n",
       " 'n_estimators': 10}"
      ]
     },
     "execution_count": 58,
     "metadata": {},
     "output_type": "execute_result"
    }
   ],
   "source": [
    "%%time\n",
    "\n",
    "# Попробуем обучить случайный лес\n",
    "parameters = {'n_estimators': range(5,11,5),'max_depth': range(1,8,3), 'min_samples_leaf': range(1,5,2), 'min_samples_split': range(2,6,2)}\n",
    "\n",
    "model = RandomForestRegressor()\n",
    "grid = GridSearchCV(model, parameters, cv=3, scoring='neg_mean_squared_error')\n",
    "grid.fit(features_train, target_train)\n",
    "# \n",
    "grid.best_params_"
   ]
  },
  {
   "cell_type": "markdown",
   "id": "dcf626b5-5c7d-4672-ac65-dfc5e64b0cf8",
   "metadata": {},
   "source": [
    "Полученные параметры методом grid\n",
    "{'max_depth': 7,\n",
    " 'min_samples_leaf': 1,\n",
    " 'min_samples_split': 2,\n",
    " 'n_estimators': 10}"
   ]
  },
  {
   "cell_type": "code",
   "execution_count": 59,
   "id": "ec11fa7d-fbf4-4343-9c39-5393288c69ba",
   "metadata": {},
   "outputs": [
    {
     "data": {
      "text/plain": [
       "-4401289.516169827"
      ]
     },
     "execution_count": 59,
     "metadata": {},
     "output_type": "execute_result"
    }
   ],
   "source": [
    "grid.best_score_"
   ]
  },
  {
   "cell_type": "code",
   "execution_count": 60,
   "id": "0c6faa5b-5f9c-41ea-b1d8-4f2b7e84c8cc",
   "metadata": {},
   "outputs": [],
   "source": [
    "# Задаем полученные гиперпараметры для содели случайного леса\n",
    "model_forest = RandomForestRegressor(max_depth=7, min_samples_leaf=3, min_samples_split=2, n_estimators=10, random_state=RANDOM_STATE)\n",
    "\n",
    "# Создаем объект класса Model_class\n",
    "model_forest_helper = Model_class('Random forest', model_forest)\n",
    "\n",
    "# Обучаем модель\n",
    "model_forest_helper.fit(features_train, target_train)\n",
    "\n",
    "# Делаем предсказание\n",
    "model_forest_helper.predict(features_valid, target_valid)\n",
    "\n",
    "#Заносим данные о времени работы и RMSE в переменную\n",
    "results.append(model_forest_helper.getResult())"
   ]
  },
  {
   "cell_type": "code",
   "execution_count": 61,
   "id": "dbd84ddb-82ef-407d-a17f-c96f75a88cd6",
   "metadata": {},
   "outputs": [
    {
     "name": "stdout",
     "output_type": "stream",
     "text": [
      "|              Модель|    Время обучения|Время предсказания|        RMSE|\n",
      "|       Random forest|           2.40360|           0.04884|  2103.08352|\n"
     ]
    }
   ],
   "source": [
    "print_result(results)"
   ]
  },
  {
   "cell_type": "markdown",
   "id": "1113eb74-35ff-4ee1-8de9-94ce4476245a",
   "metadata": {},
   "source": [
    "Попадание с первой попытки, мы уже выполнили поставленное условие RMSE < 2500"
   ]
  },
  {
   "cell_type": "markdown",
   "id": "af76830d-7ee4-481a-a7a8-bd931e6142ce",
   "metadata": {},
   "source": [
    "### Линейная регрессия"
   ]
  },
  {
   "cell_type": "code",
   "execution_count": 62,
   "id": "ee27f615-c4a4-4391-ba79-43a8a0e3d2b8",
   "metadata": {},
   "outputs": [],
   "source": [
    "# Попробуем линейную регрессию\n",
    "model_lr = LinearRegression()\n",
    "model_lr_helper = Model_class('Linear regression', model_lr)\n",
    "model_lr_helper.fit(features_train, target_train)\n",
    "model_lr_helper.predict(features_valid, target_valid)\n",
    "results.append(model_lr_helper.getResult())"
   ]
  },
  {
   "cell_type": "code",
   "execution_count": 63,
   "id": "c59fad71-71bb-4e77-b28d-910ec8cf9ba1",
   "metadata": {},
   "outputs": [
    {
     "name": "stdout",
     "output_type": "stream",
     "text": [
      "|              Модель|    Время обучения|Время предсказания|        RMSE|\n",
      "|       Random forest|           2.40360|           0.04884|  2103.08352|\n",
      "|   Linear regression|           0.74797|           0.02994|  2942.40826|\n"
     ]
    }
   ],
   "source": [
    "print_result(results)"
   ]
  },
  {
   "cell_type": "markdown",
   "id": "e827584e-45e4-403a-8e10-94c3dbc46b90",
   "metadata": {},
   "source": [
    "### Вывод по простым моделям\n",
    "\n",
    "Лишь одна модель из числа \"простых\" пробила желаемую отметку целевой метрики и это случайный лес. К сожалению линейной регресси не удалось получить желаемый результат.\n",
    "\n",
    "Стоит отметить, что Линейная регрессия обучается в 3 раза быстрее случайного дерева, однако ключевая метрика у неё хуже."
   ]
  },
  {
   "cell_type": "markdown",
   "id": "018ddef2-7bc5-4e5d-9bbf-2f080baba814",
   "metadata": {},
   "source": [
    "## Библиотеки градиентного бустинга"
   ]
  },
  {
   "cell_type": "markdown",
   "id": "53e4cc7e-4ab8-4366-8859-b3b40c74ed6e",
   "metadata": {},
   "source": [
    "Ниже приведена сравнительная таблица трех основных библиотек градиентного бустинга. В рамках данного проекта я буду использовать две: `CatBoost` и `LightGBM`.\n",
    "\n",
    "После прочтения пары статей, опираясь на изложенные в них материалы и данную сравнительную таблицу я пришел к выводу, что две библиотеки по разному подходят к работе с категориальными переменными. `CatBoost` использует OHE, а `LightGBM` использует специальный алгоритм, чтобы найти значение разделения категориальных признаков.\n",
    "\n",
    "Для максимально объективного сравнения двух библиотек создадим для них равные условия.\n",
    "- Заново отскалируем числовые признаки обработанного датасета\n",
    "- Для LightGBM подготовим категориальные признаки с помощью OrdinalEncoding\n",
    "- Для CatBoost категориальные признаки готовить не будем"
   ]
  },
  {
   "cell_type": "markdown",
   "id": "19ade5f5-5e1b-40cd-85fa-51da2263c200",
   "metadata": {},
   "source": [
    "![file](https://miro.medium.com/max/1400/1*z97K_Bu0oAZKDTDJiYKnyQ.png)"
   ]
  },
  {
   "cell_type": "code",
   "execution_count": 64,
   "id": "d311ca1d-705c-4524-9670-b0d12b592afd",
   "metadata": {},
   "outputs": [
    {
     "data": {
      "text/html": [
       "<div>\n",
       "<style scoped>\n",
       "    .dataframe tbody tr th:only-of-type {\n",
       "        vertical-align: middle;\n",
       "    }\n",
       "\n",
       "    .dataframe tbody tr th {\n",
       "        vertical-align: top;\n",
       "    }\n",
       "\n",
       "    .dataframe thead th {\n",
       "        text-align: right;\n",
       "    }\n",
       "</style>\n",
       "<table border=\"1\" class=\"dataframe\">\n",
       "  <thead>\n",
       "    <tr style=\"text-align: right;\">\n",
       "      <th></th>\n",
       "      <th>RegistrationYear</th>\n",
       "      <th>Power</th>\n",
       "      <th>Kilometer</th>\n",
       "      <th>Repaired</th>\n",
       "      <th>VehicleType</th>\n",
       "      <th>Gearbox</th>\n",
       "      <th>Brand</th>\n",
       "      <th>Model</th>\n",
       "      <th>FuelType</th>\n",
       "      <th>RegistrationMonth</th>\n",
       "    </tr>\n",
       "  </thead>\n",
       "  <tbody>\n",
       "    <tr>\n",
       "      <th>259214</th>\n",
       "      <td>1.325189</td>\n",
       "      <td>0.426323</td>\n",
       "      <td>-1.048771</td>\n",
       "      <td>2.417161</td>\n",
       "      <td>sedan</td>\n",
       "      <td>manual</td>\n",
       "      <td>audi</td>\n",
       "      <td>q3</td>\n",
       "      <td>0</td>\n",
       "      <td>6</td>\n",
       "    </tr>\n",
       "    <tr>\n",
       "      <th>48213</th>\n",
       "      <td>-0.470971</td>\n",
       "      <td>-0.248727</td>\n",
       "      <td>0.572870</td>\n",
       "      <td>0.914889</td>\n",
       "      <td>sedan</td>\n",
       "      <td>auto</td>\n",
       "      <td>bmw</td>\n",
       "      <td>3er</td>\n",
       "      <td>0</td>\n",
       "      <td>2</td>\n",
       "    </tr>\n",
       "    <tr>\n",
       "      <th>302097</th>\n",
       "      <td>-1.219370</td>\n",
       "      <td>-0.538034</td>\n",
       "      <td>0.572870</td>\n",
       "      <td>-0.587384</td>\n",
       "      <td>sedan</td>\n",
       "      <td>manual</td>\n",
       "      <td>volkswagen</td>\n",
       "      <td>golf</td>\n",
       "      <td>0</td>\n",
       "      <td>10</td>\n",
       "    </tr>\n",
       "    <tr>\n",
       "      <th>100513</th>\n",
       "      <td>-1.668410</td>\n",
       "      <td>1.159235</td>\n",
       "      <td>0.572870</td>\n",
       "      <td>-0.587384</td>\n",
       "      <td>suv</td>\n",
       "      <td>manual</td>\n",
       "      <td>jeep</td>\n",
       "      <td>wrangler</td>\n",
       "      <td>0</td>\n",
       "      <td>8</td>\n",
       "    </tr>\n",
       "    <tr>\n",
       "      <th>146462</th>\n",
       "      <td>1.025829</td>\n",
       "      <td>-0.653757</td>\n",
       "      <td>-1.859591</td>\n",
       "      <td>-0.587384</td>\n",
       "      <td>small</td>\n",
       "      <td>manual</td>\n",
       "      <td>chevrolet</td>\n",
       "      <td>aveo</td>\n",
       "      <td>0</td>\n",
       "      <td>2</td>\n",
       "    </tr>\n",
       "  </tbody>\n",
       "</table>\n",
       "</div>"
      ],
      "text/plain": [
       "        RegistrationYear     Power  Kilometer  Repaired VehicleType Gearbox  \\\n",
       "259214          1.325189  0.426323  -1.048771  2.417161       sedan  manual   \n",
       "48213          -0.470971 -0.248727   0.572870  0.914889       sedan    auto   \n",
       "302097         -1.219370 -0.538034   0.572870 -0.587384       sedan  manual   \n",
       "100513         -1.668410  1.159235   0.572870 -0.587384         suv  manual   \n",
       "146462          1.025829 -0.653757  -1.859591 -0.587384       small  manual   \n",
       "\n",
       "             Brand     Model  FuelType  RegistrationMonth  \n",
       "259214        audi        q3         0                  6  \n",
       "48213          bmw       3er         0                  2  \n",
       "302097  volkswagen      golf         0                 10  \n",
       "100513        jeep  wrangler         0                  8  \n",
       "146462   chevrolet      aveo         0                  2  "
      ]
     },
     "execution_count": 64,
     "metadata": {},
     "output_type": "execute_result"
    }
   ],
   "source": [
    "# Подготовим заново признаки для бустинга\n",
    "features = df.drop(columns='Price')\n",
    "target = df['Price']\n",
    "\n",
    "# Разделим нашу выборку в пропорции 75/25 (без валидационной)\n",
    "features_train, features_valid, target_train, target_valid = train_test_split(features, target, test_size=0.4, random_state=RANDOM_STATE)\n",
    "features_valid, features_test, target_valid, target_test = train_test_split(features_valid, target_valid, test_size=0.5, random_state=RANDOM_STATE)\n",
    "\n",
    "# Проведем скалирование\n",
    "scaler = StandardScaler()\n",
    "scaler.fit(features_train[number_features])\n",
    "features_train[number_features] = scaler.transform(features_train[number_features])\n",
    "features_valid[number_features] = scaler.transform(features_valid[number_features])\n",
    "features_test[number_features] = scaler.transform(features_test[number_features])\n",
    "\n",
    "features_train.head()"
   ]
  },
  {
   "cell_type": "code",
   "execution_count": 65,
   "id": "8ec6ac0a-841c-405c-9413-970003eb0b34",
   "metadata": {},
   "outputs": [
    {
     "data": {
      "text/html": [
       "<div>\n",
       "<style scoped>\n",
       "    .dataframe tbody tr th:only-of-type {\n",
       "        vertical-align: middle;\n",
       "    }\n",
       "\n",
       "    .dataframe tbody tr th {\n",
       "        vertical-align: top;\n",
       "    }\n",
       "\n",
       "    .dataframe thead th {\n",
       "        text-align: right;\n",
       "    }\n",
       "</style>\n",
       "<table border=\"1\" class=\"dataframe\">\n",
       "  <thead>\n",
       "    <tr style=\"text-align: right;\">\n",
       "      <th></th>\n",
       "      <th>RegistrationYear</th>\n",
       "      <th>Power</th>\n",
       "      <th>Kilometer</th>\n",
       "      <th>Repaired</th>\n",
       "      <th>VehicleType</th>\n",
       "      <th>Gearbox</th>\n",
       "      <th>Brand</th>\n",
       "      <th>Model</th>\n",
       "      <th>FuelType</th>\n",
       "      <th>RegistrationMonth</th>\n",
       "    </tr>\n",
       "  </thead>\n",
       "  <tbody>\n",
       "    <tr>\n",
       "      <th>259214</th>\n",
       "      <td>1.325189</td>\n",
       "      <td>0.426323</td>\n",
       "      <td>-1.048771</td>\n",
       "      <td>2.417161</td>\n",
       "      <td>4.0</td>\n",
       "      <td>1.0</td>\n",
       "      <td>1.0</td>\n",
       "      <td>177.0</td>\n",
       "      <td>0</td>\n",
       "      <td>6</td>\n",
       "    </tr>\n",
       "    <tr>\n",
       "      <th>48213</th>\n",
       "      <td>-0.470971</td>\n",
       "      <td>-0.248727</td>\n",
       "      <td>0.572870</td>\n",
       "      <td>0.914889</td>\n",
       "      <td>4.0</td>\n",
       "      <td>0.0</td>\n",
       "      <td>2.0</td>\n",
       "      <td>11.0</td>\n",
       "      <td>0</td>\n",
       "      <td>2</td>\n",
       "    </tr>\n",
       "    <tr>\n",
       "      <th>302097</th>\n",
       "      <td>-1.219370</td>\n",
       "      <td>-0.538034</td>\n",
       "      <td>0.572870</td>\n",
       "      <td>-0.587384</td>\n",
       "      <td>4.0</td>\n",
       "      <td>1.0</td>\n",
       "      <td>38.0</td>\n",
       "      <td>116.0</td>\n",
       "      <td>0</td>\n",
       "      <td>10</td>\n",
       "    </tr>\n",
       "    <tr>\n",
       "      <th>100513</th>\n",
       "      <td>-1.668410</td>\n",
       "      <td>1.159235</td>\n",
       "      <td>0.572870</td>\n",
       "      <td>-0.587384</td>\n",
       "      <td>6.0</td>\n",
       "      <td>1.0</td>\n",
       "      <td>14.0</td>\n",
       "      <td>240.0</td>\n",
       "      <td>0</td>\n",
       "      <td>8</td>\n",
       "    </tr>\n",
       "    <tr>\n",
       "      <th>146462</th>\n",
       "      <td>1.025829</td>\n",
       "      <td>-0.653757</td>\n",
       "      <td>-1.859591</td>\n",
       "      <td>-0.587384</td>\n",
       "      <td>5.0</td>\n",
       "      <td>1.0</td>\n",
       "      <td>3.0</td>\n",
       "      <td>45.0</td>\n",
       "      <td>0</td>\n",
       "      <td>2</td>\n",
       "    </tr>\n",
       "  </tbody>\n",
       "</table>\n",
       "</div>"
      ],
      "text/plain": [
       "        RegistrationYear     Power  Kilometer  Repaired  VehicleType  Gearbox  \\\n",
       "259214          1.325189  0.426323  -1.048771  2.417161          4.0      1.0   \n",
       "48213          -0.470971 -0.248727   0.572870  0.914889          4.0      0.0   \n",
       "302097         -1.219370 -0.538034   0.572870 -0.587384          4.0      1.0   \n",
       "100513         -1.668410  1.159235   0.572870 -0.587384          6.0      1.0   \n",
       "146462          1.025829 -0.653757  -1.859591 -0.587384          5.0      1.0   \n",
       "\n",
       "        Brand  Model  FuelType  RegistrationMonth  \n",
       "259214    1.0  177.0         0                  6  \n",
       "48213     2.0   11.0         0                  2  \n",
       "302097   38.0  116.0         0                 10  \n",
       "100513   14.0  240.0         0                  8  \n",
       "146462    3.0   45.0         0                  2  "
      ]
     },
     "execution_count": 65,
     "metadata": {},
     "output_type": "execute_result"
    }
   ],
   "source": [
    "# Для LGBM дополнительно обработаем категориальные признаки\n",
    "features_train_lgbm = features_train.copy()\n",
    "features_valid_lgbm = features_valid.copy()\n",
    "features_test_lgbm = features_test.copy()\n",
    "\n",
    "# Месяц регистрации и тип двигателя преобразовывать не нужно они были обработаны вручную\n",
    "category_features_lgbm = ['VehicleType', 'Gearbox', 'Brand', 'Model']\n",
    "\n",
    "encoder = OrdinalEncoder()\n",
    "encoder.fit(features_train_lgbm[category_features_lgbm])\n",
    "features_train_lgbm[category_features_lgbm] = encoder.transform(features_train_lgbm[category_features_lgbm])\n",
    "features_valid_lgbm[category_features_lgbm] = encoder.transform(features_valid_lgbm[category_features_lgbm])\n",
    "features_test_lgbm[category_features_lgbm] = encoder.transform(features_test_lgbm[category_features_lgbm])\n",
    "\n",
    "features_train_lgbm.head()"
   ]
  },
  {
   "cell_type": "markdown",
   "id": "ead7facb-6796-4f66-85c9-7633120db7eb",
   "metadata": {},
   "source": [
    "### LightGBM"
   ]
  },
  {
   "cell_type": "code",
   "execution_count": 66,
   "id": "c94101a2-e5aa-4517-a0e1-9f75ac7703e2",
   "metadata": {},
   "outputs": [
    {
     "name": "stdout",
     "output_type": "stream",
     "text": [
      "CPU times: total: 2min 15s\n",
      "Wall time: 36.9 s\n"
     ]
    },
    {
     "data": {
      "text/plain": [
       "{'learning_rate': 0.1778279410038923, 'n_estimators': 60, 'num_leaves': 40}"
      ]
     },
     "execution_count": 66,
     "metadata": {},
     "output_type": "execute_result"
    }
   ],
   "source": [
    "%%time\n",
    "\n",
    "lgbm = LGBMRegressor(boosting_type='gbdt', verbose=0, seed=RANDOM_STATE, force_row_wise = True)\n",
    "lgbm_params = {'learning_rate': np.logspace(-3, 0, 5), 'n_estimators': range(20, 61, 20), 'num_leaves': range(20, 41, 10)}\n",
    "\n",
    "grid_lgbm = GridSearchCV(lgbm, lgbm_params, cv=3, scoring='neg_mean_squared_error')\n",
    "grid_lgbm.fit(features_train_lgbm, target_train);\n",
    "\n",
    "grid_lgbm.best_params_"
   ]
  },
  {
   "cell_type": "markdown",
   "id": "57d76448-6d7a-41b0-9e02-f8e2c861082a",
   "metadata": {},
   "source": [
    "'learning_rate': 0.1778279410038923, 'n_estimators': 60, 'num_leaves': 40"
   ]
  },
  {
   "cell_type": "code",
   "execution_count": 68,
   "id": "f2a8b3fb-45fe-407e-a15f-d92d5bbf4d2d",
   "metadata": {},
   "outputs": [],
   "source": [
    "# Посмотрим, что получилось в итоге\n",
    "model_lgbm = grid_lgbm.best_estimator_\n",
    "model_lgbm_helper = Model_class('LightGBM', model_lgbm)\n",
    "model_lgbm_helper.fit(features_train_lgbm, target_train)\n",
    "model_lgbm_helper.predict(features_valid_lgbm, target_valid)\n",
    "results.append(model_lgbm_helper.getResult())"
   ]
  },
  {
   "cell_type": "code",
   "execution_count": 69,
   "id": "472923aa-8f61-452e-abd4-19ed77115d8b",
   "metadata": {},
   "outputs": [
    {
     "name": "stdout",
     "output_type": "stream",
     "text": [
      "|              Модель|    Время обучения|Время предсказания|        RMSE|\n",
      "|       Random forest|           2.40360|           0.04884|  2103.08352|\n",
      "|   Linear regression|           0.74797|           0.02994|  2942.40826|\n",
      "|            LightGBM|           0.46077|           0.09076|  1677.27855|\n"
     ]
    }
   ],
   "source": [
    "print_result(results)"
   ]
  },
  {
   "cell_type": "markdown",
   "id": "9b067c02-4b37-4d0f-ae21-de1f2117e7ca",
   "metadata": {},
   "source": [
    "### CatBoost"
   ]
  },
  {
   "cell_type": "code",
   "execution_count": 70,
   "id": "9a326cb4-1577-4a85-b97e-f4d43ee11b68",
   "metadata": {},
   "outputs": [
    {
     "name": "stdout",
     "output_type": "stream",
     "text": [
      "CPU times: total: 7min\n",
      "Wall time: 3min 34s\n"
     ]
    },
    {
     "data": {
      "text/plain": [
       "{'depth': 9, 'iterations': 40, 'learning_rate': 1.0}"
      ]
     },
     "execution_count": 70,
     "metadata": {},
     "output_type": "execute_result"
    }
   ],
   "source": [
    "%%time\n",
    "\n",
    "cbr = CatBoostRegressor(loss_function='RMSE',silent=True, cat_features=category_features, random_seed=RANDOM_STATE)\n",
    "cbr_params = {'learning_rate': np.logspace(-3, 0, 5),'iterations': range(20, 60, 20),'depth': range(5,10,2)}\n",
    "\n",
    "grid_cbr = GridSearchCV(cbr, cbr_params, cv=3, scoring='neg_mean_squared_error')\n",
    "grid_cbr.fit(features_train, target_train);\n",
    "\n",
    "grid_cbr.best_params_"
   ]
  },
  {
   "cell_type": "code",
   "execution_count": 71,
   "id": "1f90190d-ff73-45fd-a7a1-4d2948cd385d",
   "metadata": {},
   "outputs": [],
   "source": [
    "# Посмотрим, что получилось в итоге\n",
    "model_cbr = grid_cbr.best_estimator_\n",
    "model_cbr_helper = Model_class('CatBoost', model_cbr)\n",
    "model_cbr_helper.fit(features_train, target_train)\n",
    "model_cbr_helper.predict(features_valid, target_valid)\n",
    "results.append(model_cbr_helper.getResult())"
   ]
  },
  {
   "cell_type": "code",
   "execution_count": 72,
   "id": "8c99bbfe-b2a5-4c5a-a03c-d17eef04e817",
   "metadata": {},
   "outputs": [
    {
     "name": "stdout",
     "output_type": "stream",
     "text": [
      "|              Модель|    Время обучения|Время предсказания|        RMSE|\n",
      "|       Random forest|           2.40360|           0.04884|  2103.08352|\n",
      "|   Linear regression|           0.74797|           0.02994|  2942.40826|\n",
      "|            LightGBM|           0.46077|           0.09076|  1677.27855|\n",
      "|            CatBoost|           4.02015|           0.18553|  1679.64463|\n"
     ]
    }
   ],
   "source": [
    "print_result(results)"
   ]
  },
  {
   "cell_type": "markdown",
   "id": "469b2ab5-02af-40b7-b046-e5e08eae2d1b",
   "metadata": {},
   "source": [
    "## Вывод по обучению моделей\n",
    "Безоговочным лидером является модель `LightGBM` она показала наилучший результат целевой метрики, а также быстрее всех обучилась, затратив на предсказание сравнимое с остальными время. Проведем тест именно для неё!"
   ]
  },
  {
   "cell_type": "markdown",
   "id": "5f1f3811-706c-48d8-974a-92854e391e6e",
   "metadata": {},
   "source": [
    "# Анализ моделей"
   ]
  },
  {
   "cell_type": "code",
   "execution_count": 74,
   "id": "42a641ba-aee0-4036-be5d-ccb592027dc8",
   "metadata": {},
   "outputs": [],
   "source": [
    "#очистим список результатов\n",
    "results = []\n",
    "\n",
    "model_lgbm_helper.predict(features_test_lgbm, target_test)\n",
    "\n",
    "results.append(model_lgbm_helper.getResult())"
   ]
  },
  {
   "cell_type": "code",
   "execution_count": 75,
   "id": "566335de-4d83-4d49-a87b-4c3395968d53",
   "metadata": {},
   "outputs": [
    {
     "name": "stdout",
     "output_type": "stream",
     "text": [
      "|              Модель|    Время обучения|Время предсказания|        RMSE|\n",
      "|            LightGBM|           0.46077|           0.18750|  1693.27717|\n"
     ]
    }
   ],
   "source": [
    "print_result(results)"
   ]
  },
  {
   "cell_type": "markdown",
   "id": "71ad0307-9480-4f7f-a36c-90e1bd1afdf6",
   "metadata": {},
   "source": [
    "# Общий вывод\n",
    "\n",
    "Время подводить итоги проделанной работы:\\\n",
    "В рамках подготовки данных мы:\n",
    "- Избавились от ненужных признаков\n",
    "- Разобрались с выбросами\n",
    "- Разобрались с пропусками\n",
    "- Довели до идеала некоторые категориальные признаки, требующие доработки\n",
    "\n",
    "В рамках Обучения моделей мы:\n",
    "- Разбили наш дата сет на три выборки\n",
    "- Отдельно обучили и протестировали простые модели (случайное дерево и линейная регрессия)\n",
    "- Сравнили имеющиеся на данных момент библиотеки градиентого бустинга\n",
    "- Обучили и оценили две модели градиентого бустинга\n",
    "- Выбрали самую успешную модель `LightGBM`\n",
    "\n",
    "Финалом данного проекта стала проверка лучшей модели `LightGBM` на тестовой выборке. Наша модель показала превосходные результаты:\n",
    "\n",
    "Время обучения - 0.46077\\\n",
    "Время предсказания - 0.18750\\\n",
    "RMSE - 1693.27717\n",
    "       \n",
    "Данная модель отвечает всем требованиям* заказчика!\n",
    "\n",
    "*Требования заказчика:\n",
    "- качество предсказания RMSE < 2500;\n",
    "- минимальное время обучения модели;\n",
    "- минимальное время предсказания модели.\n"
   ]
  }
 ],
 "metadata": {
  "ExecuteTimeLog": [
   {
    "duration": 2881,
    "start_time": "2022-12-14T12:31:55.796Z"
   },
   {
    "duration": 1780,
    "start_time": "2022-12-14T12:31:58.679Z"
   },
   {
    "duration": 18,
    "start_time": "2022-12-14T12:32:00.461Z"
   },
   {
    "duration": 161,
    "start_time": "2022-12-14T12:32:00.497Z"
   },
   {
    "duration": 112,
    "start_time": "2022-12-14T12:32:00.660Z"
   },
   {
    "duration": 95,
    "start_time": "2022-12-14T12:32:00.774Z"
   },
   {
    "duration": 553,
    "start_time": "2022-12-14T12:32:00.871Z"
   },
   {
    "duration": 278,
    "start_time": "2022-12-14T12:32:01.426Z"
   },
   {
    "duration": 41,
    "start_time": "2022-12-14T12:32:01.710Z"
   },
   {
    "duration": 256,
    "start_time": "2022-12-14T12:32:01.753Z"
   },
   {
    "duration": 14,
    "start_time": "2022-12-14T12:32:02.011Z"
   },
   {
    "duration": 85,
    "start_time": "2022-12-14T12:32:02.026Z"
   },
   {
    "duration": 50,
    "start_time": "2022-12-14T12:32:02.114Z"
   },
   {
    "duration": 53,
    "start_time": "2022-12-14T12:32:02.166Z"
   },
   {
    "duration": 42,
    "start_time": "2022-12-14T12:32:02.222Z"
   },
   {
    "duration": 426521,
    "start_time": "2022-12-14T12:32:02.266Z"
   },
   {
    "duration": 14,
    "start_time": "2022-12-14T12:39:08.789Z"
   },
   {
    "duration": 34,
    "start_time": "2022-12-14T12:39:08.804Z"
   },
   {
    "duration": 7,
    "start_time": "2022-12-14T12:39:08.839Z"
   },
   {
    "duration": 174,
    "start_time": "2022-12-14T12:39:08.848Z"
   },
   {
    "duration": 30,
    "start_time": "2022-12-14T12:39:09.024Z"
   },
   {
    "duration": 165,
    "start_time": "2022-12-14T12:39:09.055Z"
   },
   {
    "duration": 179,
    "start_time": "2022-12-14T12:39:09.222Z"
   },
   {
    "duration": 11,
    "start_time": "2022-12-14T12:39:09.403Z"
   },
   {
    "duration": 4,
    "start_time": "2022-12-14T12:39:09.415Z"
   },
   {
    "duration": 22,
    "start_time": "2022-12-14T12:39:09.421Z"
   },
   {
    "duration": 8,
    "start_time": "2022-12-14T12:39:09.444Z"
   },
   {
    "duration": 183053,
    "start_time": "2022-12-14T12:39:09.455Z"
   },
   {
    "duration": 6,
    "start_time": "2022-12-14T12:42:12.510Z"
   },
   {
    "duration": 32,
    "start_time": "2022-12-14T12:42:12.518Z"
   },
   {
    "duration": 47,
    "start_time": "2022-12-14T12:42:12.552Z"
   },
   {
    "duration": 21,
    "start_time": "2022-12-14T12:42:12.600Z"
   },
   {
    "duration": 23,
    "start_time": "2022-12-14T12:42:12.623Z"
   },
   {
    "duration": 3,
    "start_time": "2022-12-14T12:42:12.648Z"
   },
   {
    "duration": 118,
    "start_time": "2022-12-14T12:42:12.653Z"
   },
   {
    "duration": 38,
    "start_time": "2022-12-14T12:42:12.772Z"
   },
   {
    "duration": 23,
    "start_time": "2022-12-14T12:42:12.811Z"
   },
   {
    "duration": 79,
    "start_time": "2022-12-14T12:42:12.835Z"
   },
   {
    "duration": 94,
    "start_time": "2022-12-14T12:42:12.916Z"
   },
   {
    "duration": 2,
    "start_time": "2022-12-14T12:42:13.012Z"
   },
   {
    "duration": 11,
    "start_time": "2022-12-14T12:42:13.015Z"
   },
   {
    "duration": 8,
    "start_time": "2022-12-14T12:42:13.028Z"
   },
   {
    "duration": 27,
    "start_time": "2022-12-14T12:42:13.038Z"
   },
   {
    "duration": 36,
    "start_time": "2022-12-14T12:42:13.067Z"
   },
   {
    "duration": 17,
    "start_time": "2022-12-14T12:42:13.105Z"
   },
   {
    "duration": 865,
    "start_time": "2022-12-14T12:42:13.124Z"
   },
   {
    "duration": 400,
    "start_time": "2022-12-14T12:42:13.998Z"
   },
   {
    "duration": 425,
    "start_time": "2022-12-14T12:42:14.400Z"
   },
   {
    "duration": 6,
    "start_time": "2022-12-14T12:42:14.829Z"
   },
   {
    "duration": 15,
    "start_time": "2022-12-14T12:42:14.837Z"
   },
   {
    "duration": 27,
    "start_time": "2022-12-14T12:42:14.855Z"
   },
   {
    "duration": 17,
    "start_time": "2022-12-14T12:42:14.884Z"
   },
   {
    "duration": 16,
    "start_time": "2022-12-14T12:42:14.904Z"
   },
   {
    "duration": 12808,
    "start_time": "2022-12-14T12:42:14.922Z"
   },
   {
    "duration": 3,
    "start_time": "2022-12-14T12:42:27.732Z"
   },
   {
    "duration": 46467,
    "start_time": "2022-12-14T12:42:27.737Z"
   },
   {
    "duration": 4,
    "start_time": "2022-12-14T12:43:14.298Z"
   },
   {
    "duration": 442,
    "start_time": "2022-12-14T12:43:14.305Z"
   },
   {
    "duration": 823,
    "start_time": "2022-12-14T12:43:14.749Z"
   },
   {
    "duration": 933833,
    "start_time": "2022-12-14T12:43:15.574Z"
   },
   {
    "duration": 3995,
    "start_time": "2022-12-14T12:58:49.409Z"
   },
   {
    "duration": 3,
    "start_time": "2022-12-14T12:58:53.406Z"
   },
   {
    "duration": 281057,
    "start_time": "2022-12-14T12:58:53.410Z"
   },
   {
    "duration": 6749,
    "start_time": "2022-12-14T13:03:34.468Z"
   },
   {
    "duration": 4,
    "start_time": "2022-12-14T13:03:41.219Z"
   }
  ],
  "kernelspec": {
   "display_name": "Python 3 (ipykernel)",
   "language": "python",
   "name": "python3"
  },
  "language_info": {
   "codemirror_mode": {
    "name": "ipython",
    "version": 3
   },
   "file_extension": ".py",
   "mimetype": "text/x-python",
   "name": "python",
   "nbconvert_exporter": "python",
   "pygments_lexer": "ipython3",
   "version": "3.9.12"
  },
  "toc": {
   "base_numbering": 1,
   "nav_menu": {},
   "number_sections": true,
   "sideBar": true,
   "skip_h1_title": true,
   "title_cell": "Table of Contents",
   "title_sidebar": "Contents",
   "toc_cell": false,
   "toc_position": {},
   "toc_section_display": true,
   "toc_window_display": false
  }
 },
 "nbformat": 4,
 "nbformat_minor": 5
}
