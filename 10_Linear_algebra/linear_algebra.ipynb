{
 "cells": [
  {
   "cell_type": "markdown",
   "id": "c1eafcd7-324c-4b25-857f-0c2c5308ea8f",
   "metadata": {},
   "source": [
    "# Защита персональных данных клиентов"
   ]
  },
  {
   "cell_type": "markdown",
   "id": "af815e5f-48d9-46f7-a89c-c4aa18a2847f",
   "metadata": {},
   "source": [
    "Вам нужно защитить данные клиентов страховой компании «Хоть потоп». Разработайте такой метод преобразования данных, чтобы по ним было сложно восстановить персональную информацию. Обоснуйте корректность его работы.\n",
    "\n",
    "Нужно защитить данные, чтобы при преобразовании качество моделей машинного обучения не ухудшилось. Подбирать наилучшую модель не требуется."
   ]
  },
  {
   "cell_type": "markdown",
   "id": "053efe7c-5e3d-4cbd-8dd6-1e72782f5e90",
   "metadata": {},
   "source": [
    "# Оглавление\n",
    "1. Загрузка данных\n",
    "2. Умножение матриц\n",
    "3. Алгоритм преобразования"
   ]
  },
  {
   "cell_type": "code",
   "execution_count": 1,
   "id": "af7bf5fd-f649-4631-9c55-1678b386e139",
   "metadata": {},
   "outputs": [],
   "source": [
    "import numpy as np\n",
    "import pandas as pd\n",
    "import seaborn as sns\n",
    "import matplotlib.pyplot as plt\n",
    "\n",
    "from sklearn.metrics import r2_score\n",
    "from sklearn.linear_model import LinearRegression\n",
    "from sklearn.base import BaseEstimator, TransformerMixin"
   ]
  },
  {
   "cell_type": "markdown",
   "id": "654b9984-a930-4541-ad60-d200a3305180",
   "metadata": {},
   "source": [
    "## Загрузка данных"
   ]
  },
  {
   "cell_type": "code",
   "execution_count": 2,
   "id": "195e9afa-0e73-4c5e-9053-cf4ba822f0ce",
   "metadata": {},
   "outputs": [],
   "source": [
    "try:\n",
    "    data = pd.read_csv('insurance.csv')\n",
    "except FileNotFoundError:\n",
    "    data = pd.read_csv('https://code.s3.yandex.net/datasets/insurance.csv')"
   ]
  },
  {
   "cell_type": "code",
   "execution_count": 3,
   "id": "fbf305c1-3f5d-4bfa-91ef-198c40097bbf",
   "metadata": {},
   "outputs": [
    {
     "data": {
      "text/html": [
       "<div>\n",
       "<style scoped>\n",
       "    .dataframe tbody tr th:only-of-type {\n",
       "        vertical-align: middle;\n",
       "    }\n",
       "\n",
       "    .dataframe tbody tr th {\n",
       "        vertical-align: top;\n",
       "    }\n",
       "\n",
       "    .dataframe thead th {\n",
       "        text-align: right;\n",
       "    }\n",
       "</style>\n",
       "<table border=\"1\" class=\"dataframe\">\n",
       "  <thead>\n",
       "    <tr style=\"text-align: right;\">\n",
       "      <th></th>\n",
       "      <th>Пол</th>\n",
       "      <th>Возраст</th>\n",
       "      <th>Зарплата</th>\n",
       "      <th>Члены семьи</th>\n",
       "      <th>Страховые выплаты</th>\n",
       "    </tr>\n",
       "  </thead>\n",
       "  <tbody>\n",
       "    <tr>\n",
       "      <th>0</th>\n",
       "      <td>1</td>\n",
       "      <td>41.0</td>\n",
       "      <td>49600.0</td>\n",
       "      <td>1</td>\n",
       "      <td>0</td>\n",
       "    </tr>\n",
       "    <tr>\n",
       "      <th>1</th>\n",
       "      <td>0</td>\n",
       "      <td>46.0</td>\n",
       "      <td>38000.0</td>\n",
       "      <td>1</td>\n",
       "      <td>1</td>\n",
       "    </tr>\n",
       "    <tr>\n",
       "      <th>2</th>\n",
       "      <td>0</td>\n",
       "      <td>29.0</td>\n",
       "      <td>21000.0</td>\n",
       "      <td>0</td>\n",
       "      <td>0</td>\n",
       "    </tr>\n",
       "    <tr>\n",
       "      <th>3</th>\n",
       "      <td>0</td>\n",
       "      <td>21.0</td>\n",
       "      <td>41700.0</td>\n",
       "      <td>2</td>\n",
       "      <td>0</td>\n",
       "    </tr>\n",
       "    <tr>\n",
       "      <th>4</th>\n",
       "      <td>1</td>\n",
       "      <td>28.0</td>\n",
       "      <td>26100.0</td>\n",
       "      <td>0</td>\n",
       "      <td>0</td>\n",
       "    </tr>\n",
       "  </tbody>\n",
       "</table>\n",
       "</div>"
      ],
      "text/plain": [
       "   Пол  Возраст  Зарплата  Члены семьи  Страховые выплаты\n",
       "0    1     41.0   49600.0            1                  0\n",
       "1    0     46.0   38000.0            1                  1\n",
       "2    0     29.0   21000.0            0                  0\n",
       "3    0     21.0   41700.0            2                  0\n",
       "4    1     28.0   26100.0            0                  0"
      ]
     },
     "execution_count": 3,
     "metadata": {},
     "output_type": "execute_result"
    }
   ],
   "source": [
    "data.head()"
   ]
  },
  {
   "cell_type": "code",
   "execution_count": 4,
   "id": "b9ea0f64-e543-42e6-bb75-69649e00cf34",
   "metadata": {},
   "outputs": [
    {
     "name": "stdout",
     "output_type": "stream",
     "text": [
      "<class 'pandas.core.frame.DataFrame'>\n",
      "RangeIndex: 5000 entries, 0 to 4999\n",
      "Data columns (total 5 columns):\n",
      " #   Column             Non-Null Count  Dtype  \n",
      "---  ------             --------------  -----  \n",
      " 0   Пол                5000 non-null   int64  \n",
      " 1   Возраст            5000 non-null   float64\n",
      " 2   Зарплата           5000 non-null   float64\n",
      " 3   Члены семьи        5000 non-null   int64  \n",
      " 4   Страховые выплаты  5000 non-null   int64  \n",
      "dtypes: float64(2), int64(3)\n",
      "memory usage: 195.4 KB\n"
     ]
    }
   ],
   "source": [
    "data.info()"
   ]
  },
  {
   "cell_type": "code",
   "execution_count": 5,
   "id": "e874dd41-4265-48dd-9966-93edd1a61fba",
   "metadata": {},
   "outputs": [
    {
     "data": {
      "text/html": [
       "<div>\n",
       "<style scoped>\n",
       "    .dataframe tbody tr th:only-of-type {\n",
       "        vertical-align: middle;\n",
       "    }\n",
       "\n",
       "    .dataframe tbody tr th {\n",
       "        vertical-align: top;\n",
       "    }\n",
       "\n",
       "    .dataframe thead th {\n",
       "        text-align: right;\n",
       "    }\n",
       "</style>\n",
       "<table border=\"1\" class=\"dataframe\">\n",
       "  <thead>\n",
       "    <tr style=\"text-align: right;\">\n",
       "      <th></th>\n",
       "      <th>Пол</th>\n",
       "      <th>Возраст</th>\n",
       "      <th>Зарплата</th>\n",
       "      <th>Члены семьи</th>\n",
       "      <th>Страховые выплаты</th>\n",
       "    </tr>\n",
       "  </thead>\n",
       "  <tbody>\n",
       "    <tr>\n",
       "      <th>count</th>\n",
       "      <td>5000.000000</td>\n",
       "      <td>5000.000000</td>\n",
       "      <td>5000.000000</td>\n",
       "      <td>5000.000000</td>\n",
       "      <td>5000.000000</td>\n",
       "    </tr>\n",
       "    <tr>\n",
       "      <th>mean</th>\n",
       "      <td>0.499000</td>\n",
       "      <td>30.952800</td>\n",
       "      <td>39916.360000</td>\n",
       "      <td>1.194200</td>\n",
       "      <td>0.148000</td>\n",
       "    </tr>\n",
       "    <tr>\n",
       "      <th>std</th>\n",
       "      <td>0.500049</td>\n",
       "      <td>8.440807</td>\n",
       "      <td>9900.083569</td>\n",
       "      <td>1.091387</td>\n",
       "      <td>0.463183</td>\n",
       "    </tr>\n",
       "    <tr>\n",
       "      <th>min</th>\n",
       "      <td>0.000000</td>\n",
       "      <td>18.000000</td>\n",
       "      <td>5300.000000</td>\n",
       "      <td>0.000000</td>\n",
       "      <td>0.000000</td>\n",
       "    </tr>\n",
       "    <tr>\n",
       "      <th>25%</th>\n",
       "      <td>0.000000</td>\n",
       "      <td>24.000000</td>\n",
       "      <td>33300.000000</td>\n",
       "      <td>0.000000</td>\n",
       "      <td>0.000000</td>\n",
       "    </tr>\n",
       "    <tr>\n",
       "      <th>50%</th>\n",
       "      <td>0.000000</td>\n",
       "      <td>30.000000</td>\n",
       "      <td>40200.000000</td>\n",
       "      <td>1.000000</td>\n",
       "      <td>0.000000</td>\n",
       "    </tr>\n",
       "    <tr>\n",
       "      <th>75%</th>\n",
       "      <td>1.000000</td>\n",
       "      <td>37.000000</td>\n",
       "      <td>46600.000000</td>\n",
       "      <td>2.000000</td>\n",
       "      <td>0.000000</td>\n",
       "    </tr>\n",
       "    <tr>\n",
       "      <th>max</th>\n",
       "      <td>1.000000</td>\n",
       "      <td>65.000000</td>\n",
       "      <td>79000.000000</td>\n",
       "      <td>6.000000</td>\n",
       "      <td>5.000000</td>\n",
       "    </tr>\n",
       "  </tbody>\n",
       "</table>\n",
       "</div>"
      ],
      "text/plain": [
       "               Пол      Возраст      Зарплата  Члены семьи  Страховые выплаты\n",
       "count  5000.000000  5000.000000   5000.000000  5000.000000        5000.000000\n",
       "mean      0.499000    30.952800  39916.360000     1.194200           0.148000\n",
       "std       0.500049     8.440807   9900.083569     1.091387           0.463183\n",
       "min       0.000000    18.000000   5300.000000     0.000000           0.000000\n",
       "25%       0.000000    24.000000  33300.000000     0.000000           0.000000\n",
       "50%       0.000000    30.000000  40200.000000     1.000000           0.000000\n",
       "75%       1.000000    37.000000  46600.000000     2.000000           0.000000\n",
       "max       1.000000    65.000000  79000.000000     6.000000           5.000000"
      ]
     },
     "execution_count": 5,
     "metadata": {},
     "output_type": "execute_result"
    }
   ],
   "source": [
    "data.describe()"
   ]
  },
  {
   "cell_type": "code",
   "execution_count": 6,
   "id": "98f732cb-51f6-4b9e-9373-ad443a73700b",
   "metadata": {},
   "outputs": [
    {
     "data": {
      "image/png": "[encoded data removed]",
      "text/plain": [
       "<Figure size 1000x1000 with 2 Axes>"
      ]
     },
     "metadata": {},
     "output_type": "display_data"
    }
   ],
   "source": [
    "fig, ax = plt.subplots(figsize=(10,10))\n",
    "sns.heatmap(data.corr(), annot=True, square=True, vmin=-1, vmax=1, center=0, ax=ax);"
   ]
  },
  {
   "cell_type": "code",
   "execution_count": 7,
   "id": "ce01d165-0cff-4a94-ac76-d0079ac7e432",
   "metadata": {},
   "outputs": [],
   "source": [
    "data = data.drop_duplicates()"
   ]
  },
  {
   "cell_type": "markdown",
   "id": "b88ef02b-29a0-4bcd-b42a-6daccc587727",
   "metadata": {},
   "source": [
    "# Умножение матриц"
   ]
  },
  {
   "cell_type": "markdown",
   "id": "7340278d-dc7e-47a7-a34f-138e4fa378d0",
   "metadata": {},
   "source": [
    "## Ответьте на вопрос и обоснуйте решение.\n",
    "Признаки умножают на обратимую матрицу. Изменится ли качество линейной регрессии? (Её можно обучить заново.)\n",
    "- Изменится. Приведите примеры матриц.\n",
    "- Не изменится. Укажите, как связаны параметры линейной регрессии в исходной задаче и в преобразованной.\n",
    "\n",
    "Для ответа необходимо доказать (или опровергнуть), что предсказания  𝑎  на исходных признаках будут равны  𝑎2  вычесленному с учетом умножения признаков на заведомо обратимую матрицу"
   ]
  },
  {
   "cell_type": "code",
   "execution_count": 8,
   "id": "0cab4fd4-9d4c-4a03-b977-741bdcb99612",
   "metadata": {},
   "outputs": [],
   "source": [
    "# В рамках задачи считаем, что дополнительная обработка данных нам не нужна\n",
    "# Разобьем наши данные на признаки и целевой показатель\n",
    "features = data.drop(columns='Страховые выплаты')\n",
    "target = data['Страховые выплаты']"
   ]
  },
  {
   "cell_type": "code",
   "execution_count": 9,
   "id": "51c864d6-13cc-4629-b07a-534a1415ec85",
   "metadata": {},
   "outputs": [
    {
     "data": {
      "text/plain": [
       "(4847, 4)"
      ]
     },
     "execution_count": 9,
     "metadata": {},
     "output_type": "execute_result"
    }
   ],
   "source": [
    "features.shape"
   ]
  },
  {
   "cell_type": "code",
   "execution_count": 10,
   "id": "09d650e8-0f42-42c3-b1c4-cd15eaa43d5b",
   "metadata": {},
   "outputs": [
    {
     "data": {
      "text/plain": [
       "(4847,)"
      ]
     },
     "execution_count": 10,
     "metadata": {},
     "output_type": "execute_result"
    }
   ],
   "source": [
    "target.shape"
   ]
  },
  {
   "cell_type": "markdown",
   "id": "98418221-f058-4d8c-a46a-7b40e8509e23",
   "metadata": {},
   "source": [
    "Предсказания:\n",
    "\n",
    "$$\\hat{y} = Xw$$\n",
    "\n",
    "Задача обучения:\n",
    "\n",
    "$$w = \\arg\\min_w MSE(Xw, y)$$\n",
    "\n",
    "Формула обучения:\n",
    "\n",
    "$$w = (X^T X)^{-1} X^T y$$"
   ]
  },
  {
   "cell_type": "markdown",
   "id": "21762373-7c58-47b3-ab59-0061c9863d70",
   "metadata": {},
   "source": [
    "**Обозначения:**\n",
    "\n",
    "- $X$ — матрица признаков (нулевой столбец состоит из единиц)\n",
    "\n",
    "- $y$ — вектор целевого признака\n",
    "\n",
    "- $P$ — матрица, на которую умножаются признаки\n",
    "\n",
    "- $w$ — вектор весов линейной регрессии (нулевой элемент равен сдвигу)\n",
    "\n",
    "- $w*$ - вектор весов линейной регрессии матрицы полученной домножение исходной на обратимую матрицу(нулевой элемент равен сдвигу)\n",
    "\n",
    "- $\\hat{y}$ - предсказания по исходной матрице признаков\n",
    "\n",
    "- $\\hat{y}*$ - предсказания по матрице полученной домноженной на обратимую матрицу"
   ]
  },
  {
   "cell_type": "markdown",
   "id": "18b02db3-00de-412d-a9fd-64a81dd7f9d2",
   "metadata": {},
   "source": [
    "**Основные свойства обратной матрицы:**\n",
    "\n",
    "- $$det(A) = \\frac{1}  {det(A)} $$\n",
    "- $$(AB)^{-1} = B^{-1}A^{-1}$$ для двух квадратных обратимых матриц $A$ и $B$\n",
    "- $$(A^T)^{-1} = ((A)^{-1})^T$$\n",
    "\n",
    "**Основные свойства единичной матрицы:**\n",
    "- $$AE = EA = A$$\n",
    "- $$AA^{-1}=E$$\n",
    "\n",
    "**Сочетательное свойство матриц, ассоциативность:**\n",
    "- $$A(BC) = (AB)C$$"
   ]
  },
  {
   "cell_type": "markdown",
   "id": "64c419e3-a037-45ec-90d8-da7ac3bc39c5",
   "metadata": {},
   "source": [
    "<h4><center>Новая матрица признаков $X.dot(P)$</center></h4>  \n",
    "\n",
    "\n",
    "Предсказания:\n",
    "\n",
    "$$\n",
    "\\hat{y}* = XPw*\n",
    "$$\n",
    "\n",
    "Формула обучения:\n",
    "\n",
    "$$\n",
    "w* = ((XP)^T XP)^{-1} (XP)^T y\n",
    "$$\n",
    "\n",
    "\n",
    "Раскроем транспонирование матриц:\n",
    "$$\n",
    "w* = (P^T X^T XP)^{-1} P^TX^T y\n",
    "$$"
   ]
  },
  {
   "cell_type": "markdown",
   "id": "1c2c05a6-6b01-43fb-afbc-bb9423f318df",
   "metadata": {},
   "source": [
    "Вынесем P за скобки по свойству $(AB)^{-1} = B^{-1} A^{-1}$\n",
    "\n",
    "$$w* = P^{-1} (X^T X)^{-1} (P^T)^{-1} P^T X^T y$$\n",
    "\n",
    "Т.к. умножение матрицы на обратимую равно E, можем сократить часть $(P^T)^{-1} P^T$ до $E$ и сразу умножить на $X^T$\n",
    "\n",
    "$$w* = P^{-1} (X^T X)^{-1} X^T y$$\n",
    "\n",
    "Вспомним, что $w = (X^T X)^{-1} X^T y$ и произведем замену\n",
    "\n",
    "$$w* = P^{-1} w$$"
   ]
  },
  {
   "cell_type": "markdown",
   "id": "f1462f2d-8bfd-40d8-9dc5-2c00500563b7",
   "metadata": {},
   "source": [
    "Теперь проверим признаки\n",
    "\n",
    "Запишем формулу\n",
    "\n",
    "$$\\hat{y}* = XPw_2$$\n",
    "\n",
    "2. Подставим получившиеся значения\n",
    "\n",
    "$$\\hat{y}* = XP P^{-1} w$$\n",
    "\n",
    "3. Опять же, вспомним, что умножение на обратную матрицу даст $E$\n",
    "\n",
    "$$\\hat{y}* = Xw$$\n",
    "\n",
    "**4. Учитывая, что $\\hat{y} = Xw$, получаем:**\n",
    "\n",
    "$$\\hat{y}* = \\hat{y}$$"
   ]
  },
  {
   "cell_type": "markdown",
   "id": "571e195b-5405-4b35-a359-823ef122a2ca",
   "metadata": {},
   "source": [
    "# Алгоритм преобразования\n",
    "1. создаём случайную матрицу с помощью np.random.normal\n",
    "2. пытаемся создать матрицу обратную сгенерированной с помощью np.linalg.inv\n",
    "3. Если все успешно, то радуемся жизни\n",
    "     - 3.1. Если создать обратную матрицу не вышло и сработал обработчик ошибок np.linalg.LinAlgError генерируем новую случайную матрицу п.1\n",
    "4. создаём новую матрицу признаков с помощью функции make_new_features\n",
    "5. ищем метрики качества как для исходных признаков, так и сгенерированных\n",
    "6. делаем вывод"
   ]
  },
  {
   "cell_type": "code",
   "execution_count": 11,
   "id": "60820d02-5c95-476a-8cb2-d373ef424eb2",
   "metadata": {},
   "outputs": [
    {
     "data": {
      "text/plain": [
       "((4847, 4), (4847, 4))"
      ]
     },
     "execution_count": 11,
     "metadata": {},
     "output_type": "execute_result"
    }
   ],
   "source": [
    "# Запрограммируем этот алгоритм, применив матричные операции\n",
    "\n",
    "def generate_invertible_matrix(size):\n",
    "    try:\n",
    "        matrix = np.random.normal(size=(size, size))\n",
    "        # проверим матрицу на обратимость, если нет, пробуем сгенерировать еще раз\n",
    "        # таким образом гарантируем, что матрица стопроцентно будет обратимой\n",
    "        np.linalg.inv(matrix)\n",
    "    except np.linalg.LinAlgError:\n",
    "        matrix = generate_invertible_matrix(size)\n",
    "    \n",
    "    return matrix\n",
    "\n",
    "def make_new_features(features):\n",
    "    size = features.shape[1]\n",
    "    P = generate_invertible_matrix(size)\n",
    "    return np.matmul(features,P)\n",
    "    \n",
    "new_features = make_new_features(features)\n",
    "\n",
    "# Проверим, что все ок\n",
    "features.shape, new_features.shape"
   ]
  },
  {
   "cell_type": "code",
   "execution_count": 12,
   "id": "bd6a1032-6c43-4424-8281-8a6056e7bc52",
   "metadata": {},
   "outputs": [
    {
     "name": "stdout",
     "output_type": "stream",
     "text": [
      "R2 features =  0.4302010044852067\n",
      "R2 new_features =  0.4302010044851956\n"
     ]
    }
   ],
   "source": [
    "model = LinearRegression()\n",
    "\n",
    "model.fit(features, target)\n",
    "predict = model.predict(features)\n",
    "\n",
    "model.fit(new_features, target)\n",
    "new_predict = model.predict(new_features)\n",
    "\n",
    "# Сравним R2\n",
    "print('R2 features = ', r2_score(target, predict))\n",
    "print('R2 new_features = ', r2_score(target, new_predict))"
   ]
  },
  {
   "cell_type": "markdown",
   "id": "38f5234c-f767-4f09-87d9-b0ebc79ac4b0",
   "metadata": {},
   "source": [
    "# Вывод\n",
    "\n",
    "Мы проделали немалую работу:\n",
    "1. Данные были загружены, проверены и из них были удалены полные дубликаты.\n",
    "2. Теоретически доказали, что умножение признаков на обратимую матрицу не изменяет качества линейной регресии.\n",
    "3. Вывели функцию зависимости коэффициентов исходной и домноженной матриц  $w* = P^{-1}w$.\n",
    "4. Разработали и реализовали алгоритм проверки качества линейной регресси до и после проделанных преобразований над признаками.\n",
    "5. Убедились, что данные преобразования не влияют на ключевую метрику R2.\n",
    "\n",
    "Итогом проекта является разрабонная методика преобразования данных, препятствующая восстановлению персональной информации клиентов, но которая не влияет на качество предсказаний линейной регрессии."
   ]
  }
 ],
 "metadata": {
  "ExecuteTimeLog": [
   {
    "duration": 1652,
    "start_time": "2022-11-29T13:53:43.999Z"
   },
   {
    "duration": 127,
    "start_time": "2022-11-29T13:53:45.652Z"
   },
   {
    "duration": 13,
    "start_time": "2022-11-29T13:53:45.781Z"
   },
   {
    "duration": 21,
    "start_time": "2022-11-29T13:53:45.796Z"
   },
   {
    "duration": 21,
    "start_time": "2022-11-29T13:53:45.819Z"
   },
   {
    "duration": 4,
    "start_time": "2022-11-29T13:53:45.842Z"
   },
   {
    "duration": 21,
    "start_time": "2022-11-29T13:53:45.847Z"
   },
   {
    "duration": 19,
    "start_time": "2022-11-29T13:53:45.870Z"
   },
   {
    "duration": 10,
    "start_time": "2022-11-29T13:53:45.891Z"
   },
   {
    "duration": 20,
    "start_time": "2022-11-29T13:53:45.902Z"
   },
   {
    "duration": 153,
    "start_time": "2022-11-29T13:53:45.925Z"
   }
  ],
  "kernelspec": {
   "display_name": "Python 3 (ipykernel)",
   "language": "python",
   "name": "python3"
  },
  "language_info": {
   "codemirror_mode": {
    "name": "ipython",
    "version": 3
   },
   "file_extension": ".py",
   "mimetype": "text/x-python",
   "name": "python",
   "nbconvert_exporter": "python",
   "pygments_lexer": "ipython3",
   "version": "3.9.12"
  },
  "toc": {
   "base_numbering": 1,
   "nav_menu": {},
   "number_sections": true,
   "sideBar": true,
   "skip_h1_title": true,
   "title_cell": "Table of Contents",
   "title_sidebar": "Contents",
   "toc_cell": false,
   "toc_position": {},
   "toc_section_display": true,
   "toc_window_display": false
  }
 },
 "nbformat": 4,
 "nbformat_minor": 5
}
